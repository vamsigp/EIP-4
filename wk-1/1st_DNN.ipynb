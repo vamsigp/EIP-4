{
 "cells": [
  {
   "cell_type": "markdown",
   "metadata": {
    "colab_type": "text",
    "id": "aNyZv-Ec52ot"
   },
   "source": [
    "# **Import Libraries and modules**"
   ]
  },
  {
   "cell_type": "markdown",
   "metadata": {
    "colab_type": "text",
    "id": "NkY8k-rFzUUL"
   },
   "source": []
  },
  {
   "cell_type": "code",
   "execution_count": 1,
   "metadata": {
    "colab": {
     "base_uri": "https://localhost:8080/",
     "height": 79
    },
    "colab_type": "code",
    "id": "3m3w1Cw49Zkt",
    "outputId": "7801d11e-43a4-41ca-c093-4afb9fc4826f"
   },
   "outputs": [
    {
     "name": "stderr",
     "output_type": "stream",
     "text": [
      "WARNING: You are using pip version 19.2.3, however version 19.3.1 is available.\n",
      "You should consider upgrading via the 'python -m pip install --upgrade pip' command.\n"
     ]
    }
   ],
   "source": [
    "# https://keras.io/\n",
    "!pip install -q keras"
   ]
  },
  {
   "cell_type": "code",
   "execution_count": 2,
   "metadata": {
    "colab": {},
    "colab_type": "code",
    "id": "Eso6UHE080D4"
   },
   "outputs": [
    {
     "name": "stderr",
     "output_type": "stream",
     "text": [
      "Using TensorFlow backend.\n"
     ]
    }
   ],
   "source": [
    "import numpy as np\n",
    "\n",
    "import keras\n",
    "\n",
    "from keras.models import Sequential\n",
    "from keras.layers import Dense, Dropout, Activation, Flatten, Add\n",
    "from keras.layers import Convolution2D, MaxPooling2D, Conv2D\n",
    "from keras.utils import np_utils\n",
    "\n",
    "from keras.datasets import mnist"
   ]
  },
  {
   "cell_type": "markdown",
   "metadata": {
    "colab_type": "text",
    "id": "zByEi95J86RD"
   },
   "source": [
    "### Load pre-shuffled MNIST data into train and test sets"
   ]
  },
  {
   "cell_type": "code",
   "execution_count": 3,
   "metadata": {
    "colab": {},
    "colab_type": "code",
    "id": "7eRM0QWN83PV"
   },
   "outputs": [],
   "source": [
    "(X_train, y_train), (X_test, y_test) = mnist.load_data()"
   ]
  },
  {
   "cell_type": "code",
   "execution_count": 4,
   "metadata": {
    "colab": {
     "base_uri": "https://localhost:8080/",
     "height": 34
    },
    "colab_type": "code",
    "id": "4a4Be72j8-ZC",
    "outputId": "7a5325cc-dd99-471d-d071-cdf10d4af7b0"
   },
   "outputs": [
    {
     "name": "stdout",
     "output_type": "stream",
     "text": [
      "(60000, 28, 28)\n"
     ]
    }
   ],
   "source": [
    "print (X_train.shape)"
   ]
  },
  {
   "cell_type": "code",
   "execution_count": 5,
   "metadata": {
    "colab": {
     "base_uri": "https://localhost:8080/",
     "height": 298
    },
    "colab_type": "code",
    "id": "cfnCPvgNZ8xN",
    "outputId": "d1333bec-673c-49d6-ed33-0c4b40ff9dfa"
   },
   "outputs": [
    {
     "data": {
      "text/plain": [
       "Text(0.5,1,'6')"
      ]
     },
     "execution_count": 5,
     "metadata": {},
     "output_type": "execute_result"
    },
    {
     "data": {
      "image/png": "[encoded data removed]",
      "text/plain": [
       "<Figure size 432x288 with 1 Axes>"
      ]
     },
     "metadata": {},
     "output_type": "display_data"
    }
   ],
   "source": [
    "from matplotlib import pyplot as plt\n",
    "%matplotlib inline\n",
    "\n",
    "random_value = np.random.randint(low=0, high=len(X_train), dtype='int64')\n",
    "\n",
    "plt.imshow(X_train[random_value], cmap='gray')\n",
    "plt.title(y_train[random_value])"
   ]
  },
  {
   "cell_type": "code",
   "execution_count": 6,
   "metadata": {
    "colab": {
     "base_uri": "https://localhost:8080/",
     "height": 34
    },
    "colab_type": "code",
    "id": "xKZuJfsbamHT",
    "outputId": "d4f7b22e-046a-4820-fc85-f730323da8b6"
   },
   "outputs": [
    {
     "name": "stdout",
     "output_type": "stream",
     "text": [
      "(60000, 28, 28) (60000,) (10000, 28, 28) (10000,)\n"
     ]
    }
   ],
   "source": [
    "print(X_train.shape, y_train.shape, X_test.shape, y_test.shape)"
   ]
  },
  {
   "cell_type": "code",
   "execution_count": 7,
   "metadata": {
    "colab": {},
    "colab_type": "code",
    "id": "dkmprriw9AnZ"
   },
   "outputs": [],
   "source": [
    "X_train = X_train.reshape(X_train.shape[0], 28, 28,1)\n",
    "X_test = X_test.reshape(X_test.shape[0], 28, 28,1)"
   ]
  },
  {
   "cell_type": "code",
   "execution_count": 8,
   "metadata": {
    "colab": {
     "base_uri": "https://localhost:8080/",
     "height": 34
    },
    "colab_type": "code",
    "id": "9eLuNQL2avPO",
    "outputId": "6ea4964b-f31b-40c6-e7de-d8cf69fb85cb"
   },
   "outputs": [
    {
     "name": "stdout",
     "output_type": "stream",
     "text": [
      "(60000, 28, 28, 1) (60000,) (10000, 28, 28, 1) (10000,)\n"
     ]
    }
   ],
   "source": [
    "print(X_train.shape, y_train.shape, X_test.shape, y_test.shape)"
   ]
  },
  {
   "cell_type": "code",
   "execution_count": 9,
   "metadata": {
    "colab": {},
    "colab_type": "code",
    "id": "X2m4YS4E9CRh"
   },
   "outputs": [],
   "source": [
    "X_train = X_train.astype('float32')\n",
    "X_test = X_test.astype('float32')\n",
    "X_train /= 255\n",
    "X_test /= 255"
   ]
  },
  {
   "cell_type": "code",
   "execution_count": 10,
   "metadata": {
    "colab": {
     "base_uri": "https://localhost:8080/",
     "height": 34
    },
    "colab_type": "code",
    "id": "0Mn0vAYD9DvB",
    "outputId": "c825e378-d873-4a5b-899c-9582000b9737"
   },
   "outputs": [
    {
     "data": {
      "text/plain": [
       "array([5, 0, 4, 1, 9, 2, 1, 3, 1, 4], dtype=uint8)"
      ]
     },
     "execution_count": 10,
     "metadata": {},
     "output_type": "execute_result"
    }
   ],
   "source": [
    "y_train[:10]"
   ]
  },
  {
   "cell_type": "code",
   "execution_count": 11,
   "metadata": {
    "colab": {},
    "colab_type": "code",
    "id": "ZG8JiXR39FHC"
   },
   "outputs": [],
   "source": [
    "# Convert 1-dimensional class arrays to 10-dimensional class matrices\n",
    "Y_train = np_utils.to_categorical(y_train, 10)\n",
    "Y_test = np_utils.to_categorical(y_test, 10)"
   ]
  },
  {
   "cell_type": "code",
   "execution_count": 12,
   "metadata": {
    "colab": {
     "base_uri": "https://localhost:8080/",
     "height": 185
    },
    "colab_type": "code",
    "id": "fYlFRvKS9HMB",
    "outputId": "e8bc396f-0723-4b06-80a4-c1981d7c4da5"
   },
   "outputs": [
    {
     "data": {
      "text/plain": [
       "array([[0., 0., 0., 0., 0., 1., 0., 0., 0., 0.],\n",
       "       [1., 0., 0., 0., 0., 0., 0., 0., 0., 0.],\n",
       "       [0., 0., 0., 0., 1., 0., 0., 0., 0., 0.],\n",
       "       [0., 1., 0., 0., 0., 0., 0., 0., 0., 0.],\n",
       "       [0., 0., 0., 0., 0., 0., 0., 0., 0., 1.],\n",
       "       [0., 0., 1., 0., 0., 0., 0., 0., 0., 0.],\n",
       "       [0., 1., 0., 0., 0., 0., 0., 0., 0., 0.],\n",
       "       [0., 0., 0., 1., 0., 0., 0., 0., 0., 0.],\n",
       "       [0., 1., 0., 0., 0., 0., 0., 0., 0., 0.],\n",
       "       [0., 0., 0., 0., 1., 0., 0., 0., 0., 0.]], dtype=float32)"
      ]
     },
     "execution_count": 12,
     "metadata": {},
     "output_type": "execute_result"
    }
   ],
   "source": [
    "Y_train[:10]\n"
   ]
  },
  {
   "cell_type": "code",
   "execution_count": 14,
   "metadata": {
    "colab": {
     "base_uri": "https://localhost:8080/",
     "height": 339
    },
    "colab_type": "code",
    "id": "osKqT73Q9JJB",
    "outputId": "ff3ac70b-b7e2-4ffb-acf8-7b2692c5da27"
   },
   "outputs": [
    {
     "name": "stderr",
     "output_type": "stream",
     "text": [
      "c:\\anaconda3\\envs\\tensorflow-gpu\\lib\\site-packages\\ipykernel_launcher.py:4: UserWarning: Update your `Conv2D` call to the Keras 2 API: `Conv2D(32, (3, 3), input_shape=(28, 28, 1..., activation=\"relu\")`\n",
      "  after removing the cwd from sys.path.\n",
      "c:\\anaconda3\\envs\\tensorflow-gpu\\lib\\site-packages\\ipykernel_launcher.py:5: UserWarning: Update your `Conv2D` call to the Keras 2 API: `Conv2D(64, (3, 3), activation=\"relu\")`\n",
      "  \"\"\"\n",
      "c:\\anaconda3\\envs\\tensorflow-gpu\\lib\\site-packages\\ipykernel_launcher.py:7: UserWarning: Update your `Conv2D` call to the Keras 2 API: `Conv2D(128, (3, 3))`\n",
      "  import sys\n",
      "c:\\anaconda3\\envs\\tensorflow-gpu\\lib\\site-packages\\ipykernel_launcher.py:8: UserWarning: Update your `Conv2D` call to the Keras 2 API: `Conv2D(10, (1, 1), activation=\"relu\")`\n",
      "  \n"
     ]
    }
   ],
   "source": [
    "from keras.layers import Activation\n",
    "model_1 = Sequential()\n",
    " \n",
    "model_1.add(Convolution2D(32, 3, 3, activation='relu', input_shape=(28,28,1))) #26\n",
    "model_1.add(Convolution2D(64, 3, 3, activation='relu')) #24\n",
    "model_1.add(MaxPooling2D(pool_size=(2,2), strides=None, padding='valid')) #12\n",
    "model_1.add(Convolution2D(128, 3, 3)) # 10\n",
    "model_1.add(Convolution2D(10, 1, 1, activation='relu'))\n",
    "model_1.add(Convolution2D(10, 10))\n",
    "model_1.add(Flatten())\n",
    "model_1.add(Activation('softmax'))"
   ]
  },
  {
   "cell_type": "code",
   "execution_count": 15,
   "metadata": {
    "colab": {
     "base_uri": "https://localhost:8080/",
     "height": 454
    },
    "colab_type": "code",
    "id": "XHMJQgHnUFEE",
    "outputId": "fa7c8738-1b0b-4023-d72f-9f0df54d9d91"
   },
   "outputs": [
    {
     "name": "stdout",
     "output_type": "stream",
     "text": [
      "_________________________________________________________________\n",
      "Layer (type)                 Output Shape              Param #   \n",
      "=================================================================\n",
      "conv2d_1 (Conv2D)            (None, 26, 26, 32)        320       \n",
      "_________________________________________________________________\n",
      "conv2d_2 (Conv2D)            (None, 24, 24, 64)        18496     \n",
      "_________________________________________________________________\n",
      "max_pooling2d_1 (MaxPooling2 (None, 12, 12, 64)        0         \n",
      "_________________________________________________________________\n",
      "conv2d_3 (Conv2D)            (None, 10, 10, 128)       73856     \n",
      "_________________________________________________________________\n",
      "conv2d_4 (Conv2D)            (None, 10, 10, 10)        1290      \n",
      "_________________________________________________________________\n",
      "conv2d_5 (Conv2D)            (None, 1, 1, 10)          10010     \n",
      "_________________________________________________________________\n",
      "flatten_1 (Flatten)          (None, 10)                0         \n",
      "_________________________________________________________________\n",
      "activation_1 (Activation)    (None, 10)                0         \n",
      "=================================================================\n",
      "Total params: 103,972\n",
      "Trainable params: 103,972\n",
      "Non-trainable params: 0\n",
      "_________________________________________________________________\n"
     ]
    }
   ],
   "source": [
    "model_1.summary()"
   ]
  },
  {
   "cell_type": "code",
   "execution_count": 16,
   "metadata": {
    "colab": {
     "base_uri": "https://localhost:8080/",
     "height": 84
    },
    "colab_type": "code",
    "id": "Zp6SuGrL9M3h",
    "outputId": "11633106-ecaf-452b-c39e-33d1960c57e9"
   },
   "outputs": [],
   "source": [
    "model_1.compile(loss='categorical_crossentropy',\n",
    "             optimizer='adam',\n",
    "             metrics=['accuracy'])"
   ]
  },
  {
   "cell_type": "code",
   "execution_count": 17,
   "metadata": {
    "colab": {
     "base_uri": "https://localhost:8080/",
     "height": 1000
    },
    "colab_type": "code",
    "id": "4xWoKhPY9Of5",
    "outputId": "9a1aff83-47d7-4d36-b84f-7b31655209b1"
   },
   "outputs": [
    {
     "name": "stdout",
     "output_type": "stream",
     "text": [
      "Epoch 1/10\n",
      "60000/60000 [==============================] - 44s 736us/step - loss: 0.1407 - acc: 0.9570\n",
      "Epoch 2/10\n",
      "60000/60000 [==============================] - 40s 662us/step - loss: 0.0538 - acc: 0.9832\n",
      "Epoch 3/10\n",
      "60000/60000 [==============================] - 39s 646us/step - loss: 0.0418 - acc: 0.9869\n",
      "Epoch 4/10\n",
      "60000/60000 [==============================] - 39s 649us/step - loss: 0.0343 - acc: 0.9894\n",
      "Epoch 5/10\n",
      "60000/60000 [==============================] - 43s 712us/step - loss: 0.0278 - acc: 0.9915\n",
      "Epoch 6/10\n",
      "60000/60000 [==============================] - 45s 756us/step - loss: 0.0241 - acc: 0.9921\n",
      "Epoch 7/10\n",
      "60000/60000 [==============================] - 45s 747us/step - loss: 0.0207 - acc: 0.9936\n",
      "Epoch 8/10\n",
      "60000/60000 [==============================] - 45s 754us/step - loss: 0.0186 - acc: 0.9938\n",
      "Epoch 9/10\n",
      "60000/60000 [==============================] - 46s 760us/step - loss: 0.0160 - acc: 0.9948\n",
      "Epoch 10/10\n",
      "60000/60000 [==============================] - 45s 749us/step - loss: 0.0146 - acc: 0.9952\n"
     ]
    },
    {
     "data": {
      "text/plain": [
       "<keras.callbacks.History at 0x27784bd9be0>"
      ]
     },
     "execution_count": 17,
     "metadata": {},
     "output_type": "execute_result"
    }
   ],
   "source": [
    "model_1.fit(X_train, Y_train, batch_size=32, epochs=10, verbose=1)"
   ]
  },
  {
   "cell_type": "code",
   "execution_count": 18,
   "metadata": {
    "colab": {},
    "colab_type": "code",
    "id": "AtsH-lLk-eLb"
   },
   "outputs": [],
   "source": [
    "score = model_1.evaluate(X_test, Y_test, verbose=0)"
   ]
  },
  {
   "cell_type": "code",
   "execution_count": 19,
   "metadata": {
    "colab": {
     "base_uri": "https://localhost:8080/",
     "height": 34
    },
    "colab_type": "code",
    "id": "mkX8JMv79q9r",
    "outputId": "127d885b-0fa8-426a-feb1-f65fec8d7835"
   },
   "outputs": [
    {
     "name": "stdout",
     "output_type": "stream",
     "text": [
      "[0.04538431865724042, 0.9885]\n"
     ]
    }
   ],
   "source": [
    "print(score)"
   ]
  },
  {
   "cell_type": "markdown",
   "metadata": {
    "colab_type": "text",
    "id": "wCmsLmYVmYQ2"
   },
   "source": [
    "**with Conv2D**"
   ]
  },
  {
   "cell_type": "code",
   "execution_count": 20,
   "metadata": {
    "colab": {},
    "colab_type": "code",
    "id": "woz4AoEemRtd"
   },
   "outputs": [],
   "source": [
    "from keras.layers import Activation\n",
    "model_2 = Sequential()\n",
    "\n",
    "model_2.add(Conv2D(32, (3,3), activation='relu', input_shape=(28,28,1)))\n",
    "model_2.add(Conv2D(64, (3,3),activation='relu'))\n",
    "model_2.add(MaxPooling2D())\n",
    "model_2.add(Conv2D(128, (3,3), activation='relu'))\n",
    "model_2.add(Conv2D(10,1, activation='relu'))\n",
    "model_2.add(Conv2D(10,10))\n",
    "model_2.add(Flatten())\n",
    "model_2.add(Activation('softmax'))"
   ]
  },
  {
   "cell_type": "code",
   "execution_count": 21,
   "metadata": {
    "colab": {
     "base_uri": "https://localhost:8080/",
     "height": 420
    },
    "colab_type": "code",
    "id": "BZC-CvK2mO5g",
    "outputId": "d5b41701-fcbb-4acc-e549-e87ede27eb86"
   },
   "outputs": [
    {
     "name": "stdout",
     "output_type": "stream",
     "text": [
      "_________________________________________________________________\n",
      "Layer (type)                 Output Shape              Param #   \n",
      "=================================================================\n",
      "conv2d_6 (Conv2D)            (None, 26, 26, 32)        320       \n",
      "_________________________________________________________________\n",
      "conv2d_7 (Conv2D)            (None, 24, 24, 64)        18496     \n",
      "_________________________________________________________________\n",
      "max_pooling2d_2 (MaxPooling2 (None, 12, 12, 64)        0         \n",
      "_________________________________________________________________\n",
      "conv2d_8 (Conv2D)            (None, 10, 10, 128)       73856     \n",
      "_________________________________________________________________\n",
      "conv2d_9 (Conv2D)            (None, 10, 10, 10)        1290      \n",
      "_________________________________________________________________\n",
      "conv2d_10 (Conv2D)           (None, 1, 1, 10)          10010     \n",
      "_________________________________________________________________\n",
      "flatten_2 (Flatten)          (None, 10)                0         \n",
      "_________________________________________________________________\n",
      "activation_2 (Activation)    (None, 10)                0         \n",
      "=================================================================\n",
      "Total params: 103,972\n",
      "Trainable params: 103,972\n",
      "Non-trainable params: 0\n",
      "_________________________________________________________________\n"
     ]
    }
   ],
   "source": [
    "model_2.summary()"
   ]
  },
  {
   "cell_type": "code",
   "execution_count": 22,
   "metadata": {
    "colab": {},
    "colab_type": "code",
    "id": "IGnJt1qrmrXd"
   },
   "outputs": [],
   "source": [
    "model_2.compile(loss='categorical_crossentropy',\n",
    "             optimizer='adam',\n",
    "             metrics=['accuracy'])"
   ]
  },
  {
   "cell_type": "code",
   "execution_count": 23,
   "metadata": {
    "colab": {
     "base_uri": "https://localhost:8080/",
     "height": 370
    },
    "colab_type": "code",
    "id": "6N2haYsKmr96",
    "outputId": "978a057c-0603-4e12-812d-6d8bfd86fd28"
   },
   "outputs": [
    {
     "name": "stdout",
     "output_type": "stream",
     "text": [
      "Epoch 1/10\n",
      "60000/60000 [==============================] - 41s 689us/step - loss: 0.1384 - acc: 0.9589\n",
      "Epoch 2/10\n",
      "60000/60000 [==============================] - 42s 699us/step - loss: 0.0487 - acc: 0.9850\n",
      "Epoch 3/10\n",
      "60000/60000 [==============================] - 46s 761us/step - loss: 0.0352 - acc: 0.9889\n",
      "Epoch 4/10\n",
      "60000/60000 [==============================] - 45s 758us/step - loss: 0.0275 - acc: 0.9912\n",
      "Epoch 5/10\n",
      "60000/60000 [==============================] - 42s 707us/step - loss: 0.0226 - acc: 0.9927\n",
      "Epoch 6/10\n",
      "60000/60000 [==============================] - 42s 705us/step - loss: 0.0181 - acc: 0.9941\n",
      "Epoch 7/10\n",
      "60000/60000 [==============================] - 46s 772us/step - loss: 0.0147 - acc: 0.9952\n",
      "Epoch 8/10\n",
      "60000/60000 [==============================] - 45s 757us/step - loss: 0.0125 - acc: 0.9959\n",
      "Epoch 9/10\n",
      "60000/60000 [==============================] - 46s 767us/step - loss: 0.0108 - acc: 0.9965\n",
      "Epoch 10/10\n",
      "60000/60000 [==============================] - 46s 762us/step - loss: 0.0106 - acc: 0.9966\n"
     ]
    },
    {
     "data": {
      "text/plain": [
       "<keras.callbacks.History at 0x277f3a2fcf8>"
      ]
     },
     "execution_count": 23,
     "metadata": {},
     "output_type": "execute_result"
    }
   ],
   "source": [
    "model_2.fit(X_train, Y_train, batch_size=32, epochs=10, verbose=1)"
   ]
  },
  {
   "cell_type": "code",
   "execution_count": 24,
   "metadata": {
    "colab": {
     "base_uri": "https://localhost:8080/",
     "height": 34
    },
    "colab_type": "code",
    "id": "jL2fVP2ymukj",
    "outputId": "e6790244-d4d9-4b64-e233-08cf30020416"
   },
   "outputs": [
    {
     "name": "stdout",
     "output_type": "stream",
     "text": [
      "[0.03603878167783701, 0.991]\n"
     ]
    }
   ],
   "source": [
    "score_2 = model_2.evaluate(X_test, Y_test, verbose=0)\n",
    "print(score_2)"
   ]
  },
  {
   "cell_type": "code",
   "execution_count": null,
   "metadata": {
    "colab": {},
    "colab_type": "code",
    "id": "QKGVck9gm21U"
   },
   "outputs": [],
   "source": []
  },
  {
   "cell_type": "code",
   "execution_count": 29,
   "metadata": {
    "colab": {},
    "colab_type": "code",
    "id": "tfMo2Llum2rP"
   },
   "outputs": [],
   "source": [
    "from keras.layers import Activation\n",
    "model_3 = Sequential()\n",
    "\n",
    "model_3.add(Conv2D(32, (3,3), activation='relu', input_shape=(28,28,1))) #26\n",
    "model_3.add(Conv2D(64, (3,3),activation='relu')) # 24\n",
    "model_3.add(MaxPooling2D()) #12\n",
    "model_3.add(Conv2D(128, (3,3), activation='relu')) #10\n",
    "model_3.add(Conv2D(256, (3,3), activation='relu', padding='valid')) # 8\n",
    "model_3.add(Conv2D(10,1, activation='relu'))\n",
    "model_3.add(Conv2D(10,8))\n",
    "model_3.add(Flatten())\n",
    "model_3.add(Activation('softmax'))"
   ]
  },
  {
   "cell_type": "code",
   "execution_count": 30,
   "metadata": {},
   "outputs": [
    {
     "name": "stdout",
     "output_type": "stream",
     "text": [
      "_________________________________________________________________\n",
      "Layer (type)                 Output Shape              Param #   \n",
      "=================================================================\n",
      "conv2d_17 (Conv2D)           (None, 26, 26, 32)        320       \n",
      "_________________________________________________________________\n",
      "conv2d_18 (Conv2D)           (None, 24, 24, 64)        18496     \n",
      "_________________________________________________________________\n",
      "max_pooling2d_4 (MaxPooling2 (None, 12, 12, 64)        0         \n",
      "_________________________________________________________________\n",
      "conv2d_19 (Conv2D)           (None, 10, 10, 128)       73856     \n",
      "_________________________________________________________________\n",
      "conv2d_20 (Conv2D)           (None, 8, 8, 256)         295168    \n",
      "_________________________________________________________________\n",
      "conv2d_21 (Conv2D)           (None, 8, 8, 10)          2570      \n",
      "_________________________________________________________________\n",
      "conv2d_22 (Conv2D)           (None, 1, 1, 10)          6410      \n",
      "_________________________________________________________________\n",
      "flatten_4 (Flatten)          (None, 10)                0         \n",
      "_________________________________________________________________\n",
      "activation_4 (Activation)    (None, 10)                0         \n",
      "=================================================================\n",
      "Total params: 396,820\n",
      "Trainable params: 396,820\n",
      "Non-trainable params: 0\n",
      "_________________________________________________________________\n"
     ]
    }
   ],
   "source": [
    "model_3.summary()"
   ]
  },
  {
   "cell_type": "code",
   "execution_count": 31,
   "metadata": {},
   "outputs": [],
   "source": [
    "model_3.compile(loss='categorical_crossentropy',\n",
    "             optimizer='adam',\n",
    "             metrics=['accuracy'])"
   ]
  },
  {
   "cell_type": "code",
   "execution_count": 32,
   "metadata": {},
   "outputs": [
    {
     "name": "stdout",
     "output_type": "stream",
     "text": [
      "Epoch 1/10\n",
      "60000/60000 [==============================] - 59s 979us/step - loss: 0.1426 - acc: 0.9568\n",
      "Epoch 2/10\n",
      "60000/60000 [==============================] - 56s 932us/step - loss: 0.0482 - acc: 0.9852\n",
      "Epoch 3/10\n",
      "60000/60000 [==============================] - 53s 876us/step - loss: 0.0360 - acc: 0.9890\n",
      "Epoch 4/10\n",
      "60000/60000 [==============================] - 53s 876us/step - loss: 0.0271 - acc: 0.9916\n",
      "Epoch 5/10\n",
      "60000/60000 [==============================] - 53s 891us/step - loss: 0.0210 - acc: 0.9930\n",
      "Epoch 6/10\n",
      "60000/60000 [==============================] - 54s 902us/step - loss: 0.0187 - acc: 0.9943\n",
      "Epoch 7/10\n",
      "60000/60000 [==============================] - 53s 890us/step - loss: 0.0142 - acc: 0.9956\n",
      "Epoch 8/10\n",
      "60000/60000 [==============================] - 56s 933us/step - loss: 0.0136 - acc: 0.9958\n",
      "Epoch 9/10\n",
      "60000/60000 [==============================] - 56s 931us/step - loss: 0.0101 - acc: 0.99680s - loss: 0.0101 - acc: 0.99\n",
      "Epoch 10/10\n",
      "60000/60000 [==============================] - 54s 899us/step - loss: 0.0105 - acc: 0.9969\n"
     ]
    },
    {
     "data": {
      "text/plain": [
       "<keras.callbacks.History at 0x2782dddc940>"
      ]
     },
     "execution_count": 32,
     "metadata": {},
     "output_type": "execute_result"
    }
   ],
   "source": [
    "model_3.fit(X_train, Y_train, batch_size=32, epochs=10, verbose=1)"
   ]
  },
  {
   "cell_type": "code",
   "execution_count": 33,
   "metadata": {},
   "outputs": [
    {
     "name": "stdout",
     "output_type": "stream",
     "text": [
      "[0.030738177143923347, 0.991]\n"
     ]
    }
   ],
   "source": [
    "score_3 = model_3.evaluate(X_test, Y_test, verbose=0)\n",
    "print(score_3)"
   ]
  },
  {
   "cell_type": "code",
   "execution_count": null,
   "metadata": {},
   "outputs": [],
   "source": []
  },
  {
   "cell_type": "code",
   "execution_count": null,
   "metadata": {
    "colab": {},
    "colab_type": "code",
    "id": "xp7HpWblm2b1"
   },
   "outputs": [],
   "source": []
  },
  {
   "cell_type": "code",
   "execution_count": 34,
   "metadata": {
    "colab": {},
    "colab_type": "code",
    "id": "OCWoJkwE9suh"
   },
   "outputs": [],
   "source": [
    "y_pred = model_2.predict(X_test)"
   ]
  },
  {
   "cell_type": "code",
   "execution_count": 35,
   "metadata": {
    "colab": {
     "base_uri": "https://localhost:8080/",
     "height": 487
    },
    "colab_type": "code",
    "id": "Ym7iCFBm9uBs",
    "outputId": "ecbc81f9-e5fc-4204-e252-e70ef905c067"
   },
   "outputs": [
    {
     "name": "stdout",
     "output_type": "stream",
     "text": [
      "[[7.54457464e-14 2.02023266e-15 8.96025545e-11 9.16171761e-09\n",
      "  4.99805429e-19 2.37847021e-14 8.30968513e-27 1.00000000e+00\n",
      "  1.83737315e-16 6.88497740e-12]\n",
      " [1.53979121e-14 1.06041830e-13 1.00000000e+00 4.16728457e-16\n",
      "  1.26723057e-18 1.34051812e-23 6.72403146e-14 3.99496312e-19\n",
      "  1.78945570e-14 2.10431833e-23]\n",
      " [6.94254073e-12 9.99994636e-01 1.33565020e-10 2.22495980e-10\n",
      "  3.08572703e-06 1.60294322e-09 1.04317444e-09 2.30682895e-06\n",
      "  2.59684718e-08 3.60108319e-12]\n",
      " [1.00000000e+00 9.27164725e-19 1.52526686e-10 4.45212680e-14\n",
      "  2.20453030e-14 2.34320159e-12 1.77523081e-08 3.72290089e-14\n",
      "  7.87976351e-09 1.66598436e-11]\n",
      " [6.97215477e-16 1.18664225e-14 8.43915823e-12 7.77328912e-15\n",
      "  9.99999881e-01 2.28931697e-17 1.40773406e-12 3.39056908e-13\n",
      "  8.81746898e-11 1.18234709e-07]\n",
      " [4.18167291e-13 9.99969959e-01 5.38801226e-10 2.28661100e-11\n",
      "  1.03839138e-05 9.61891157e-12 1.19258726e-11 1.96075416e-05\n",
      "  3.78097873e-08 1.06187767e-10]\n",
      " [2.81145962e-22 2.39953901e-09 2.55152166e-08 4.19195616e-11\n",
      "  9.99993205e-01 7.83173613e-12 1.01563680e-14 1.34956251e-08\n",
      "  3.44710634e-06 3.40440010e-06]\n",
      " [5.97017673e-16 7.85223801e-14 1.98762873e-08 2.57823762e-09\n",
      "  4.51559771e-07 1.22646268e-10 9.52089583e-17 1.82975206e-12\n",
      "  7.45457085e-10 9.99999523e-01]\n",
      " [1.02228110e-14 2.75088185e-26 1.93544614e-15 4.77138619e-13\n",
      "  3.50567788e-18 9.99521852e-01 4.68325277e-04 2.46346342e-22\n",
      "  9.91858178e-06 3.00510450e-10]]\n",
      "[7 2 1 0 4 1 4 9 5]\n"
     ]
    }
   ],
   "source": [
    "print(y_pred[:9])\n",
    "print(y_test[:9])"
   ]
  },
  {
   "cell_type": "code",
   "execution_count": 36,
   "metadata": {
    "colab": {
     "base_uri": "https://localhost:8080/",
     "height": 50
    },
    "colab_type": "code",
    "id": "ynoJ8Qumqk8S",
    "outputId": "1ec51be9-7cfb-4b46-fe8a-a964df97d6cf"
   },
   "outputs": [
    {
     "name": "stdout",
     "output_type": "stream",
     "text": [
      "[7, 2, 1, 0, 4, 1, 4, 9, 5]\n",
      "[7 2 1 0 4 1 4 9 5]\n"
     ]
    }
   ],
   "source": [
    "pred_arr = list(np.argmax(arr) for arr in y_pred[:9])\n",
    "\n",
    "print(pred_arr)\n",
    "print(y_test[:9])"
   ]
  },
  {
   "cell_type": "code",
   "execution_count": null,
   "metadata": {
    "colab": {},
    "colab_type": "code",
    "id": "3Yi2CxuwqngP"
   },
   "outputs": [],
   "source": []
  },
  {
   "cell_type": "code",
   "execution_count": 38,
   "metadata": {
    "colab": {},
    "colab_type": "code",
    "id": "CT--y98_dr2T"
   },
   "outputs": [],
   "source": [
    "layer_dict = dict([(layer.name, layer) for layer in model_2.layers])"
   ]
  },
  {
   "cell_type": "code",
   "execution_count": 39,
   "metadata": {},
   "outputs": [
    {
     "data": {
      "text/plain": [
       "dict_keys(['conv2d_8', 'flatten_2', 'conv2d_9', 'conv2d_7', 'conv2d_6', 'max_pooling2d_2', 'activation_2', 'conv2d_10'])"
      ]
     },
     "execution_count": 39,
     "metadata": {},
     "output_type": "execute_result"
    }
   ],
   "source": [
    "layer_dict.keys()"
   ]
  },
  {
   "cell_type": "code",
   "execution_count": 42,
   "metadata": {
    "colab": {},
    "colab_type": "code",
    "id": "2GY4Upv4dsUR"
   },
   "outputs": [],
   "source": [
    "import numpy as np\n",
    "from matplotlib import pyplot as plt\n",
    "from keras import backend as K\n",
    "%matplotlib inline\n",
    "# util function to convert a tensor into a valid image\n",
    "def deprocess_image(x):\n",
    "    # normalize tensor: center on 0., ensure std is 0.1\n",
    "    x -= x.mean()\n",
    "    x /= (x.std() + 1e-5)\n",
    "    x *= 0.1\n",
    "\n",
    "    # clip to [0, 1]\n",
    "    x += 0.5\n",
    "    x = np.clip(x, 0, 1)\n",
    "\n",
    "    # convert to RGB array\n",
    "    x *= 255\n",
    "    #x = x.transpose((1, 2, 0))\n",
    "    x = np.clip(x, 0, 255).astype('uint8')\n",
    "    return x\n",
    "\n",
    "def vis_img_in_filter(img = np.array(X_train[5]).reshape((1, 28, 28, 1)).astype(np.float64), \n",
    "                      layer_name = 'conv2d_14'):\n",
    "    layer_output = layer_dict[layer_name].output\n",
    "    img_ascs = list()\n",
    "    for filter_index in range(layer_output.shape[3]):\n",
    "        # build a loss function that maximizes the activation\n",
    "        # of the nth filter of the layer considered\n",
    "        loss = K.mean(layer_output[:, :, :, filter_index])\n",
    "\n",
    "        # compute the gradient of the input picture wrt this loss\n",
    "        grads = K.gradients(loss, model_2.input)[0]\n",
    "\n",
    "        # normalization trick: we normalize the gradient\n",
    "        grads /= (K.sqrt(K.mean(K.square(grads))) + 1e-5)\n",
    "\n",
    "        # this function returns the loss and grads given the input picture\n",
    "        iterate = K.function([model_2.input], [loss, grads])\n",
    "\n",
    "        # step size for gradient ascent\n",
    "        step = 5.\n",
    "\n",
    "        img_asc = np.array(img)\n",
    "        # run gradient ascent for 20 steps\n",
    "        for i in range(20):\n",
    "            loss_value, grads_value = iterate([img_asc])\n",
    "            img_asc += grads_value * step\n",
    "\n",
    "        img_asc = img_asc[0]\n",
    "        img_ascs.append(deprocess_image(img_asc).reshape((28, 28)))\n",
    "        \n",
    "    if layer_output.shape[3] >= 35:\n",
    "        plot_x, plot_y = 6, 6\n",
    "    elif layer_output.shape[3] >= 23:\n",
    "        plot_x, plot_y = 4, 6\n",
    "    elif layer_output.shape[3] >= 11:\n",
    "        plot_x, plot_y = 2, 6\n",
    "    else:\n",
    "        plot_x, plot_y = 1, 2\n",
    "    fig, ax = plt.subplots(plot_x, plot_y, figsize = (12, 12))\n",
    "    ax[0, 0].imshow(img.reshape((28, 28)), cmap = 'gray')\n",
    "    ax[0, 0].set_title('Input image')\n",
    "    fig.suptitle('Input image and %s filters' % (layer_name,))\n",
    "    fig.tight_layout(pad = 0.3, rect = [0, 0, 0.9, 0.9])\n",
    "    for (x, y) in [(i, j) for i in range(plot_x) for j in range(plot_y)]:\n",
    "        if x == 0 and y == 0:\n",
    "            continue\n",
    "        ax[x, y].imshow(img_ascs[x * plot_y + y - 1], cmap = 'gray')\n",
    "        ax[x, y].set_title('filter %d' % (x * plot_y + y - 1))"
   ]
  },
  {
   "cell_type": "code",
   "execution_count": null,
   "metadata": {
    "colab": {},
    "colab_type": "code",
    "id": "bw8nmtxSzuXa"
   },
   "outputs": [],
   "source": []
  },
  {
   "cell_type": "code",
   "execution_count": 43,
   "metadata": {
    "colab": {},
    "colab_type": "code",
    "id": "acT7x8MErj25"
   },
   "outputs": [
    {
     "data": {
      "image/png": "[encoded data removed]",
      "text/plain": [
       "<Figure size 864x864 with 36 Axes>"
      ]
     },
     "metadata": {},
     "output_type": "display_data"
    }
   ],
   "source": [
    "vis_img_in_filter(layer_name='conv2d_8')"
   ]
  },
  {
   "cell_type": "code",
   "execution_count": null,
   "metadata": {},
   "outputs": [],
   "source": []
  }
 ],
 "metadata": {
  "accelerator": "GPU",
  "colab": {
   "collapsed_sections": [],
   "name": "1st DNN.ipynb",
   "provenance": []
  },
  "kernelspec": {
   "display_name": "Python 3",
   "language": "python",
   "name": "python3"
  },
  "language_info": {
   "codemirror_mode": {
    "name": "ipython",
    "version": 3
   },
   "file_extension": ".py",
   "mimetype": "text/x-python",
   "name": "python",
   "nbconvert_exporter": "python",
   "pygments_lexer": "ipython3",
   "version": "3.5.2"
  }
 },
 "nbformat": 4,
 "nbformat_minor": 1
}
