{
 "cells": [
  {
   "cell_type": "markdown",
   "metadata": {
    "colab_type": "text",
    "id": "aNyZv-Ec52ot"
   },
   "source": [
    "# **Import Libraries and modules**"
   ]
  },
  {
   "cell_type": "markdown",
   "metadata": {
    "colab_type": "text",
    "id": "NkY8k-rFzUUL"
   },
   "source": [
    "MNIST - Using DNN\n",
    "\n",
    "- In the following, i tried to achieve Testing/Evaluation accuracy of atleast 99% using the Deep Neural Network.\n",
    "- Below is the network that achieved 99% accuracy\n",
    "- Trails which i attempted are listed in the Trails section"
   ]
  },
  {
   "cell_type": "code",
   "execution_count": 1,
   "metadata": {
    "colab": {},
    "colab_type": "code",
    "id": "3m3w1Cw49Zkt"
   },
   "outputs": [
    {
     "name": "stderr",
     "output_type": "stream",
     "text": [
      "WARNING: You are using pip version 19.2.3, however version 19.3.1 is available.\n",
      "You should consider upgrading via the 'python -m pip install --upgrade pip' command.\n"
     ]
    }
   ],
   "source": [
    "# https://keras.io/\n",
    "!pip install -q keras"
   ]
  },
  {
   "cell_type": "code",
   "execution_count": 2,
   "metadata": {
    "colab": {},
    "colab_type": "code",
    "id": "Eso6UHE080D4"
   },
   "outputs": [
    {
     "name": "stderr",
     "output_type": "stream",
     "text": [
      "Using TensorFlow backend.\n"
     ]
    }
   ],
   "source": [
    "import keras\n",
    "\n",
    "import numpy as np\n",
    "\n",
    "from keras.models import Sequential\n",
    "from keras.layers import Dense, Dropout, Activation, Flatten, Add\n",
    "from keras.layers import Convolution2D, MaxPooling2D, Conv2D\n",
    "from keras.utils import np_utils\n",
    "\n",
    "from keras.datasets import mnist"
   ]
  },
  {
   "cell_type": "code",
   "execution_count": 3,
   "metadata": {
    "colab": {
     "base_uri": "https://localhost:8080/",
     "height": 34
    },
    "colab_type": "code",
    "id": "bbr9TbFlupsx",
    "outputId": "1691d1df-5849-42a4-abaa-ab04ac166f22"
   },
   "outputs": [
    {
     "name": "stdout",
     "output_type": "stream",
     "text": [
      "2.2.2\n"
     ]
    }
   ],
   "source": [
    "print(keras.__version__)"
   ]
  },
  {
   "cell_type": "markdown",
   "metadata": {
    "colab_type": "text",
    "id": "zByEi95J86RD"
   },
   "source": [
    "### Load pre-shuffled MNIST data into train and test sets"
   ]
  },
  {
   "cell_type": "code",
   "execution_count": 4,
   "metadata": {
    "colab": {},
    "colab_type": "code",
    "id": "7eRM0QWN83PV"
   },
   "outputs": [],
   "source": [
    "(X_train, y_train), (X_test, y_test) = mnist.load_data()"
   ]
  },
  {
   "cell_type": "code",
   "execution_count": 5,
   "metadata": {
    "colab": {
     "base_uri": "https://localhost:8080/",
     "height": 34
    },
    "colab_type": "code",
    "id": "4a4Be72j8-ZC",
    "outputId": "64cf0ddb-1701-4e6b-c730-3e94273f075b"
   },
   "outputs": [
    {
     "name": "stdout",
     "output_type": "stream",
     "text": [
      "(60000, 28, 28)\n"
     ]
    }
   ],
   "source": [
    "print (X_train.shape)"
   ]
  },
  {
   "cell_type": "code",
   "execution_count": 6,
   "metadata": {
    "colab": {
     "base_uri": "https://localhost:8080/",
     "height": 298
    },
    "colab_type": "code",
    "id": "cfnCPvgNZ8xN",
    "outputId": "19f7e0d8-d854-4c05-cc52-35010b4bd514"
   },
   "outputs": [
    {
     "data": {
      "text/plain": [
       "Text(0.5,1,'3')"
      ]
     },
     "execution_count": 6,
     "metadata": {},
     "output_type": "execute_result"
    },
    {
     "data": {
      "image/png": "[encoded data removed]",
      "text/plain": [
       "<Figure size 432x288 with 1 Axes>"
      ]
     },
     "metadata": {},
     "output_type": "display_data"
    }
   ],
   "source": [
    "from matplotlib import pyplot as plt\n",
    "%matplotlib inline\n",
    "\n",
    "random_value = np.random.randint(low=0, high=len(X_train), dtype='int64')\n",
    "\n",
    "plt.imshow(X_train[random_value], cmap='gray')\n",
    "plt.title(y_train[random_value])"
   ]
  },
  {
   "cell_type": "code",
   "execution_count": 7,
   "metadata": {
    "colab": {
     "base_uri": "https://localhost:8080/",
     "height": 34
    },
    "colab_type": "code",
    "id": "xKZuJfsbamHT",
    "outputId": "de0a8e39-facf-4320-fdea-8f1f8539fad1"
   },
   "outputs": [
    {
     "name": "stdout",
     "output_type": "stream",
     "text": [
      "(60000, 28, 28) (60000,) (10000, 28, 28) (10000,)\n"
     ]
    }
   ],
   "source": [
    "print(X_train.shape, y_train.shape, X_test.shape, y_test.shape)"
   ]
  },
  {
   "cell_type": "code",
   "execution_count": 8,
   "metadata": {
    "colab": {},
    "colab_type": "code",
    "id": "dkmprriw9AnZ"
   },
   "outputs": [],
   "source": [
    "X_train = X_train.reshape(X_train.shape[0], 28, 28,1)\n",
    "X_test = X_test.reshape(X_test.shape[0], 28, 28,1)"
   ]
  },
  {
   "cell_type": "code",
   "execution_count": 9,
   "metadata": {
    "colab": {
     "base_uri": "https://localhost:8080/",
     "height": 34
    },
    "colab_type": "code",
    "id": "9eLuNQL2avPO",
    "outputId": "8323d489-8e51-4c30-ac2b-6ebc73aa3364"
   },
   "outputs": [
    {
     "name": "stdout",
     "output_type": "stream",
     "text": [
      "(60000, 28, 28, 1) (60000,) (10000, 28, 28, 1) (10000,)\n"
     ]
    }
   ],
   "source": [
    "print(X_train.shape, y_train.shape, X_test.shape, y_test.shape)"
   ]
  },
  {
   "cell_type": "code",
   "execution_count": 10,
   "metadata": {
    "colab": {},
    "colab_type": "code",
    "id": "X2m4YS4E9CRh"
   },
   "outputs": [],
   "source": [
    "X_train = X_train.astype('float32')\n",
    "X_test = X_test.astype('float32')\n",
    "X_train /= 255\n",
    "X_test /= 255"
   ]
  },
  {
   "cell_type": "code",
   "execution_count": 11,
   "metadata": {
    "colab": {
     "base_uri": "https://localhost:8080/",
     "height": 34
    },
    "colab_type": "code",
    "id": "0Mn0vAYD9DvB",
    "outputId": "223d1b27-4233-4301-bbf0-695728e37973"
   },
   "outputs": [
    {
     "data": {
      "text/plain": [
       "array([5, 0, 4, 1, 9, 2, 1, 3, 1, 4], dtype=uint8)"
      ]
     },
     "execution_count": 11,
     "metadata": {},
     "output_type": "execute_result"
    }
   ],
   "source": [
    "y_train[:10]"
   ]
  },
  {
   "cell_type": "code",
   "execution_count": 12,
   "metadata": {
    "colab": {},
    "colab_type": "code",
    "id": "ZG8JiXR39FHC"
   },
   "outputs": [],
   "source": [
    "# Convert 1-dimensional class arrays to 10-dimensional class matrices\n",
    "Y_train = np_utils.to_categorical(y_train, 10)\n",
    "Y_test = np_utils.to_categorical(y_test, 10)"
   ]
  },
  {
   "cell_type": "code",
   "execution_count": 13,
   "metadata": {
    "colab": {
     "base_uri": "https://localhost:8080/",
     "height": 185
    },
    "colab_type": "code",
    "id": "fYlFRvKS9HMB",
    "outputId": "4a0dbfaf-683e-4f2f-87d2-564809916fc1"
   },
   "outputs": [
    {
     "data": {
      "text/plain": [
       "array([[0., 0., 0., 0., 0., 1., 0., 0., 0., 0.],\n",
       "       [1., 0., 0., 0., 0., 0., 0., 0., 0., 0.],\n",
       "       [0., 0., 0., 0., 1., 0., 0., 0., 0., 0.],\n",
       "       [0., 1., 0., 0., 0., 0., 0., 0., 0., 0.],\n",
       "       [0., 0., 0., 0., 0., 0., 0., 0., 0., 1.],\n",
       "       [0., 0., 1., 0., 0., 0., 0., 0., 0., 0.],\n",
       "       [0., 1., 0., 0., 0., 0., 0., 0., 0., 0.],\n",
       "       [0., 0., 0., 1., 0., 0., 0., 0., 0., 0.],\n",
       "       [0., 1., 0., 0., 0., 0., 0., 0., 0., 0.],\n",
       "       [0., 0., 0., 0., 1., 0., 0., 0., 0., 0.]], dtype=float32)"
      ]
     },
     "execution_count": 13,
     "metadata": {},
     "output_type": "execute_result"
    }
   ],
   "source": [
    "Y_train[:10]\n"
   ]
  },
  {
   "cell_type": "markdown",
   "metadata": {
    "colab_type": "text",
    "id": "T4mj4OmqtDYw"
   },
   "source": [
    "Below is the model which achieved 99% accuracy on the Test data"
   ]
  },
  {
   "cell_type": "code",
   "execution_count": 14,
   "metadata": {
    "colab": {},
    "colab_type": "code",
    "id": "AidB_35rmHmX"
   },
   "outputs": [],
   "source": [
    "from keras.layers import Activation\n",
    "model = Sequential()\n",
    " \n",
    "model.add(Conv2D(32, (3, 3), activation='relu', input_shape=(28,28,1))) #26\n",
    "model.add(Conv2D(64, (3, 3), activation='relu')) #24\n",
    "model.add(MaxPooling2D(pool_size=(2,2), strides=None, padding='valid')) #12\n",
    "model.add(Conv2D(128, (3, 3))) # 10\n",
    "model.add(Conv2D(256, (3, 3))) # 8\n",
    "model.add(MaxPooling2D(pool_size=(2,2), strides=None, padding='valid')) #4\n",
    "model.add(Conv2D(10, (1, 1), activation='relu'))\n",
    "model.add(Conv2D(10, 4))\n",
    "model.add(Flatten())\n",
    "model.add(Activation('softmax'))"
   ]
  },
  {
   "cell_type": "code",
   "execution_count": 15,
   "metadata": {
    "colab": {
     "base_uri": "https://localhost:8080/",
     "height": 487
    },
    "colab_type": "code",
    "id": "XHMJQgHnUFEE",
    "outputId": "a9b4cd1a-f39a-48d1-e4ed-525c9f0f6af5"
   },
   "outputs": [
    {
     "name": "stdout",
     "output_type": "stream",
     "text": [
      "_________________________________________________________________\n",
      "Layer (type)                 Output Shape              Param #   \n",
      "=================================================================\n",
      "conv2d_1 (Conv2D)            (None, 26, 26, 32)        320       \n",
      "_________________________________________________________________\n",
      "conv2d_2 (Conv2D)            (None, 24, 24, 64)        18496     \n",
      "_________________________________________________________________\n",
      "max_pooling2d_1 (MaxPooling2 (None, 12, 12, 64)        0         \n",
      "_________________________________________________________________\n",
      "conv2d_3 (Conv2D)            (None, 10, 10, 128)       73856     \n",
      "_________________________________________________________________\n",
      "conv2d_4 (Conv2D)            (None, 8, 8, 256)         295168    \n",
      "_________________________________________________________________\n",
      "max_pooling2d_2 (MaxPooling2 (None, 4, 4, 256)         0         \n",
      "_________________________________________________________________\n",
      "conv2d_5 (Conv2D)            (None, 4, 4, 10)          2570      \n",
      "_________________________________________________________________\n",
      "conv2d_6 (Conv2D)            (None, 1, 1, 10)          1610      \n",
      "_________________________________________________________________\n",
      "flatten_1 (Flatten)          (None, 10)                0         \n",
      "_________________________________________________________________\n",
      "activation_1 (Activation)    (None, 10)                0         \n",
      "=================================================================\n",
      "Total params: 392,020\n",
      "Trainable params: 392,020\n",
      "Non-trainable params: 0\n",
      "_________________________________________________________________\n"
     ]
    }
   ],
   "source": [
    "model.summary()"
   ]
  },
  {
   "cell_type": "code",
   "execution_count": 16,
   "metadata": {
    "colab": {},
    "colab_type": "code",
    "id": "Zp6SuGrL9M3h"
   },
   "outputs": [],
   "source": [
    "model.compile(loss='categorical_crossentropy',\n",
    "             optimizer='adam',\n",
    "             metrics=['accuracy'])"
   ]
  },
  {
   "cell_type": "code",
   "execution_count": 17,
   "metadata": {
    "colab": {
     "base_uri": "https://localhost:8080/",
     "height": 370
    },
    "colab_type": "code",
    "id": "4xWoKhPY9Of5",
    "outputId": "e8ad43de-78c1-4895-badd-9bdc0f914ede"
   },
   "outputs": [
    {
     "name": "stdout",
     "output_type": "stream",
     "text": [
      "Epoch 1/10\n",
      "60000/60000 [==============================] - 42s 693us/step - loss: 0.1557 - acc: 0.9507\n",
      "Epoch 2/10\n",
      "60000/60000 [==============================] - 41s 681us/step - loss: 0.0588 - acc: 0.9817\n",
      "Epoch 3/10\n",
      "60000/60000 [==============================] - 41s 681us/step - loss: 0.0465 - acc: 0.9854\n",
      "Epoch 4/10\n",
      "60000/60000 [==============================] - 41s 684us/step - loss: 0.0374 - acc: 0.9883\n",
      "Epoch 5/10\n",
      "60000/60000 [==============================] - 41s 683us/step - loss: 0.0333 - acc: 0.9895\n",
      "Epoch 6/10\n",
      "60000/60000 [==============================] - 41s 684us/step - loss: 0.0295 - acc: 0.9905\n",
      "Epoch 7/10\n",
      "60000/60000 [==============================] - 41s 687us/step - loss: 0.0261 - acc: 0.9920\n",
      "Epoch 8/10\n",
      "60000/60000 [==============================] - 41s 685us/step - loss: 0.0246 - acc: 0.9920\n",
      "Epoch 9/10\n",
      "60000/60000 [==============================] - 41s 686us/step - loss: 0.0227 - acc: 0.9931\n",
      "Epoch 10/10\n",
      "60000/60000 [==============================] - 41s 685us/step - loss: 0.0198 - acc: 0.9935\n"
     ]
    },
    {
     "data": {
      "text/plain": [
       "<keras.callbacks.History at 0x1b98506c128>"
      ]
     },
     "execution_count": 17,
     "metadata": {},
     "output_type": "execute_result"
    }
   ],
   "source": [
    "model.fit(X_train, Y_train, batch_size=32, epochs=10, verbose=1)"
   ]
  },
  {
   "cell_type": "code",
   "execution_count": 18,
   "metadata": {
    "colab": {
     "base_uri": "https://localhost:8080/",
     "height": 34
    },
    "colab_type": "code",
    "id": "AtsH-lLk-eLb",
    "outputId": "0fd2a6ad-5ad7-4a8b-8547-5a51b65f8e45"
   },
   "outputs": [
    {
     "name": "stdout",
     "output_type": "stream",
     "text": [
      "[0.04624181559107301, 0.9882]\n"
     ]
    }
   ],
   "source": [
    "score = model.evaluate(X_test, Y_test, verbose=0)\n",
    "print(score)"
   ]
  },
  {
   "cell_type": "code",
   "execution_count": 19,
   "metadata": {
    "colab": {
     "base_uri": "https://localhost:8080/",
     "height": 34
    },
    "colab_type": "code",
    "id": "mkX8JMv79q9r",
    "outputId": "6cec0e60-3b42-40d3-c656-40483e694c93"
   },
   "outputs": [
    {
     "name": "stdout",
     "output_type": "stream",
     "text": [
      "[0.04624181559107301, 0.9882]\n"
     ]
    }
   ],
   "source": [
    "print(score)"
   ]
  },
  {
   "cell_type": "code",
   "execution_count": 20,
   "metadata": {
    "colab": {},
    "colab_type": "code",
    "id": "OCWoJkwE9suh"
   },
   "outputs": [],
   "source": [
    "y_pred = model.predict(X_test)"
   ]
  },
  {
   "cell_type": "code",
   "execution_count": 21,
   "metadata": {
    "colab": {
     "base_uri": "https://localhost:8080/",
     "height": 336
    },
    "colab_type": "code",
    "id": "Ym7iCFBm9uBs",
    "outputId": "bee04b1a-f450-4c16-a929-82759d0cc58e"
   },
   "outputs": [
    {
     "name": "stdout",
     "output_type": "stream",
     "text": [
      "[[1.22574921e-15 1.96117248e-14 8.35229780e-13 6.81871282e-10\n",
      "  1.46564998e-20 1.06370347e-14 5.41326460e-26 1.00000000e+00\n",
      "  5.48366970e-15 2.33612392e-12]\n",
      " [1.91871796e-11 9.41511886e-12 1.00000000e+00 6.04442668e-12\n",
      "  2.45480129e-20 4.01362948e-19 3.95590261e-17 1.80731473e-16\n",
      "  3.70108777e-10 4.56561429e-18]\n",
      " [4.17066425e-12 9.99999881e-01 3.67599229e-10 8.40940078e-12\n",
      "  1.19922674e-07 1.96592881e-10 1.42632556e-13 2.72158940e-09\n",
      "  3.83576886e-11 5.81938794e-13]\n",
      " [9.99964833e-01 3.94733483e-18 7.14100494e-08 5.09637887e-10\n",
      "  6.07892209e-12 3.87169097e-09 3.30893417e-05 7.21524728e-13\n",
      "  1.86707371e-06 4.22204188e-10]\n",
      " [8.00109829e-14 2.46791888e-12 2.79535428e-13 5.94810027e-18\n",
      "  1.00000000e+00 1.42276006e-14 2.80959180e-11 8.18415177e-15\n",
      "  6.67407551e-09 5.54080185e-11]\n",
      " [1.30072017e-12 9.99999881e-01 4.55663729e-10 1.41348912e-12\n",
      "  1.16373350e-07 2.34894721e-12 1.81003381e-15 1.25870461e-08\n",
      "  3.72758178e-11 3.28700608e-12]\n",
      " [1.43860575e-22 1.55393559e-10 2.03147808e-14 1.48713727e-14\n",
      "  1.00000000e+00 1.55493524e-13 5.37358989e-14 7.74662669e-13\n",
      "  1.20208143e-09 2.57779856e-11]\n",
      " [5.66456375e-15 2.95832585e-18 2.85918885e-13 1.29852691e-11\n",
      "  1.56745088e-07 1.08787213e-13 7.47628585e-18 5.49887996e-14\n",
      "  6.45477094e-09 9.99999881e-01]\n",
      " [1.13311563e-12 2.56004633e-30 7.13272945e-17 8.35913618e-24\n",
      "  1.16567099e-16 1.00000000e+00 1.16300296e-10 1.48586609e-19\n",
      "  2.16925783e-12 9.19849490e-15]]\n",
      "[7 2 1 0 4 1 4 9 5]\n"
     ]
    }
   ],
   "source": [
    "print(y_pred[:9])\n",
    "print(y_test[:9])"
   ]
  },
  {
   "cell_type": "code",
   "execution_count": 22,
   "metadata": {
    "colab": {
     "base_uri": "https://localhost:8080/",
     "height": 50
    },
    "colab_type": "code",
    "id": "ynoJ8Qumqk8S",
    "outputId": "3764525f-4899-4fa3-e50e-bc46f94062ec"
   },
   "outputs": [
    {
     "name": "stdout",
     "output_type": "stream",
     "text": [
      "[7, 2, 1, 0, 4, 1, 4, 9, 5]\n",
      "[7 2 1 0 4 1 4 9 5]\n"
     ]
    }
   ],
   "source": [
    "pred_arr = list(np.argmax(arr) for arr in y_pred[:9])\n",
    "\n",
    "print(pred_arr)\n",
    "print(y_test[:9])"
   ]
  },
  {
   "cell_type": "code",
   "execution_count": null,
   "metadata": {
    "colab": {},
    "colab_type": "code",
    "id": "3Yi2CxuwqngP"
   },
   "outputs": [],
   "source": []
  },
  {
   "cell_type": "code",
   "execution_count": 23,
   "metadata": {
    "colab": {},
    "colab_type": "code",
    "id": "CT--y98_dr2T"
   },
   "outputs": [],
   "source": [
    "layer_dict = dict([(layer.name, layer) for layer in model.layers])"
   ]
  },
  {
   "cell_type": "code",
   "execution_count": 24,
   "metadata": {
    "colab": {},
    "colab_type": "code",
    "id": "2GY4Upv4dsUR"
   },
   "outputs": [],
   "source": [
    "import numpy as np\n",
    "from matplotlib import pyplot as plt\n",
    "from keras import backend as K\n",
    "%matplotlib inline\n",
    "# util function to convert a tensor into a valid image\n",
    "def deprocess_image(x):\n",
    "    # normalize tensor: center on 0., ensure std is 0.1\n",
    "    x -= x.mean()\n",
    "    x /= (x.std() + 1e-5)\n",
    "    x *= 0.1\n",
    "\n",
    "    # clip to [0, 1]\n",
    "    x += 0.5\n",
    "    x = np.clip(x, 0, 1)\n",
    "\n",
    "    # convert to RGB array\n",
    "    x *= 255\n",
    "    #x = x.transpose((1, 2, 0))\n",
    "    x = np.clip(x, 0, 255).astype('uint8')\n",
    "    return x\n",
    "\n",
    "def vis_img_in_filter(img = np.array(X_train[2]).reshape((1, 28, 28, 1)).astype(np.float64), \n",
    "                      layer_name = 'conv2d_14'):\n",
    "    layer_output = layer_dict[layer_name].output\n",
    "    img_ascs = list()\n",
    "    for filter_index in range(layer_output.shape[3]):\n",
    "        # build a loss function that maximizes the activation\n",
    "        # of the nth filter of the layer considered\n",
    "        loss = K.mean(layer_output[:, :, :, filter_index])\n",
    "\n",
    "        # compute the gradient of the input picture wrt this loss\n",
    "        grads = K.gradients(loss, model.input)[0]\n",
    "\n",
    "        # normalization trick: we normalize the gradient\n",
    "        grads /= (K.sqrt(K.mean(K.square(grads))) + 1e-5)\n",
    "\n",
    "        # this function returns the loss and grads given the input picture\n",
    "        iterate = K.function([model.input], [loss, grads])\n",
    "\n",
    "        # step size for gradient ascent\n",
    "        step = 5.\n",
    "\n",
    "        img_asc = np.array(img)\n",
    "        # run gradient ascent for 20 steps\n",
    "        for i in range(20):\n",
    "            loss_value, grads_value = iterate([img_asc])\n",
    "            img_asc += grads_value * step\n",
    "\n",
    "        img_asc = img_asc[0]\n",
    "        img_ascs.append(deprocess_image(img_asc).reshape((28, 28)))\n",
    "        \n",
    "    if layer_output.shape[3] >= 35:\n",
    "        plot_x, plot_y = 6, 6\n",
    "    elif layer_output.shape[3] >= 23:\n",
    "        plot_x, plot_y = 4, 6\n",
    "    elif layer_output.shape[3] >= 11:\n",
    "        plot_x, plot_y = 2, 6\n",
    "    else:\n",
    "        plot_x, plot_y = 1, 2\n",
    "    fig, ax = plt.subplots(plot_x, plot_y, figsize = (12, 12))\n",
    "    ax[0, 0].imshow(img.reshape((28, 28)), cmap = 'gray')\n",
    "    ax[0, 0].set_title('Input image')\n",
    "    fig.suptitle('Input image and %s filters' % (layer_name,))\n",
    "    fig.tight_layout(pad = 0.3, rect = [0, 0, 0.9, 0.9])\n",
    "    for (x, y) in [(i, j) for i in range(plot_x) for j in range(plot_y)]:\n",
    "        if x == 0 and y == 0:\n",
    "            continue\n",
    "        ax[x, y].imshow(img_ascs[x * plot_y + y - 1], cmap = 'gray')\n",
    "        ax[x, y].set_title('filter %d' % (x * plot_y + y - 1))"
   ]
  },
  {
   "cell_type": "code",
   "execution_count": 25,
   "metadata": {
    "colab": {
     "base_uri": "https://localhost:8080/",
     "height": 837
    },
    "colab_type": "code",
    "id": "karApFsjqt-P",
    "outputId": "4c118b49-7e2d-4732-9283-5b52f5f198c8"
   },
   "outputs": [
    {
     "data": {
      "image/png": "[encoded data removed]",
      "text/plain": [
       "<Figure size 864x864 with 24 Axes>"
      ]
     },
     "metadata": {},
     "output_type": "display_data"
    }
   ],
   "source": [
    "vis_img_in_filter(layer_name='conv2d_1')"
   ]
  },
  {
   "cell_type": "code",
   "execution_count": 26,
   "metadata": {
    "colab": {},
    "colab_type": "code",
    "id": "jsjKK56cq2Dq"
   },
   "outputs": [],
   "source": [
    "# vis_img_in_filter(layer_name='conv2d_2')"
   ]
  },
  {
   "cell_type": "code",
   "execution_count": null,
   "metadata": {
    "colab": {},
    "colab_type": "code",
    "id": "_XIMn00iq8i-"
   },
   "outputs": [],
   "source": []
  },
  {
   "cell_type": "markdown",
   "metadata": {
    "colab_type": "text",
    "id": "eZPRbaEDtTx-"
   },
   "source": [
    "# Trails\n",
    "\n",
    "## Observations\n",
    "- As per the Keras source code, Conv2D is an alias for the Convolution2D. But for the same Network architecute where Conv2D is used instead of Convolution2D; **Evaluation accuracy is more**. Unable to understand,why?\n",
    "\n",
    "- Can observe model_1 and model_3 evaluation results"
   ]
  },
  {
   "cell_type": "markdown",
   "metadata": {
    "colab_type": "text",
    "id": "COT7q6XutXhM"
   },
   "source": [
    "##### Trail - 1"
   ]
  },
  {
   "cell_type": "code",
   "execution_count": 27,
   "metadata": {
    "colab": {
     "base_uri": "https://localhost:8080/",
     "height": 205
    },
    "colab_type": "code",
    "id": "osKqT73Q9JJB",
    "outputId": "e333c52e-54e4-46b4-82a5-5be37ed56bef"
   },
   "outputs": [
    {
     "name": "stderr",
     "output_type": "stream",
     "text": [
      "c:\\anaconda3\\envs\\tensorflow-gpu\\lib\\site-packages\\ipykernel_launcher.py:4: UserWarning: Update your `Conv2D` call to the Keras 2 API: `Conv2D(32, (3, 3), input_shape=(28, 28, 1..., activation=\"relu\")`\n",
      "  after removing the cwd from sys.path.\n",
      "c:\\anaconda3\\envs\\tensorflow-gpu\\lib\\site-packages\\ipykernel_launcher.py:5: UserWarning: Update your `Conv2D` call to the Keras 2 API: `Conv2D(64, (3, 3), activation=\"relu\")`\n",
      "  \"\"\"\n",
      "c:\\anaconda3\\envs\\tensorflow-gpu\\lib\\site-packages\\ipykernel_launcher.py:7: UserWarning: Update your `Conv2D` call to the Keras 2 API: `Conv2D(128, (3, 3))`\n",
      "  import sys\n",
      "c:\\anaconda3\\envs\\tensorflow-gpu\\lib\\site-packages\\ipykernel_launcher.py:8: UserWarning: Update your `Conv2D` call to the Keras 2 API: `Conv2D(256, (3, 3))`\n",
      "  \n",
      "c:\\anaconda3\\envs\\tensorflow-gpu\\lib\\site-packages\\ipykernel_launcher.py:9: UserWarning: Update your `Conv2D` call to the Keras 2 API: `Conv2D(10, (1, 1), activation=\"relu\")`\n",
      "  if __name__ == '__main__':\n"
     ]
    }
   ],
   "source": [
    "from keras.layers import Activation\n",
    "model_1 = Sequential()\n",
    " \n",
    "model_1.add(Convolution2D(32, 3, 3, activation='relu', input_shape=(28,28,1))) #26\n",
    "model_1.add(Convolution2D(64, 3, 3, activation='relu')) #24\n",
    "model_1.add(MaxPooling2D(pool_size=(2,2), strides=None, padding='valid')) #12\n",
    "model_1.add(Convolution2D(128, 3, 3)) # 10\n",
    "model_1.add(Convolution2D(256, 3, 3)) # 8\n",
    "model_1.add(Convolution2D(10, 1, 1, activation='relu'))\n",
    "model_1.add(Convolution2D(10, 8))\n",
    "model_1.add(Flatten())\n",
    "model_1.add(Activation('softmax'))"
   ]
  },
  {
   "cell_type": "code",
   "execution_count": 28,
   "metadata": {
    "colab": {
     "base_uri": "https://localhost:8080/",
     "height": 454
    },
    "colab_type": "code",
    "id": "xWXCxZ5SzQgx",
    "outputId": "68325de5-6b55-4124-9fbd-db66146118d0"
   },
   "outputs": [
    {
     "name": "stdout",
     "output_type": "stream",
     "text": [
      "_________________________________________________________________\n",
      "Layer (type)                 Output Shape              Param #   \n",
      "=================================================================\n",
      "conv2d_7 (Conv2D)            (None, 26, 26, 32)        320       \n",
      "_________________________________________________________________\n",
      "conv2d_8 (Conv2D)            (None, 24, 24, 64)        18496     \n",
      "_________________________________________________________________\n",
      "max_pooling2d_3 (MaxPooling2 (None, 12, 12, 64)        0         \n",
      "_________________________________________________________________\n",
      "conv2d_9 (Conv2D)            (None, 10, 10, 128)       73856     \n",
      "_________________________________________________________________\n",
      "conv2d_10 (Conv2D)           (None, 8, 8, 256)         295168    \n",
      "_________________________________________________________________\n",
      "conv2d_11 (Conv2D)           (None, 8, 8, 10)          2570      \n",
      "_________________________________________________________________\n",
      "conv2d_12 (Conv2D)           (None, 1, 1, 10)          6410      \n",
      "_________________________________________________________________\n",
      "flatten_2 (Flatten)          (None, 10)                0         \n",
      "_________________________________________________________________\n",
      "activation_2 (Activation)    (None, 10)                0         \n",
      "=================================================================\n",
      "Total params: 396,820\n",
      "Trainable params: 396,820\n",
      "Non-trainable params: 0\n",
      "_________________________________________________________________\n"
     ]
    }
   ],
   "source": [
    "model_1.summary()"
   ]
  },
  {
   "cell_type": "code",
   "execution_count": 29,
   "metadata": {
    "colab": {
     "base_uri": "https://localhost:8080/",
     "height": 370
    },
    "colab_type": "code",
    "id": "xBXhP22qzT5-",
    "outputId": "23ff5ac6-14b8-4f82-a160-dcf39eb6743f"
   },
   "outputs": [
    {
     "name": "stdout",
     "output_type": "stream",
     "text": [
      "Epoch 1/10\n",
      "60000/60000 [==============================] - 42s 693us/step - loss: 0.1304 - acc: 0.9595\n",
      "Epoch 2/10\n",
      "60000/60000 [==============================] - 40s 674us/step - loss: 0.0561 - acc: 0.9833\n",
      "Epoch 3/10\n",
      "60000/60000 [==============================] - 40s 672us/step - loss: 0.0469 - acc: 0.9854\n",
      "Epoch 4/10\n",
      "60000/60000 [==============================] - 40s 673us/step - loss: 0.0404 - acc: 0.9876\n",
      "Epoch 5/10\n",
      "60000/60000 [==============================] - 40s 675us/step - loss: 0.0362 - acc: 0.9885\n",
      "Epoch 6/10\n",
      "60000/60000 [==============================] - 40s 671us/step - loss: 0.0315 - acc: 0.9901\n",
      "Epoch 7/10\n",
      "60000/60000 [==============================] - 40s 667us/step - loss: 0.0302 - acc: 0.9901\n",
      "Epoch 8/10\n",
      "60000/60000 [==============================] - 40s 668us/step - loss: 0.0263 - acc: 0.9916\n",
      "Epoch 9/10\n",
      "60000/60000 [==============================] - 40s 670us/step - loss: 0.0252 - acc: 0.9918\n",
      "Epoch 10/10\n",
      "60000/60000 [==============================] - 40s 671us/step - loss: 0.0225 - acc: 0.9926\n"
     ]
    },
    {
     "data": {
      "text/plain": [
       "<keras.callbacks.History at 0x1ba36ba8128>"
      ]
     },
     "execution_count": 29,
     "metadata": {},
     "output_type": "execute_result"
    }
   ],
   "source": [
    "model_1.compile(loss='categorical_crossentropy',\n",
    "             optimizer='adam',\n",
    "             metrics=['accuracy'])\n",
    "\n",
    "\n",
    "model_1.fit(X_train, Y_train, batch_size=32, epochs=10, verbose=1)"
   ]
  },
  {
   "cell_type": "code",
   "execution_count": 30,
   "metadata": {
    "colab": {
     "base_uri": "https://localhost:8080/",
     "height": 34
    },
    "colab_type": "code",
    "id": "5KC9tUZ6zL23",
    "outputId": "dfa0624b-494c-4e51-b3c2-2e16304684fc"
   },
   "outputs": [
    {
     "name": "stdout",
     "output_type": "stream",
     "text": [
      "[0.044826604385943304, 0.9885]\n"
     ]
    }
   ],
   "source": [
    "score_1 = model_1.evaluate(X_test, Y_test, verbose=0)\n",
    "print(score_1)"
   ]
  },
  {
   "cell_type": "markdown",
   "metadata": {
    "colab_type": "text",
    "id": "d-FNzTndtcms"
   },
   "source": [
    "##### Trail - 2\n",
    "- With Conv2D"
   ]
  },
  {
   "cell_type": "code",
   "execution_count": 31,
   "metadata": {
    "colab": {},
    "colab_type": "code",
    "id": "9tvptcn8dxvp"
   },
   "outputs": [],
   "source": [
    "from keras.layers import Activation\n",
    "model_3 = Sequential()\n",
    "\n",
    "model_3.add(Conv2D(32, (3,3), activation='relu', input_shape=(28,28,1))) #26\n",
    "model_3.add(Conv2D(64, (3,3),activation='relu')) # 24\n",
    "model_3.add(MaxPooling2D()) #12\n",
    "model_3.add(Conv2D(128, (3,3), activation='relu')) #10\n",
    "model_3.add(Conv2D(256, (3,3), activation='relu', padding='valid')) # 8\n",
    "model_3.add(Conv2D(10,1, activation='relu'))\n",
    "model_3.add(Conv2D(10,8))\n",
    "model_3.add(Flatten())\n",
    "model_3.add(Activation('softmax'))"
   ]
  },
  {
   "cell_type": "code",
   "execution_count": 32,
   "metadata": {
    "colab": {
     "base_uri": "https://localhost:8080/",
     "height": 454
    },
    "colab_type": "code",
    "id": "1AzJEM7jrawv",
    "outputId": "0266087f-5687-43b9-97d5-a4d0d4ea0583"
   },
   "outputs": [
    {
     "name": "stdout",
     "output_type": "stream",
     "text": [
      "_________________________________________________________________\n",
      "Layer (type)                 Output Shape              Param #   \n",
      "=================================================================\n",
      "conv2d_13 (Conv2D)           (None, 26, 26, 32)        320       \n",
      "_________________________________________________________________\n",
      "conv2d_14 (Conv2D)           (None, 24, 24, 64)        18496     \n",
      "_________________________________________________________________\n",
      "max_pooling2d_4 (MaxPooling2 (None, 12, 12, 64)        0         \n",
      "_________________________________________________________________\n",
      "conv2d_15 (Conv2D)           (None, 10, 10, 128)       73856     \n",
      "_________________________________________________________________\n",
      "conv2d_16 (Conv2D)           (None, 8, 8, 256)         295168    \n",
      "_________________________________________________________________\n",
      "conv2d_17 (Conv2D)           (None, 8, 8, 10)          2570      \n",
      "_________________________________________________________________\n",
      "conv2d_18 (Conv2D)           (None, 1, 1, 10)          6410      \n",
      "_________________________________________________________________\n",
      "flatten_3 (Flatten)          (None, 10)                0         \n",
      "_________________________________________________________________\n",
      "activation_3 (Activation)    (None, 10)                0         \n",
      "=================================================================\n",
      "Total params: 396,820\n",
      "Trainable params: 396,820\n",
      "Non-trainable params: 0\n",
      "_________________________________________________________________\n"
     ]
    }
   ],
   "source": [
    "model_3.summary()"
   ]
  },
  {
   "cell_type": "code",
   "execution_count": 33,
   "metadata": {
    "colab": {},
    "colab_type": "code",
    "id": "kt2sjm6OrhH_"
   },
   "outputs": [],
   "source": [
    "model_3.compile(loss='categorical_crossentropy',\n",
    "             optimizer='adam',\n",
    "             metrics=['accuracy'])"
   ]
  },
  {
   "cell_type": "code",
   "execution_count": 34,
   "metadata": {
    "colab": {
     "base_uri": "https://localhost:8080/",
     "height": 370
    },
    "colab_type": "code",
    "id": "kLUWiGtsrjr1",
    "outputId": "e6f99b57-d7d1-4fdc-d0f8-7a33e231154d"
   },
   "outputs": [
    {
     "name": "stdout",
     "output_type": "stream",
     "text": [
      "Epoch 1/10\n",
      "60000/60000 [==============================] - 42s 706us/step - loss: 0.1329 - acc: 0.9584\n",
      "Epoch 2/10\n",
      "60000/60000 [==============================] - 41s 685us/step - loss: 0.0486 - acc: 0.9855\n",
      "Epoch 3/10\n",
      "60000/60000 [==============================] - 41s 685us/step - loss: 0.0343 - acc: 0.9891\n",
      "Epoch 4/10\n",
      "60000/60000 [==============================] - 41s 684us/step - loss: 0.0269 - acc: 0.9913\n",
      "Epoch 5/10\n",
      "60000/60000 [==============================] - 41s 683us/step - loss: 0.0206 - acc: 0.9935\n",
      "Epoch 6/10\n",
      "60000/60000 [==============================] - 41s 685us/step - loss: 0.0174 - acc: 0.9942\n",
      "Epoch 7/10\n",
      "60000/60000 [==============================] - 41s 683us/step - loss: 0.0154 - acc: 0.9949\n",
      "Epoch 8/10\n",
      "60000/60000 [==============================] - 41s 684us/step - loss: 0.0124 - acc: 0.9960\n",
      "Epoch 9/10\n",
      "60000/60000 [==============================] - 41s 684us/step - loss: 0.0112 - acc: 0.9964\n",
      "Epoch 10/10\n",
      "60000/60000 [==============================] - 41s 683us/step - loss: 0.0108 - acc: 0.9967\n"
     ]
    },
    {
     "data": {
      "text/plain": [
       "<keras.callbacks.History at 0x1ba38ae1c88>"
      ]
     },
     "execution_count": 34,
     "metadata": {},
     "output_type": "execute_result"
    }
   ],
   "source": [
    "model_3.fit(X_train, Y_train, batch_size=32, epochs=10, verbose=1)"
   ]
  },
  {
   "cell_type": "code",
   "execution_count": 35,
   "metadata": {
    "colab": {
     "base_uri": "https://localhost:8080/",
     "height": 34
    },
    "colab_type": "code",
    "id": "T09b60zqrj1R",
    "outputId": "b6cfebad-572f-496a-fcc4-9eaf9761ff3d"
   },
   "outputs": [
    {
     "name": "stdout",
     "output_type": "stream",
     "text": [
      "[0.028622790005646312, 0.9918]\n"
     ]
    }
   ],
   "source": [
    "score_3 = model_3.evaluate(X_test, Y_test, verbose=0)\n",
    "print(score_3)"
   ]
  },
  {
   "cell_type": "markdown",
   "metadata": {
    "colab_type": "text",
    "id": "yrdwYnwDvDlf"
   },
   "source": [
    "##### Trail - 3"
   ]
  },
  {
   "cell_type": "code",
   "execution_count": 36,
   "metadata": {
    "colab": {},
    "colab_type": "code",
    "id": "woz4AoEemRtd"
   },
   "outputs": [],
   "source": [
    "from keras.layers import Activation\n",
    "model_4 = Sequential()\n",
    "\n",
    "model_4.add(Conv2D(32, (3,3), activation='relu', input_shape=(28,28,1)))\n",
    "model_4.add(Conv2D(64, (3,3),activation='relu'))\n",
    "model_4.add(MaxPooling2D())\n",
    "model_4.add(Conv2D(128, (3,3), activation='relu'))\n",
    "model_4.add(Conv2D(10,1, activation='relu'))\n",
    "model_4.add(Conv2D(10,10))\n",
    "model_4.add(Flatten())\n",
    "model_4.add(Activation('softmax'))"
   ]
  },
  {
   "cell_type": "code",
   "execution_count": 37,
   "metadata": {
    "colab": {
     "base_uri": "https://localhost:8080/",
     "height": 420
    },
    "colab_type": "code",
    "id": "BZC-CvK2mO5g",
    "outputId": "4c373198-06c2-44ae-949a-f89c17586af2"
   },
   "outputs": [
    {
     "name": "stdout",
     "output_type": "stream",
     "text": [
      "_________________________________________________________________\n",
      "Layer (type)                 Output Shape              Param #   \n",
      "=================================================================\n",
      "conv2d_19 (Conv2D)           (None, 26, 26, 32)        320       \n",
      "_________________________________________________________________\n",
      "conv2d_20 (Conv2D)           (None, 24, 24, 64)        18496     \n",
      "_________________________________________________________________\n",
      "max_pooling2d_5 (MaxPooling2 (None, 12, 12, 64)        0         \n",
      "_________________________________________________________________\n",
      "conv2d_21 (Conv2D)           (None, 10, 10, 128)       73856     \n",
      "_________________________________________________________________\n",
      "conv2d_22 (Conv2D)           (None, 10, 10, 10)        1290      \n",
      "_________________________________________________________________\n",
      "conv2d_23 (Conv2D)           (None, 1, 1, 10)          10010     \n",
      "_________________________________________________________________\n",
      "flatten_4 (Flatten)          (None, 10)                0         \n",
      "_________________________________________________________________\n",
      "activation_4 (Activation)    (None, 10)                0         \n",
      "=================================================================\n",
      "Total params: 103,972\n",
      "Trainable params: 103,972\n",
      "Non-trainable params: 0\n",
      "_________________________________________________________________\n"
     ]
    }
   ],
   "source": [
    "model_4.summary()"
   ]
  },
  {
   "cell_type": "code",
   "execution_count": 38,
   "metadata": {
    "colab": {},
    "colab_type": "code",
    "id": "IGnJt1qrmrXd"
   },
   "outputs": [],
   "source": [
    "model_4.compile(loss='categorical_crossentropy',\n",
    "             optimizer='adam',\n",
    "             metrics=['accuracy'])"
   ]
  },
  {
   "cell_type": "code",
   "execution_count": 39,
   "metadata": {
    "colab": {
     "base_uri": "https://localhost:8080/",
     "height": 370
    },
    "colab_type": "code",
    "id": "6N2haYsKmr96",
    "outputId": "fc86294d-f36b-42f1-9696-9fa9e50ffd1c"
   },
   "outputs": [
    {
     "name": "stdout",
     "output_type": "stream",
     "text": [
      "Epoch 1/10\n",
      "60000/60000 [==============================] - 31s 515us/step - loss: 0.1353 - acc: 0.9578\n",
      "Epoch 2/10\n",
      "60000/60000 [==============================] - 30s 496us/step - loss: 0.0482 - acc: 0.9850\n",
      "Epoch 3/10\n",
      "60000/60000 [==============================] - 30s 497us/step - loss: 0.0360 - acc: 0.9886\n",
      "Epoch 4/10\n",
      "60000/60000 [==============================] - 30s 497us/step - loss: 0.0278 - acc: 0.9909\n",
      "Epoch 5/10\n",
      "60000/60000 [==============================] - 30s 498us/step - loss: 0.0230 - acc: 0.9924\n",
      "Epoch 6/10\n",
      "60000/60000 [==============================] - 30s 496us/step - loss: 0.0185 - acc: 0.9940\n",
      "Epoch 7/10\n",
      "60000/60000 [==============================] - 30s 497us/step - loss: 0.0152 - acc: 0.9947\n",
      "Epoch 8/10\n",
      "60000/60000 [==============================] - 30s 497us/step - loss: 0.0124 - acc: 0.9960\n",
      "Epoch 9/10\n",
      "60000/60000 [==============================] - 30s 497us/step - loss: 0.0112 - acc: 0.9963\n",
      "Epoch 10/10\n",
      "60000/60000 [==============================] - 30s 497us/step - loss: 0.0110 - acc: 0.9962\n"
     ]
    },
    {
     "data": {
      "text/plain": [
       "<keras.callbacks.History at 0x1ba369e0f98>"
      ]
     },
     "execution_count": 39,
     "metadata": {},
     "output_type": "execute_result"
    }
   ],
   "source": [
    "model_4.fit(X_train, Y_train, batch_size=32, epochs=10, verbose=1)"
   ]
  },
  {
   "cell_type": "code",
   "execution_count": 40,
   "metadata": {
    "colab": {
     "base_uri": "https://localhost:8080/",
     "height": 34
    },
    "colab_type": "code",
    "id": "jL2fVP2ymukj",
    "outputId": "136919d4-e7f4-477d-a8a3-1981878e7855"
   },
   "outputs": [
    {
     "name": "stdout",
     "output_type": "stream",
     "text": [
      "[0.02959476177810229, 0.9917]\n"
     ]
    }
   ],
   "source": [
    "score_4 = model_4.evaluate(X_test, Y_test, verbose=0)\n",
    "print(score_4)"
   ]
  },
  {
   "cell_type": "markdown",
   "metadata": {
    "colab_type": "text",
    "id": "nmKgAkLnyI3W"
   },
   "source": [
    "##### Trail - 4"
   ]
  },
  {
   "cell_type": "code",
   "execution_count": 41,
   "metadata": {
    "colab": {
     "base_uri": "https://localhost:8080/",
     "height": 171
    },
    "colab_type": "code",
    "id": "6H0DigG_f0Ca",
    "outputId": "8582264f-ff2c-4cc9-b2af-ace2148954f5"
   },
   "outputs": [
    {
     "name": "stderr",
     "output_type": "stream",
     "text": [
      "c:\\anaconda3\\envs\\tensorflow-gpu\\lib\\site-packages\\ipykernel_launcher.py:4: UserWarning: Update your `Conv2D` call to the Keras 2 API: `Conv2D(32, (3, 3), input_shape=(28, 28, 1..., activation=\"relu\")`\n",
      "  after removing the cwd from sys.path.\n",
      "c:\\anaconda3\\envs\\tensorflow-gpu\\lib\\site-packages\\ipykernel_launcher.py:5: UserWarning: Update your `Conv2D` call to the Keras 2 API: `Conv2D(64, (3, 3), activation=\"relu\")`\n",
      "  \"\"\"\n",
      "c:\\anaconda3\\envs\\tensorflow-gpu\\lib\\site-packages\\ipykernel_launcher.py:7: UserWarning: Update your `Conv2D` call to the Keras 2 API: `Conv2D(64, (3, 3))`\n",
      "  import sys\n",
      "c:\\anaconda3\\envs\\tensorflow-gpu\\lib\\site-packages\\ipykernel_launcher.py:8: UserWarning: Update your `Conv2D` call to the Keras 2 API: `Conv2D(128, (3, 3))`\n",
      "  \n"
     ]
    }
   ],
   "source": [
    "from keras.layers import Activation\n",
    "model_5 = Sequential()\n",
    " \n",
    "model_5.add(Convolution2D(32, 3, 3, activation='relu', input_shape=(28,28,1))) #26\n",
    "model_5.add(Convolution2D(64, 3, 3, activation='relu')) #24\n",
    "model_5.add(MaxPooling2D(pool_size=(2,2), strides=None, padding='valid')) #12\n",
    "model_5.add(Convolution2D(64, 3, 3)) # 10\n",
    "model_5.add(Convolution2D(128, 3, 3)) # 8\n",
    "model_5.add(MaxPooling2D(pool_size=(2,2), strides=None, padding='valid')) #4\n",
    "# model_5.add(Convolution2D(10, 1, 1, activation='relu'))\n",
    "model_5.add(Convolution2D(10, 4))\n",
    "model_5.add(Flatten())\n",
    "model_5.add(Activation('softmax'))"
   ]
  },
  {
   "cell_type": "code",
   "execution_count": 42,
   "metadata": {
    "colab": {
     "base_uri": "https://localhost:8080/",
     "height": 454
    },
    "colab_type": "code",
    "id": "Og5DNpSzwmo-",
    "outputId": "47376e22-8b37-4355-c7d1-77d828369f54"
   },
   "outputs": [
    {
     "name": "stdout",
     "output_type": "stream",
     "text": [
      "_________________________________________________________________\n",
      "Layer (type)                 Output Shape              Param #   \n",
      "=================================================================\n",
      "conv2d_24 (Conv2D)           (None, 26, 26, 32)        320       \n",
      "_________________________________________________________________\n",
      "conv2d_25 (Conv2D)           (None, 24, 24, 64)        18496     \n",
      "_________________________________________________________________\n",
      "max_pooling2d_6 (MaxPooling2 (None, 12, 12, 64)        0         \n",
      "_________________________________________________________________\n",
      "conv2d_26 (Conv2D)           (None, 10, 10, 64)        36928     \n",
      "_________________________________________________________________\n",
      "conv2d_27 (Conv2D)           (None, 8, 8, 128)         73856     \n",
      "_________________________________________________________________\n",
      "max_pooling2d_7 (MaxPooling2 (None, 4, 4, 128)         0         \n",
      "_________________________________________________________________\n",
      "conv2d_28 (Conv2D)           (None, 1, 1, 10)          20490     \n",
      "_________________________________________________________________\n",
      "flatten_5 (Flatten)          (None, 10)                0         \n",
      "_________________________________________________________________\n",
      "activation_5 (Activation)    (None, 10)                0         \n",
      "=================================================================\n",
      "Total params: 150,090\n",
      "Trainable params: 150,090\n",
      "Non-trainable params: 0\n",
      "_________________________________________________________________\n"
     ]
    }
   ],
   "source": [
    "model_5.summary()"
   ]
  },
  {
   "cell_type": "code",
   "execution_count": 43,
   "metadata": {
    "colab": {},
    "colab_type": "code",
    "id": "XL6xFytuwo7x"
   },
   "outputs": [],
   "source": [
    "model_5.compile(loss='categorical_crossentropy',\n",
    "             optimizer='adam',\n",
    "             metrics=['accuracy'])"
   ]
  },
  {
   "cell_type": "code",
   "execution_count": 44,
   "metadata": {
    "colab": {
     "base_uri": "https://localhost:8080/",
     "height": 370
    },
    "colab_type": "code",
    "id": "RD4tIsdjwrfx",
    "outputId": "26817219-f5c8-45e4-bd40-646f28ae0d9f"
   },
   "outputs": [
    {
     "name": "stdout",
     "output_type": "stream",
     "text": [
      "Epoch 1/10\n",
      "60000/60000 [==============================] - 33s 545us/step - loss: 0.1231 - acc: 0.9617\n",
      "Epoch 2/10\n",
      "60000/60000 [==============================] - 32s 526us/step - loss: 0.0519 - acc: 0.9842\n",
      "Epoch 3/10\n",
      "60000/60000 [==============================] - 32s 526us/step - loss: 0.0402 - acc: 0.9875\n",
      "Epoch 4/10\n",
      "60000/60000 [==============================] - 32s 526us/step - loss: 0.0345 - acc: 0.9894\n",
      "Epoch 5/10\n",
      "60000/60000 [==============================] - 32s 525us/step - loss: 0.0288 - acc: 0.9907\n",
      "Epoch 6/10\n",
      "60000/60000 [==============================] - 32s 526us/step - loss: 0.0244 - acc: 0.9922\n",
      "Epoch 7/10\n",
      "60000/60000 [==============================] - 32s 526us/step - loss: 0.0211 - acc: 0.9930\n",
      "Epoch 8/10\n",
      "60000/60000 [==============================] - 32s 527us/step - loss: 0.0198 - acc: 0.9938\n",
      "Epoch 9/10\n",
      "60000/60000 [==============================] - 32s 525us/step - loss: 0.0174 - acc: 0.9944\n",
      "Epoch 10/10\n",
      "60000/60000 [==============================] - 32s 526us/step - loss: 0.0156 - acc: 0.9949\n"
     ]
    },
    {
     "data": {
      "text/plain": [
       "<keras.callbacks.History at 0x1ba39cd1860>"
      ]
     },
     "execution_count": 44,
     "metadata": {},
     "output_type": "execute_result"
    }
   ],
   "source": [
    "model_5.fit(X_train, Y_train, batch_size=32, epochs=10, verbose=1)"
   ]
  },
  {
   "cell_type": "code",
   "execution_count": 45,
   "metadata": {
    "colab": {
     "base_uri": "https://localhost:8080/",
     "height": 34
    },
    "colab_type": "code",
    "id": "VYJmlQGDwvSE",
    "outputId": "ea3fc19d-e8bf-4e62-b50f-70fd4e2f55c3"
   },
   "outputs": [
    {
     "name": "stdout",
     "output_type": "stream",
     "text": [
      "[0.04269996428527675, 0.9907]\n"
     ]
    }
   ],
   "source": [
    "score_5 = model_5.evaluate(X_test, Y_test, verbose=0)\n",
    "print(score_5)"
   ]
  },
  {
   "cell_type": "code",
   "execution_count": null,
   "metadata": {
    "colab": {},
    "colab_type": "code",
    "id": "VzcyKFmbcp08"
   },
   "outputs": [],
   "source": []
  }
 ],
 "metadata": {
  "accelerator": "GPU",
  "colab": {
   "collapsed_sections": [],
   "name": "1st DNN.ipynb",
   "provenance": [],
   "toc_visible": true
  },
  "kernelspec": {
   "display_name": "Python 3",
   "language": "python",
   "name": "python3"
  },
  "language_info": {
   "codemirror_mode": {
    "name": "ipython",
    "version": 3
   },
   "file_extension": ".py",
   "mimetype": "text/x-python",
   "name": "python",
   "nbconvert_exporter": "python",
   "pygments_lexer": "ipython3",
   "version": "3.5.2"
  }
 },
 "nbformat": 4,
 "nbformat_minor": 1
}
