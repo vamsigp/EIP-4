{
  "nbformat": 4,
  "nbformat_minor": 0,
  "metadata": {
    "colab": {
      "name": "S3_Assignment 6.ipynb",
      "provenance": [],
      "collapsed_sections": [],
      "include_colab_link": true
    },
    "kernelspec": {
      "name": "python3",
      "display_name": "Python 3"
    },
    "accelerator": "GPU"
  },
  "cells": [
    {
      "cell_type": "markdown",
      "metadata": {
        "id": "view-in-github",
        "colab_type": "text"
      },
      "source": [
        "<a href=\"https://colab.research.google.com/github/vamsigp/EIP-4/blob/master/wk_3/S3_Assignment_6.ipynb\" target=\"_parent\"><img src=\"https://colab.research.google.com/assets/colab-badge.svg\" alt=\"Open In Colab\"/></a>"
      ]
    },
    {
      "cell_type": "code",
      "metadata": {
        "id": "KkwXnw9OfHZl",
        "colab_type": "code",
        "outputId": "28011286-0ec7-433e-86d4-d70d671c24d3",
        "colab": {
          "base_uri": "https://localhost:8080/",
          "height": 83
        }
      },
      "source": [
        "from keras import backend as K\n",
        "import time\n",
        "import matplotlib.pyplot as plt\n",
        "import numpy as np\n",
        "% matplotlib inline\n",
        "np.random.seed(2017) \n",
        "from keras.models import Sequential\n",
        "from keras.layers.convolutional import Convolution2D, MaxPooling2D\n",
        "from keras.layers import Activation, Flatten, Dense, Dropout\n",
        "from keras.layers.normalization import BatchNormalization\n",
        "from keras.utils import np_utils"
      ],
      "execution_count": 0,
      "outputs": [
        {
          "output_type": "stream",
          "text": [
            "Using TensorFlow backend.\n"
          ],
          "name": "stderr"
        },
        {
          "output_type": "display_data",
          "data": {
            "text/html": [
              "<p style=\"color: red;\">\n",
              "The default version of TensorFlow in Colab will soon switch to TensorFlow 2.x.<br>\n",
              "We recommend you <a href=\"https://www.tensorflow.org/guide/migrate\" target=\"_blank\">upgrade</a> now \n",
              "or ensure your notebook will continue to use TensorFlow 1.x via the <code>%tensorflow_version 1.x</code> magic:\n",
              "<a href=\"https://colab.research.google.com/notebooks/tensorflow_version.ipynb\" target=\"_blank\">more info</a>.</p>\n"
            ],
            "text/plain": [
              "<IPython.core.display.HTML object>"
            ]
          },
          "metadata": {
            "tags": []
          }
        }
      ]
    },
    {
      "cell_type": "code",
      "metadata": {
        "id": "eP1UTKu8I0o0",
        "colab_type": "code",
        "colab": {}
      },
      "source": [
        "from keras.layers import SeparableConv2D, GlobalAveragePooling2D\n",
        "from keras.preprocessing.image import ImageDataGenerator\n",
        "from keras.optimizers import Adam\n",
        "from keras.callbacks import ReduceLROnPlateau"
      ],
      "execution_count": 0,
      "outputs": []
    },
    {
      "cell_type": "code",
      "metadata": {
        "id": "NHpnoCHZfO8g",
        "colab_type": "code",
        "outputId": "57f2ffc2-a5ae-4881-8310-d47e12768744",
        "colab": {
          "base_uri": "https://localhost:8080/",
          "height": 53
        }
      },
      "source": [
        "from keras.datasets import cifar10\n",
        "(train_features, train_labels), (test_features, test_labels) = cifar10.load_data()\n",
        "num_train, img_channels, img_rows, img_cols =  train_features.shape\n",
        "num_test, _, _, _ =  test_features.shape\n",
        "num_classes = len(np.unique(train_labels))"
      ],
      "execution_count": 0,
      "outputs": [
        {
          "output_type": "stream",
          "text": [
            "Downloading data from https://www.cs.toronto.edu/~kriz/cifar-10-python.tar.gz\n",
            "170500096/170498071 [==============================] - 6s 0us/step\n"
          ],
          "name": "stdout"
        }
      ]
    },
    {
      "cell_type": "code",
      "metadata": {
        "id": "14HyBUXdfS6G",
        "colab_type": "code",
        "outputId": "56464361-824e-4d7f-bf31-f5c36ca738fe",
        "colab": {
          "base_uri": "https://localhost:8080/",
          "height": 213
        }
      },
      "source": [
        "class_names = ['airplane','automobile','bird','cat','deer',\n",
        "               'dog','frog','horse','ship','truck']\n",
        "fig = plt.figure(figsize=(8,3))\n",
        "for i in range(num_classes):\n",
        "    ax = fig.add_subplot(2, 5, 1 + i, xticks=[], yticks=[])\n",
        "    idx = np.where(train_labels[:]==i)[0]\n",
        "    features_idx = train_features[idx,::]\n",
        "    img_num = np.random.randint(features_idx.shape[0])\n",
        "    im = features_idx[img_num]\n",
        "    ax.set_title(class_names[i])\n",
        "    plt.imshow(im)\n",
        "plt.show()"
      ],
      "execution_count": 0,
      "outputs": [
        {
          "output_type": "display_data",
          "data": {
            "image/png": "[encoded data removed]",
            "text/plain": [
              "<Figure size 576x216 with 10 Axes>"
            ]
          },
          "metadata": {
            "tags": []
          }
        }
      ]
    },
    {
      "cell_type": "code",
      "metadata": {
        "id": "bmfsk76-fadV",
        "colab_type": "code",
        "colab": {}
      },
      "source": [
        "def plot_model_history(model_history):\n",
        "    fig, axs = plt.subplots(1,2,figsize=(15,5))\n",
        "    # summarize history for accuracy\n",
        "    axs[0].plot(range(1,len(model_history.history['acc'])+1),model_history.history['acc'])\n",
        "    axs[0].plot(range(1,len(model_history.history['val_acc'])+1),model_history.history['val_acc'])\n",
        "    axs[0].set_title('Model Accuracy')\n",
        "    axs[0].set_ylabel('Accuracy')\n",
        "    axs[0].set_xlabel('Epoch')\n",
        "    axs[0].set_xticks(np.arange(1,len(model_history.history['acc'])+1),len(model_history.history['acc'])/10)\n",
        "    axs[0].legend(['train', 'val'], loc='best')\n",
        "    # summarize history for loss\n",
        "    axs[1].plot(range(1,len(model_history.history['loss'])+1),model_history.history['loss'])\n",
        "    axs[1].plot(range(1,len(model_history.history['val_loss'])+1),model_history.history['val_loss'])\n",
        "    axs[1].set_title('Model Loss')\n",
        "    axs[1].set_ylabel('Loss')\n",
        "    axs[1].set_xlabel('Epoch')\n",
        "    axs[1].set_xticks(np.arange(1,len(model_history.history['loss'])+1),len(model_history.history['loss'])/10)\n",
        "    axs[1].legend(['train', 'val'], loc='best')\n",
        "    plt.show()"
      ],
      "execution_count": 0,
      "outputs": []
    },
    {
      "cell_type": "code",
      "metadata": {
        "id": "YJMT4rjgfdZz",
        "colab_type": "code",
        "colab": {}
      },
      "source": [
        "def accuracy(test_x, test_y, model):\n",
        "    result = model.predict(test_x)\n",
        "    predicted_class = np.argmax(result, axis=1)\n",
        "    true_class = np.argmax(test_y, axis=1)\n",
        "    num_correct = np.sum(predicted_class == true_class) \n",
        "    accuracy = float(num_correct)/result.shape[0]\n",
        "    return (accuracy * 100)"
      ],
      "execution_count": 0,
      "outputs": []
    },
    {
      "cell_type": "code",
      "metadata": {
        "id": "T5c5nDvxm6zR",
        "colab_type": "code",
        "colab": {}
      },
      "source": [
        "train_features = train_features.astype('float32')/255\n",
        "test_features = test_features.astype('float32')/255\n",
        "# convert class labels to binary class labels\n",
        "train_labels = np_utils.to_categorical(train_labels, num_classes)\n",
        "test_labels = np_utils.to_categorical(test_labels, num_classes)"
      ],
      "execution_count": 0,
      "outputs": []
    },
    {
      "cell_type": "markdown",
      "metadata": {
        "id": "X4IkpjcEIHdY",
        "colab_type": "text"
      },
      "source": [
        "### Base Model"
      ]
    },
    {
      "cell_type": "code",
      "metadata": {
        "id": "cSOb2lkJfhVq",
        "colab_type": "code",
        "outputId": "a926c9be-b70c-4701-e337-882037d9fa2b",
        "colab": {
          "base_uri": "https://localhost:8080/",
          "height": 564
        }
      },
      "source": [
        "# Define the model\n",
        "model = Sequential()\n",
        "model.add(Convolution2D(48, 3, 3, border_mode='same', input_shape=(32, 32, 3)))\n",
        "model.add(Activation('relu'))\n",
        "model.add(Convolution2D(48, 3, 3))\n",
        "model.add(Activation('relu'))\n",
        "model.add(MaxPooling2D(pool_size=(2, 2)))\n",
        "model.add(Dropout(0.25))\n",
        "model.add(Convolution2D(96, 3, 3, border_mode='same'))\n",
        "model.add(Activation('relu'))\n",
        "model.add(Convolution2D(96, 3, 3))\n",
        "model.add(Activation('relu'))\n",
        "model.add(MaxPooling2D(pool_size=(2, 2)))\n",
        "model.add(Dropout(0.25))\n",
        "model.add(Convolution2D(192, 3, 3, border_mode='same'))\n",
        "model.add(Activation('relu'))\n",
        "model.add(Convolution2D(192, 3, 3))\n",
        "model.add(Activation('relu'))\n",
        "model.add(MaxPooling2D(pool_size=(2, 2)))\n",
        "model.add(Dropout(0.25))\n",
        "model.add(Flatten())\n",
        "model.add(Dense(512))\n",
        "model.add(Activation('relu'))\n",
        "model.add(Dropout(0.5))\n",
        "model.add(Dense(256))\n",
        "model.add(Activation('relu'))\n",
        "model.add(Dropout(0.5))\n",
        "model.add(Dense(num_classes, activation='softmax'))\n",
        "# Compile the model\n",
        "model.compile(optimizer='adam', loss='categorical_crossentropy', metrics=['accuracy'])\n"
      ],
      "execution_count": 0,
      "outputs": [
        {
          "output_type": "stream",
          "text": [
            "WARNING:tensorflow:From /usr/local/lib/python3.6/dist-packages/keras/backend/tensorflow_backend.py:66: The name tf.get_default_graph is deprecated. Please use tf.compat.v1.get_default_graph instead.\n",
            "\n",
            "WARNING:tensorflow:From /usr/local/lib/python3.6/dist-packages/keras/backend/tensorflow_backend.py:541: The name tf.placeholder is deprecated. Please use tf.compat.v1.placeholder instead.\n",
            "\n",
            "WARNING:tensorflow:From /usr/local/lib/python3.6/dist-packages/keras/backend/tensorflow_backend.py:4432: The name tf.random_uniform is deprecated. Please use tf.random.uniform instead.\n",
            "\n",
            "WARNING:tensorflow:From /usr/local/lib/python3.6/dist-packages/keras/backend/tensorflow_backend.py:4267: The name tf.nn.max_pool is deprecated. Please use tf.nn.max_pool2d instead.\n",
            "\n",
            "WARNING:tensorflow:From /usr/local/lib/python3.6/dist-packages/keras/backend/tensorflow_backend.py:148: The name tf.placeholder_with_default is deprecated. Please use tf.compat.v1.placeholder_with_default instead.\n",
            "\n",
            "WARNING:tensorflow:From /usr/local/lib/python3.6/dist-packages/keras/backend/tensorflow_backend.py:3733: calling dropout (from tensorflow.python.ops.nn_ops) with keep_prob is deprecated and will be removed in a future version.\n",
            "Instructions for updating:\n",
            "Please use `rate` instead of `keep_prob`. Rate should be set to `rate = 1 - keep_prob`.\n"
          ],
          "name": "stdout"
        },
        {
          "output_type": "stream",
          "text": [
            "/usr/local/lib/python3.6/dist-packages/ipykernel_launcher.py:2: UserWarning: Update your `Conv2D` call to the Keras 2 API: `Conv2D(48, (3, 3), input_shape=(32, 32, 3..., padding=\"same\")`\n",
            "  \n",
            "/usr/local/lib/python3.6/dist-packages/ipykernel_launcher.py:4: UserWarning: Update your `Conv2D` call to the Keras 2 API: `Conv2D(48, (3, 3))`\n",
            "  after removing the cwd from sys.path.\n",
            "/usr/local/lib/python3.6/dist-packages/ipykernel_launcher.py:8: UserWarning: Update your `Conv2D` call to the Keras 2 API: `Conv2D(96, (3, 3), padding=\"same\")`\n",
            "  \n",
            "/usr/local/lib/python3.6/dist-packages/ipykernel_launcher.py:10: UserWarning: Update your `Conv2D` call to the Keras 2 API: `Conv2D(96, (3, 3))`\n",
            "  # Remove the CWD from sys.path while we load stuff.\n",
            "/usr/local/lib/python3.6/dist-packages/ipykernel_launcher.py:14: UserWarning: Update your `Conv2D` call to the Keras 2 API: `Conv2D(192, (3, 3), padding=\"same\")`\n",
            "  \n",
            "/usr/local/lib/python3.6/dist-packages/ipykernel_launcher.py:16: UserWarning: Update your `Conv2D` call to the Keras 2 API: `Conv2D(192, (3, 3))`\n",
            "  app.launch_new_instance()\n"
          ],
          "name": "stderr"
        },
        {
          "output_type": "stream",
          "text": [
            "WARNING:tensorflow:From /usr/local/lib/python3.6/dist-packages/keras/optimizers.py:793: The name tf.train.Optimizer is deprecated. Please use tf.compat.v1.train.Optimizer instead.\n",
            "\n",
            "WARNING:tensorflow:From /usr/local/lib/python3.6/dist-packages/keras/backend/tensorflow_backend.py:3576: The name tf.log is deprecated. Please use tf.math.log instead.\n",
            "\n"
          ],
          "name": "stdout"
        }
      ]
    },
    {
      "cell_type": "code",
      "metadata": {
        "id": "wvVs5tC8mR6Q",
        "colab_type": "code",
        "outputId": "012e3e03-bb1a-4c3f-f5ef-88f3d288bf04",
        "colab": {
          "base_uri": "https://localhost:8080/",
          "height": 1000
        }
      },
      "source": [
        "model.summary()"
      ],
      "execution_count": 0,
      "outputs": [
        {
          "output_type": "stream",
          "text": [
            "Model: \"sequential_1\"\n",
            "_________________________________________________________________\n",
            "Layer (type)                 Output Shape              Param #   \n",
            "=================================================================\n",
            "conv2d_1 (Conv2D)            (None, 32, 32, 48)        1344      \n",
            "_________________________________________________________________\n",
            "activation_1 (Activation)    (None, 32, 32, 48)        0         \n",
            "_________________________________________________________________\n",
            "conv2d_2 (Conv2D)            (None, 30, 30, 48)        20784     \n",
            "_________________________________________________________________\n",
            "activation_2 (Activation)    (None, 30, 30, 48)        0         \n",
            "_________________________________________________________________\n",
            "max_pooling2d_1 (MaxPooling2 (None, 15, 15, 48)        0         \n",
            "_________________________________________________________________\n",
            "dropout_1 (Dropout)          (None, 15, 15, 48)        0         \n",
            "_________________________________________________________________\n",
            "conv2d_3 (Conv2D)            (None, 15, 15, 96)        41568     \n",
            "_________________________________________________________________\n",
            "activation_3 (Activation)    (None, 15, 15, 96)        0         \n",
            "_________________________________________________________________\n",
            "conv2d_4 (Conv2D)            (None, 13, 13, 96)        83040     \n",
            "_________________________________________________________________\n",
            "activation_4 (Activation)    (None, 13, 13, 96)        0         \n",
            "_________________________________________________________________\n",
            "max_pooling2d_2 (MaxPooling2 (None, 6, 6, 96)          0         \n",
            "_________________________________________________________________\n",
            "dropout_2 (Dropout)          (None, 6, 6, 96)          0         \n",
            "_________________________________________________________________\n",
            "conv2d_5 (Conv2D)            (None, 6, 6, 192)         166080    \n",
            "_________________________________________________________________\n",
            "activation_5 (Activation)    (None, 6, 6, 192)         0         \n",
            "_________________________________________________________________\n",
            "conv2d_6 (Conv2D)            (None, 4, 4, 192)         331968    \n",
            "_________________________________________________________________\n",
            "activation_6 (Activation)    (None, 4, 4, 192)         0         \n",
            "_________________________________________________________________\n",
            "max_pooling2d_3 (MaxPooling2 (None, 2, 2, 192)         0         \n",
            "_________________________________________________________________\n",
            "dropout_3 (Dropout)          (None, 2, 2, 192)         0         \n",
            "_________________________________________________________________\n",
            "flatten_1 (Flatten)          (None, 768)               0         \n",
            "_________________________________________________________________\n",
            "dense_1 (Dense)              (None, 512)               393728    \n",
            "_________________________________________________________________\n",
            "activation_7 (Activation)    (None, 512)               0         \n",
            "_________________________________________________________________\n",
            "dropout_4 (Dropout)          (None, 512)               0         \n",
            "_________________________________________________________________\n",
            "dense_2 (Dense)              (None, 256)               131328    \n",
            "_________________________________________________________________\n",
            "activation_8 (Activation)    (None, 256)               0         \n",
            "_________________________________________________________________\n",
            "dropout_5 (Dropout)          (None, 256)               0         \n",
            "_________________________________________________________________\n",
            "dense_3 (Dense)              (None, 10)                2570      \n",
            "=================================================================\n",
            "Total params: 1,172,410\n",
            "Trainable params: 1,172,410\n",
            "Non-trainable params: 0\n",
            "_________________________________________________________________\n"
          ],
          "name": "stdout"
        }
      ]
    },
    {
      "cell_type": "code",
      "metadata": {
        "id": "5oK_V7WyfsXX",
        "colab_type": "code",
        "outputId": "84c56b27-69bc-4e47-8cf6-36c7ce10c261",
        "colab": {
          "base_uri": "https://localhost:8080/",
          "height": 1000
        }
      },
      "source": [
        "datagen = ImageDataGenerator(zoom_range=0.0, \n",
        "                             horizontal_flip=False)\n",
        "\n",
        "\n",
        "# train the model\n",
        "start = time.time()\n",
        "# Train the model\n",
        "model_info = model.fit_generator(datagen.flow(train_features, train_labels, batch_size = 128),\n",
        "                                 samples_per_epoch = train_features.shape[0], nb_epoch = 50, \n",
        "                                 validation_data = (test_features, test_labels), verbose=1)\n",
        "end = time.time()\n",
        "print (\"Model took %0.2f seconds to train\"%(end - start))\n",
        "# plot model history\n",
        "plot_model_history(model_info)\n",
        "# compute test accuracy\n",
        "print (\"Accuracy on test data is: %0.2f\"%accuracy(test_features, test_labels, model))"
      ],
      "execution_count": 0,
      "outputs": [
        {
          "output_type": "stream",
          "text": [
            "WARNING:tensorflow:From /usr/local/lib/python3.6/dist-packages/tensorflow_core/python/ops/math_grad.py:1424: where (from tensorflow.python.ops.array_ops) is deprecated and will be removed in a future version.\n",
            "Instructions for updating:\n",
            "Use tf.where in 2.0, which has the same broadcast rule as np.where\n"
          ],
          "name": "stdout"
        },
        {
          "output_type": "stream",
          "text": [
            "/usr/local/lib/python3.6/dist-packages/ipykernel_launcher.py:10: UserWarning: The semantics of the Keras 2 argument `steps_per_epoch` is not the same as the Keras 1 argument `samples_per_epoch`. `steps_per_epoch` is the number of batches to draw from the generator at each epoch. Basically steps_per_epoch = samples_per_epoch/batch_size. Similarly `nb_val_samples`->`validation_steps` and `val_samples`->`steps` arguments have changed. Update your method calls accordingly.\n",
            "  # Remove the CWD from sys.path while we load stuff.\n",
            "/usr/local/lib/python3.6/dist-packages/ipykernel_launcher.py:10: UserWarning: Update your `fit_generator` call to the Keras 2 API: `fit_generator(<keras_pre..., validation_data=(array([[[..., verbose=1, steps_per_epoch=390, epochs=50)`\n",
            "  # Remove the CWD from sys.path while we load stuff.\n"
          ],
          "name": "stderr"
        },
        {
          "output_type": "stream",
          "text": [
            "WARNING:tensorflow:From /usr/local/lib/python3.6/dist-packages/keras/backend/tensorflow_backend.py:1033: The name tf.assign_add is deprecated. Please use tf.compat.v1.assign_add instead.\n",
            "\n",
            "WARNING:tensorflow:From /usr/local/lib/python3.6/dist-packages/keras/backend/tensorflow_backend.py:1020: The name tf.assign is deprecated. Please use tf.compat.v1.assign instead.\n",
            "\n",
            "WARNING:tensorflow:From /usr/local/lib/python3.6/dist-packages/keras/backend/tensorflow_backend.py:3005: The name tf.Session is deprecated. Please use tf.compat.v1.Session instead.\n",
            "\n",
            "Epoch 1/50\n",
            "WARNING:tensorflow:From /usr/local/lib/python3.6/dist-packages/keras/backend/tensorflow_backend.py:190: The name tf.get_default_session is deprecated. Please use tf.compat.v1.get_default_session instead.\n",
            "\n",
            "WARNING:tensorflow:From /usr/local/lib/python3.6/dist-packages/keras/backend/tensorflow_backend.py:197: The name tf.ConfigProto is deprecated. Please use tf.compat.v1.ConfigProto instead.\n",
            "\n",
            "WARNING:tensorflow:From /usr/local/lib/python3.6/dist-packages/keras/backend/tensorflow_backend.py:207: The name tf.global_variables is deprecated. Please use tf.compat.v1.global_variables instead.\n",
            "\n",
            "WARNING:tensorflow:From /usr/local/lib/python3.6/dist-packages/keras/backend/tensorflow_backend.py:216: The name tf.is_variable_initialized is deprecated. Please use tf.compat.v1.is_variable_initialized instead.\n",
            "\n",
            "WARNING:tensorflow:From /usr/local/lib/python3.6/dist-packages/keras/backend/tensorflow_backend.py:223: The name tf.variables_initializer is deprecated. Please use tf.compat.v1.variables_initializer instead.\n",
            "\n",
            "390/390 [==============================] - 28s 73ms/step - loss: 1.8297 - acc: 0.3060 - val_loss: 1.4021 - val_acc: 0.4756\n",
            "Epoch 2/50\n",
            "390/390 [==============================] - 20s 51ms/step - loss: 1.3465 - acc: 0.5112 - val_loss: 1.1651 - val_acc: 0.5740\n",
            "Epoch 3/50\n",
            "390/390 [==============================] - 20s 51ms/step - loss: 1.1325 - acc: 0.5984 - val_loss: 0.9893 - val_acc: 0.6457\n",
            "Epoch 4/50\n",
            "390/390 [==============================] - 20s 51ms/step - loss: 0.9818 - acc: 0.6579 - val_loss: 0.8546 - val_acc: 0.7021\n",
            "Epoch 5/50\n",
            "390/390 [==============================] - 20s 51ms/step - loss: 0.8861 - acc: 0.6923 - val_loss: 0.7600 - val_acc: 0.7350\n",
            "Epoch 6/50\n",
            "390/390 [==============================] - 20s 51ms/step - loss: 0.8070 - acc: 0.7224 - val_loss: 0.7512 - val_acc: 0.7419\n",
            "Epoch 7/50\n",
            "390/390 [==============================] - 20s 51ms/step - loss: 0.7511 - acc: 0.7438 - val_loss: 0.7066 - val_acc: 0.7562\n",
            "Epoch 8/50\n",
            "390/390 [==============================] - 20s 51ms/step - loss: 0.7073 - acc: 0.7579 - val_loss: 0.6972 - val_acc: 0.7587\n",
            "Epoch 9/50\n",
            "390/390 [==============================] - 20s 51ms/step - loss: 0.6703 - acc: 0.7727 - val_loss: 0.6723 - val_acc: 0.7680\n",
            "Epoch 10/50\n",
            "390/390 [==============================] - 20s 51ms/step - loss: 0.6337 - acc: 0.7822 - val_loss: 0.6837 - val_acc: 0.7684\n",
            "Epoch 11/50\n",
            "390/390 [==============================] - 20s 51ms/step - loss: 0.6134 - acc: 0.7921 - val_loss: 0.6108 - val_acc: 0.7881\n",
            "Epoch 12/50\n",
            "390/390 [==============================] - 20s 51ms/step - loss: 0.5911 - acc: 0.8016 - val_loss: 0.6313 - val_acc: 0.7840\n",
            "Epoch 13/50\n",
            "390/390 [==============================] - 20s 51ms/step - loss: 0.5787 - acc: 0.8031 - val_loss: 0.6496 - val_acc: 0.7798\n",
            "Epoch 14/50\n",
            "390/390 [==============================] - 20s 51ms/step - loss: 0.5567 - acc: 0.8090 - val_loss: 0.6583 - val_acc: 0.7795\n",
            "Epoch 15/50\n",
            "390/390 [==============================] - 20s 51ms/step - loss: 0.5359 - acc: 0.8187 - val_loss: 0.6098 - val_acc: 0.7945\n",
            "Epoch 16/50\n",
            "390/390 [==============================] - 20s 51ms/step - loss: 0.5179 - acc: 0.8248 - val_loss: 0.5976 - val_acc: 0.7981\n",
            "Epoch 17/50\n",
            "390/390 [==============================] - 20s 51ms/step - loss: 0.5030 - acc: 0.8271 - val_loss: 0.6244 - val_acc: 0.7896\n",
            "Epoch 18/50\n",
            "390/390 [==============================] - 20s 51ms/step - loss: 0.4928 - acc: 0.8318 - val_loss: 0.5983 - val_acc: 0.7998\n",
            "Epoch 19/50\n",
            "390/390 [==============================] - 20s 51ms/step - loss: 0.4822 - acc: 0.8357 - val_loss: 0.5955 - val_acc: 0.7992\n",
            "Epoch 20/50\n",
            "390/390 [==============================] - 20s 51ms/step - loss: 0.4732 - acc: 0.8414 - val_loss: 0.6101 - val_acc: 0.7944\n",
            "Epoch 21/50\n",
            "390/390 [==============================] - 20s 51ms/step - loss: 0.4585 - acc: 0.8437 - val_loss: 0.6515 - val_acc: 0.7921\n",
            "Epoch 22/50\n",
            "390/390 [==============================] - 20s 52ms/step - loss: 0.4518 - acc: 0.8449 - val_loss: 0.6040 - val_acc: 0.8030\n",
            "Epoch 23/50\n",
            "390/390 [==============================] - 20s 51ms/step - loss: 0.4428 - acc: 0.8484 - val_loss: 0.6123 - val_acc: 0.8044\n",
            "Epoch 24/50\n",
            "390/390 [==============================] - 20s 51ms/step - loss: 0.4389 - acc: 0.8508 - val_loss: 0.5767 - val_acc: 0.8182\n",
            "Epoch 25/50\n",
            "390/390 [==============================] - 20s 51ms/step - loss: 0.4247 - acc: 0.8568 - val_loss: 0.6431 - val_acc: 0.7997\n",
            "Epoch 26/50\n",
            "390/390 [==============================] - 20s 51ms/step - loss: 0.4248 - acc: 0.8572 - val_loss: 0.6193 - val_acc: 0.8008\n",
            "Epoch 27/50\n",
            "390/390 [==============================] - 20s 51ms/step - loss: 0.4136 - acc: 0.8591 - val_loss: 0.5924 - val_acc: 0.8120\n",
            "Epoch 28/50\n",
            "390/390 [==============================] - 20s 52ms/step - loss: 0.4003 - acc: 0.8624 - val_loss: 0.6033 - val_acc: 0.8073\n",
            "Epoch 29/50\n",
            "390/390 [==============================] - 20s 51ms/step - loss: 0.3974 - acc: 0.8648 - val_loss: 0.5704 - val_acc: 0.8170\n",
            "Epoch 30/50\n",
            "390/390 [==============================] - 20s 51ms/step - loss: 0.3957 - acc: 0.8669 - val_loss: 0.5965 - val_acc: 0.8146\n",
            "Epoch 31/50\n",
            "390/390 [==============================] - 20s 51ms/step - loss: 0.3884 - acc: 0.8659 - val_loss: 0.5904 - val_acc: 0.8171\n",
            "Epoch 32/50\n",
            "390/390 [==============================] - 20s 51ms/step - loss: 0.3790 - acc: 0.8715 - val_loss: 0.5965 - val_acc: 0.8178\n",
            "Epoch 33/50\n",
            "390/390 [==============================] - 20s 51ms/step - loss: 0.3766 - acc: 0.8724 - val_loss: 0.6242 - val_acc: 0.8075\n",
            "Epoch 34/50\n",
            "390/390 [==============================] - 20s 51ms/step - loss: 0.3762 - acc: 0.8710 - val_loss: 0.5989 - val_acc: 0.8164\n",
            "Epoch 35/50\n",
            "390/390 [==============================] - 20s 51ms/step - loss: 0.3700 - acc: 0.8751 - val_loss: 0.6054 - val_acc: 0.8133\n",
            "Epoch 36/50\n",
            "390/390 [==============================] - 20s 51ms/step - loss: 0.3659 - acc: 0.8760 - val_loss: 0.5916 - val_acc: 0.8181\n",
            "Epoch 37/50\n",
            "390/390 [==============================] - 20s 51ms/step - loss: 0.3631 - acc: 0.8773 - val_loss: 0.6108 - val_acc: 0.8122\n",
            "Epoch 38/50\n",
            "390/390 [==============================] - 20s 51ms/step - loss: 0.3565 - acc: 0.8802 - val_loss: 0.6029 - val_acc: 0.8147\n",
            "Epoch 39/50\n",
            "390/390 [==============================] - 20s 51ms/step - loss: 0.3538 - acc: 0.8810 - val_loss: 0.6178 - val_acc: 0.8121\n",
            "Epoch 40/50\n",
            "390/390 [==============================] - 20s 51ms/step - loss: 0.3484 - acc: 0.8836 - val_loss: 0.5761 - val_acc: 0.8146\n",
            "Epoch 41/50\n",
            "390/390 [==============================] - 20s 51ms/step - loss: 0.3599 - acc: 0.8787 - val_loss: 0.5911 - val_acc: 0.8193\n",
            "Epoch 42/50\n",
            "390/390 [==============================] - 20s 51ms/step - loss: 0.3403 - acc: 0.8870 - val_loss: 0.5927 - val_acc: 0.8202\n",
            "Epoch 43/50\n",
            "390/390 [==============================] - 20s 51ms/step - loss: 0.3376 - acc: 0.8882 - val_loss: 0.6088 - val_acc: 0.8176\n",
            "Epoch 44/50\n",
            "390/390 [==============================] - 20s 51ms/step - loss: 0.3448 - acc: 0.8857 - val_loss: 0.5869 - val_acc: 0.8205\n",
            "Epoch 45/50\n",
            "390/390 [==============================] - 20s 51ms/step - loss: 0.3377 - acc: 0.8877 - val_loss: 0.6173 - val_acc: 0.8180\n",
            "Epoch 46/50\n",
            "390/390 [==============================] - 20s 51ms/step - loss: 0.3201 - acc: 0.8926 - val_loss: 0.6088 - val_acc: 0.8181\n",
            "Epoch 47/50\n",
            "390/390 [==============================] - 20s 51ms/step - loss: 0.3241 - acc: 0.8913 - val_loss: 0.6063 - val_acc: 0.8182\n",
            "Epoch 48/50\n",
            "390/390 [==============================] - 20s 51ms/step - loss: 0.3245 - acc: 0.8920 - val_loss: 0.6454 - val_acc: 0.8193\n",
            "Epoch 49/50\n",
            "390/390 [==============================] - 20s 51ms/step - loss: 0.3189 - acc: 0.8921 - val_loss: 0.6409 - val_acc: 0.8133\n",
            "Epoch 50/50\n",
            "390/390 [==============================] - 20s 51ms/step - loss: 0.3140 - acc: 0.8952 - val_loss: 0.6199 - val_acc: 0.8181\n",
            "Model took 1006.96 seconds to train\n"
          ],
          "name": "stdout"
        },
        {
          "output_type": "display_data",
          "data": {
            "image/png": "[encoded data removed]",
            "text/plain": [
              "<Figure size 1080x360 with 2 Axes>"
            ]
          },
          "metadata": {
            "tags": []
          }
        },
        {
          "output_type": "stream",
          "text": [
            "Accuracy on test data is: 81.81\n"
          ],
          "name": "stdout"
        }
      ]
    },
    {
      "cell_type": "code",
      "metadata": {
        "id": "loAvTv-DyHdt",
        "colab_type": "code",
        "colab": {}
      },
      "source": [
        "def train_model(current_model):\n",
        "  datagen = ImageDataGenerator(zoom_range=0.0, \n",
        "                             horizontal_flip=False)\n",
        "\n",
        "\n",
        "  # train the model\n",
        "  start = time.time()\n",
        "  # Train the model\n",
        "  current_model_info = current_model.fit_generator(datagen.flow(train_features, train_labels, batch_size = 128),\n",
        "                                  samples_per_epoch = train_features.shape[0], nb_epoch = 50, \n",
        "                                  validation_data = (test_features, test_labels), verbose=1)\n",
        "  end = time.time()\n",
        "  print (\"Model took %0.2f seconds to train\"%(end - start))\n",
        "  # plot model history\n",
        "  plot_model_history(current_model_info)\n",
        "  # compute test accuracy\n",
        "  print (\"Accuracy on test data is: %0.2f\"%accuracy(test_features, test_labels, current_model))"
      ],
      "execution_count": 0,
      "outputs": []
    },
    {
      "cell_type": "code",
      "metadata": {
        "id": "aqCuLrY4uNvV",
        "colab_type": "code",
        "colab": {}
      },
      "source": [
        "def train_modelWithScheduler(current_model):\n",
        "  datagen = ImageDataGenerator(zoom_range=0.0, \n",
        "                             horizontal_flip=False)\n",
        "\n",
        "\n",
        "  # train the model\n",
        "  start = time.time()\n",
        "  # Train the model\n",
        "  current_model_info = current_model.fit_generator(datagen.flow(train_features, train_labels, batch_size = 128),\n",
        "                                  samples_per_epoch = train_features.shape[0], nb_epoch = 50, \n",
        "                                validation_data = (test_features, test_labels),callbacks=[LearningRateScheduler(scheduler, verbose=1)],\n",
        "                                   verbose=1)\n",
        "  end = time.time()\n",
        "  print (\"Model took %0.2f seconds to train\"%(end - start))\n",
        "  # plot model history\n",
        "  plot_model_history(current_model_info)\n",
        "  # compute test accuracy\n",
        "  print (\"Accuracy on test data is: %0.2f\"%accuracy(test_features, test_labels, current_model))"
      ],
      "execution_count": 0,
      "outputs": []
    },
    {
      "cell_type": "code",
      "metadata": {
        "id": "ex56sl2lWmpI",
        "colab_type": "code",
        "colab": {}
      },
      "source": [
        "def trainModelWithCallbacks(current_model, myCallbacks):\n",
        "  datagen = ImageDataGenerator(zoom_range=0.0, \n",
        "                             horizontal_flip=False)\n",
        "\n",
        "\n",
        "  # train the model\n",
        "  start = time.time()\n",
        "  # Train the model\n",
        "  current_model_info = current_model.fit_generator(datagen.flow(train_features, train_labels, batch_size = 128),\n",
        "                                  samples_per_epoch = train_features.shape[0], nb_epoch = 50, \n",
        "                                validation_data = (test_features, test_labels),callbacks=[myCallbacks],\n",
        "                                   verbose=1)\n",
        "  end = time.time()\n",
        "  print (\"Model took %0.2f seconds to train\"%(end - start))\n",
        "  # plot model history\n",
        "  plot_model_history(current_model_info)\n",
        "  # compute test accuracy\n",
        "  print (\"Accuracy on test data is: %0.2f\"%accuracy(test_features, test_labels, current_model))  "
      ],
      "execution_count": 0,
      "outputs": []
    },
    {
      "cell_type": "markdown",
      "metadata": {
        "id": "h5cAgUFayJiG",
        "colab_type": "text"
      },
      "source": [
        "### Assignment\n",
        "\n",
        "1. it uses depthwise separable convolution ONLY (no Conv2D)\n",
        "2. it uses BatchNormalization \n",
        "3. < 100000 parameters\n",
        "4. Proper dropout values\n",
        "5. Mention for each layer\n",
        "\n",
        "    a. Receptive Field\n",
        "\n",
        "    b. Indented block\n",
        "\n",
        "    c. output size\n",
        "6. runs for 50 epochs\n",
        "7. Beat the base model accuracy which is 81.81%\n",
        "\n"
      ]
    },
    {
      "cell_type": "markdown",
      "metadata": {
        "id": "OF6F_RkIfCfC",
        "colab_type": "text"
      },
      "source": [
        "#### Final Notes - \n",
        "\n",
        "As per the latest run - \n",
        "* __Base Model Accuracy = 81.81%__\n",
        "\n",
        "* Final Accuracy\n",
        "1. __Model Without Image Augmentation (Model name = m8)__\n",
        "\n",
        "> Max Accuracy = 83.06% at epoch 42\n",
        "\n",
        "> Final Epoch Accuracy = 82.99%\n",
        "\n",
        "2. __Model with Image Augmentation (Model name = m9)__\n",
        "\n",
        "> Maximum Accuracy = 84.20% at Epoch 44\n",
        "\n",
        "> Final Epoch Accuracy = 83.58%\n",
        "\n",
        "Total Number of Parameters\n",
        "* Total params: 86,965\n",
        "* Trainable params: 85,621\n",
        "* Non-trainable params: 1,344 \n",
        "\n",
        "\n"
      ]
    },
    {
      "cell_type": "code",
      "metadata": {
        "id": "mGsmyov9hR9R",
        "colab_type": "code",
        "colab": {}
      },
      "source": [
        ""
      ],
      "execution_count": 0,
      "outputs": []
    },
    {
      "cell_type": "markdown",
      "metadata": {
        "id": "rLlmPXfTSmJR",
        "colab_type": "text"
      },
      "source": [
        "### Trail - 9 / ImageAugmentation\n",
        "\n",
        "Trail - 8 with Image Augmentaion"
      ]
    },
    {
      "cell_type": "code",
      "metadata": {
        "id": "SLobFa6FSryT",
        "colab_type": "code",
        "colab": {}
      },
      "source": [
        "def trainModelWithCallbacksAndImageAugmentation(current_model, myCallbacks):\n",
        "  datagen = ImageDataGenerator(shear_range=0.2,\n",
        "                               zoom_range=0.0, \n",
        "                               rotation_range=20,                               \n",
        "                               horizontal_flip=True)\n",
        "\n",
        "\n",
        "  # train the model\n",
        "  start = time.time()\n",
        "  # Train the model\n",
        "  current_model_info = current_model.fit_generator(datagen.flow(train_features, train_labels, batch_size = 128),\n",
        "                                  samples_per_epoch = train_features.shape[0], nb_epoch = 50, \n",
        "                                validation_data = (test_features, test_labels),callbacks=[myCallbacks],\n",
        "                                   verbose=1)\n",
        "  end = time.time()\n",
        "  print (\"Model took %0.2f seconds to train\"%(end - start))\n",
        "  # plot model history\n",
        "  plot_model_history(current_model_info)\n",
        "  # compute test accuracy\n",
        "  print (\"Accuracy on test data is: %0.2f\"%accuracy(test_features, test_labels, current_model))  "
      ],
      "execution_count": 0,
      "outputs": []
    },
    {
      "cell_type": "code",
      "metadata": {
        "id": "1KZL8gfqVksL",
        "colab_type": "code",
        "colab": {}
      },
      "source": [
        "m9 = Sequential()\n",
        "\n",
        "# Block 1\n",
        "m9.add(SeparableConv2D(filters=48, kernel_size=(3,3),padding='same', input_shape=(32, 32, 3))) # 32\n",
        "m9.add(BatchNormalization())\n",
        "m9.add(Activation('relu'))\n",
        "m9.add(SeparableConv2D(filters=48, kernel_size=(3,3))) # 30\n",
        "m9.add(BatchNormalization())\n",
        "m9.add(Activation('relu'))\n",
        "m9.add(MaxPooling2D(pool_size=2)) #15\n",
        "m9.add(Dropout(0.25))\n",
        "\n",
        "# Block 2\n",
        "m9.add(SeparableConv2D(filters=96, kernel_size=(3,3),padding='same')) # 15\n",
        "m9.add(BatchNormalization())\n",
        "m9.add(Activation('relu'))\n",
        "m9.add(SeparableConv2D(filters=96, kernel_size=(3,3))) # 13 \n",
        "m9.add(BatchNormalization())\n",
        "m9.add(Activation('relu'))\n",
        "m9.add(MaxPooling2D(pool_size=2)) # 6\n",
        "m9.add(Dropout(0.25))\n",
        "\n",
        "# block 3\n",
        "m9.add(SeparableConv2D(filters=192, kernel_size=(3, 3),padding='same')) #6\n",
        "m9.add(Activation('relu'))\n",
        "m9.add(BatchNormalization())\n",
        "m9.add(SeparableConv2D(filters=192, kernel_size=(3, 3))) #4\n",
        "m9.add(Activation('relu'))\n",
        "m9.add(BatchNormalization())\n",
        "m9.add(MaxPooling2D(pool_size=(2, 2))) #2\n",
        "m9.add(Dropout(0.25))\n",
        "\n",
        "# check if the below can be done using SeperableConv@D\n",
        "m9.add(Convolution2D(num_classes, 2))\n",
        "\n",
        "m9.add(GlobalAveragePooling2D())\n",
        "m9.add(Activation('softmax'))\n",
        "\n",
        "m9.compile(optimizer=Adam(lr=0.003), loss='categorical_crossentropy', metrics=['accuracy']) "
      ],
      "execution_count": 0,
      "outputs": []
    },
    {
      "cell_type": "code",
      "metadata": {
        "id": "7aPDtHzgVrpf",
        "colab_type": "code",
        "outputId": "9e4d9f19-608e-40bb-c1c1-eaf69f45ed7a",
        "colab": {
          "base_uri": "https://localhost:8080/",
          "height": 1000
        }
      },
      "source": [
        "m9.summary()"
      ],
      "execution_count": 0,
      "outputs": [
        {
          "output_type": "stream",
          "text": [
            "Model: \"sequential_3\"\n",
            "_________________________________________________________________\n",
            "Layer (type)                 Output Shape              Param #   \n",
            "=================================================================\n",
            "separable_conv2d_7 (Separabl (None, 32, 32, 48)        219       \n",
            "_________________________________________________________________\n",
            "batch_normalization_7 (Batch (None, 32, 32, 48)        192       \n",
            "_________________________________________________________________\n",
            "activation_16 (Activation)   (None, 32, 32, 48)        0         \n",
            "_________________________________________________________________\n",
            "separable_conv2d_8 (Separabl (None, 30, 30, 48)        2784      \n",
            "_________________________________________________________________\n",
            "batch_normalization_8 (Batch (None, 30, 30, 48)        192       \n",
            "_________________________________________________________________\n",
            "activation_17 (Activation)   (None, 30, 30, 48)        0         \n",
            "_________________________________________________________________\n",
            "max_pooling2d_7 (MaxPooling2 (None, 15, 15, 48)        0         \n",
            "_________________________________________________________________\n",
            "dropout_9 (Dropout)          (None, 15, 15, 48)        0         \n",
            "_________________________________________________________________\n",
            "separable_conv2d_9 (Separabl (None, 15, 15, 96)        5136      \n",
            "_________________________________________________________________\n",
            "batch_normalization_9 (Batch (None, 15, 15, 96)        384       \n",
            "_________________________________________________________________\n",
            "activation_18 (Activation)   (None, 15, 15, 96)        0         \n",
            "_________________________________________________________________\n",
            "separable_conv2d_10 (Separab (None, 13, 13, 96)        10176     \n",
            "_________________________________________________________________\n",
            "batch_normalization_10 (Batc (None, 13, 13, 96)        384       \n",
            "_________________________________________________________________\n",
            "activation_19 (Activation)   (None, 13, 13, 96)        0         \n",
            "_________________________________________________________________\n",
            "max_pooling2d_8 (MaxPooling2 (None, 6, 6, 96)          0         \n",
            "_________________________________________________________________\n",
            "dropout_10 (Dropout)         (None, 6, 6, 96)          0         \n",
            "_________________________________________________________________\n",
            "separable_conv2d_11 (Separab (None, 6, 6, 192)         19488     \n",
            "_________________________________________________________________\n",
            "activation_20 (Activation)   (None, 6, 6, 192)         0         \n",
            "_________________________________________________________________\n",
            "batch_normalization_11 (Batc (None, 6, 6, 192)         768       \n",
            "_________________________________________________________________\n",
            "separable_conv2d_12 (Separab (None, 4, 4, 192)         38784     \n",
            "_________________________________________________________________\n",
            "activation_21 (Activation)   (None, 4, 4, 192)         0         \n",
            "_________________________________________________________________\n",
            "batch_normalization_12 (Batc (None, 4, 4, 192)         768       \n",
            "_________________________________________________________________\n",
            "max_pooling2d_9 (MaxPooling2 (None, 2, 2, 192)         0         \n",
            "_________________________________________________________________\n",
            "dropout_11 (Dropout)         (None, 2, 2, 192)         0         \n",
            "_________________________________________________________________\n",
            "conv2d_8 (Conv2D)            (None, 1, 1, 10)          7690      \n",
            "_________________________________________________________________\n",
            "global_average_pooling2d_2 ( (None, 10)                0         \n",
            "_________________________________________________________________\n",
            "activation_22 (Activation)   (None, 10)                0         \n",
            "=================================================================\n",
            "Total params: 86,965\n",
            "Trainable params: 85,621\n",
            "Non-trainable params: 1,344\n",
            "_________________________________________________________________\n"
          ],
          "name": "stdout"
        }
      ]
    },
    {
      "cell_type": "code",
      "metadata": {
        "id": "_bZ19Wk6VtCf",
        "colab_type": "code",
        "outputId": "2ed4a159-9084-4f32-aa42-66a8e031e117",
        "colab": {
          "base_uri": "https://localhost:8080/",
          "height": 1000
        }
      },
      "source": [
        "trainModelWithCallbacksAndImageAugmentation(m9, reduce_lr)"
      ],
      "execution_count": 0,
      "outputs": [
        {
          "output_type": "stream",
          "text": [
            "/usr/local/lib/python3.6/dist-packages/ipykernel_launcher.py:14: UserWarning: The semantics of the Keras 2 argument `steps_per_epoch` is not the same as the Keras 1 argument `samples_per_epoch`. `steps_per_epoch` is the number of batches to draw from the generator at each epoch. Basically steps_per_epoch = samples_per_epoch/batch_size. Similarly `nb_val_samples`->`validation_steps` and `val_samples`->`steps` arguments have changed. Update your method calls accordingly.\n",
            "  \n",
            "/usr/local/lib/python3.6/dist-packages/ipykernel_launcher.py:14: UserWarning: Update your `fit_generator` call to the Keras 2 API: `fit_generator(<keras_pre..., validation_data=(array([[[..., callbacks=[<keras.ca..., verbose=1, steps_per_epoch=390, epochs=50)`\n",
            "  \n"
          ],
          "name": "stderr"
        },
        {
          "output_type": "stream",
          "text": [
            "Epoch 1/50\n",
            "390/390 [==============================] - 38s 97ms/step - loss: 1.7362 - acc: 0.4056 - val_loss: 1.7586 - val_acc: 0.4547\n",
            "Epoch 2/50\n",
            "390/390 [==============================] - 36s 92ms/step - loss: 1.2495 - acc: 0.5559 - val_loss: 1.3304 - val_acc: 0.5589\n",
            "Epoch 3/50\n",
            "390/390 [==============================] - 36s 92ms/step - loss: 1.0797 - acc: 0.6178 - val_loss: 0.9840 - val_acc: 0.6542\n",
            "Epoch 4/50\n",
            "390/390 [==============================] - 36s 92ms/step - loss: 0.9900 - acc: 0.6500 - val_loss: 0.9834 - val_acc: 0.6688\n",
            "Epoch 5/50\n",
            "390/390 [==============================] - 36s 92ms/step - loss: 0.9185 - acc: 0.6757 - val_loss: 0.9031 - val_acc: 0.6918\n",
            "Epoch 6/50\n",
            "390/390 [==============================] - 35s 91ms/step - loss: 0.8758 - acc: 0.6925 - val_loss: 1.2490 - val_acc: 0.6001\n",
            "Epoch 7/50\n",
            "390/390 [==============================] - 35s 91ms/step - loss: 0.8406 - acc: 0.7041 - val_loss: 0.9247 - val_acc: 0.6782\n",
            "Epoch 8/50\n",
            "390/390 [==============================] - 35s 91ms/step - loss: 0.8138 - acc: 0.7149 - val_loss: 0.8967 - val_acc: 0.7005\n",
            "Epoch 9/50\n",
            "390/390 [==============================] - 36s 91ms/step - loss: 0.7833 - acc: 0.7258 - val_loss: 0.8338 - val_acc: 0.7167\n",
            "Epoch 10/50\n",
            "390/390 [==============================] - 35s 91ms/step - loss: 0.7633 - acc: 0.7324 - val_loss: 0.9817 - val_acc: 0.6765\n",
            "Epoch 11/50\n",
            "390/390 [==============================] - 35s 91ms/step - loss: 0.7452 - acc: 0.7392 - val_loss: 0.8075 - val_acc: 0.7254\n",
            "Epoch 12/50\n",
            "390/390 [==============================] - 36s 91ms/step - loss: 0.7352 - acc: 0.7447 - val_loss: 0.9305 - val_acc: 0.6876\n",
            "Epoch 13/50\n",
            "390/390 [==============================] - 35s 90ms/step - loss: 0.7166 - acc: 0.7503 - val_loss: 0.7519 - val_acc: 0.7428\n",
            "Epoch 14/50\n",
            "390/390 [==============================] - 36s 91ms/step - loss: 0.7051 - acc: 0.7561 - val_loss: 0.7661 - val_acc: 0.7484\n",
            "Epoch 15/50\n",
            "390/390 [==============================] - 35s 91ms/step - loss: 0.6935 - acc: 0.7578 - val_loss: 0.7062 - val_acc: 0.7621\n",
            "Epoch 16/50\n",
            "390/390 [==============================] - 36s 91ms/step - loss: 0.6798 - acc: 0.7624 - val_loss: 0.8276 - val_acc: 0.7242\n",
            "Epoch 17/50\n",
            "390/390 [==============================] - 36s 91ms/step - loss: 0.6667 - acc: 0.7664 - val_loss: 0.6968 - val_acc: 0.7636\n",
            "Epoch 18/50\n",
            "390/390 [==============================] - 35s 90ms/step - loss: 0.6586 - acc: 0.7701 - val_loss: 0.7851 - val_acc: 0.7333\n",
            "Epoch 19/50\n",
            "390/390 [==============================] - 35s 91ms/step - loss: 0.6553 - acc: 0.7696 - val_loss: 0.6894 - val_acc: 0.7600\n",
            "Epoch 20/50\n",
            "390/390 [==============================] - 35s 91ms/step - loss: 0.6404 - acc: 0.7773 - val_loss: 0.6773 - val_acc: 0.7661\n",
            "Epoch 21/50\n",
            "390/390 [==============================] - 36s 92ms/step - loss: 0.6377 - acc: 0.7764 - val_loss: 0.7703 - val_acc: 0.7445\n",
            "Epoch 22/50\n",
            "390/390 [==============================] - 36s 91ms/step - loss: 0.6276 - acc: 0.7809 - val_loss: 0.8082 - val_acc: 0.7368\n",
            "Epoch 23/50\n",
            "390/390 [==============================] - 35s 91ms/step - loss: 0.6232 - acc: 0.7834 - val_loss: 0.6688 - val_acc: 0.7774\n",
            "Epoch 24/50\n",
            "390/390 [==============================] - 35s 91ms/step - loss: 0.6139 - acc: 0.7862 - val_loss: 0.6045 - val_acc: 0.7946\n",
            "Epoch 25/50\n",
            "390/390 [==============================] - 35s 91ms/step - loss: 0.6139 - acc: 0.7849 - val_loss: 0.6536 - val_acc: 0.7797\n",
            "Epoch 26/50\n",
            "390/390 [==============================] - 35s 91ms/step - loss: 0.6039 - acc: 0.7893 - val_loss: 0.6652 - val_acc: 0.7746\n",
            "Epoch 27/50\n",
            "390/390 [==============================] - 35s 91ms/step - loss: 0.5990 - acc: 0.7921 - val_loss: 0.5833 - val_acc: 0.7974\n",
            "Epoch 28/50\n",
            "390/390 [==============================] - 35s 90ms/step - loss: 0.5956 - acc: 0.7925 - val_loss: 0.7200 - val_acc: 0.7663\n",
            "Epoch 29/50\n",
            "390/390 [==============================] - 35s 91ms/step - loss: 0.5894 - acc: 0.7946 - val_loss: 0.5590 - val_acc: 0.8074\n",
            "Epoch 30/50\n",
            "390/390 [==============================] - 36s 91ms/step - loss: 0.5861 - acc: 0.7961 - val_loss: 0.7456 - val_acc: 0.7559\n",
            "Epoch 31/50\n",
            "390/390 [==============================] - 35s 91ms/step - loss: 0.5741 - acc: 0.7992 - val_loss: 0.6964 - val_acc: 0.7635\n",
            "Epoch 32/50\n",
            "390/390 [==============================] - 35s 91ms/step - loss: 0.5800 - acc: 0.7976 - val_loss: 0.6581 - val_acc: 0.7779\n",
            "Epoch 33/50\n",
            "390/390 [==============================] - 36s 91ms/step - loss: 0.5713 - acc: 0.8009 - val_loss: 0.5272 - val_acc: 0.8197\n",
            "Epoch 34/50\n",
            "390/390 [==============================] - 35s 91ms/step - loss: 0.5665 - acc: 0.8025 - val_loss: 0.6228 - val_acc: 0.7914\n",
            "Epoch 35/50\n",
            "390/390 [==============================] - 35s 91ms/step - loss: 0.5644 - acc: 0.8034 - val_loss: 0.6326 - val_acc: 0.7828\n",
            "Epoch 36/50\n",
            "390/390 [==============================] - 35s 90ms/step - loss: 0.5587 - acc: 0.8043 - val_loss: 0.6396 - val_acc: 0.7864\n",
            "Epoch 37/50\n",
            "390/390 [==============================] - 36s 91ms/step - loss: 0.5586 - acc: 0.8062 - val_loss: 0.5279 - val_acc: 0.8199\n",
            "\n",
            "Epoch 00037: ReduceLROnPlateau reducing learning rate to 0.001500000013038516.\n",
            "Epoch 38/50\n",
            "390/390 [==============================] - 35s 91ms/step - loss: 0.5157 - acc: 0.8197 - val_loss: 0.5548 - val_acc: 0.8124\n",
            "Epoch 39/50\n",
            "390/390 [==============================] - 35s 90ms/step - loss: 0.5080 - acc: 0.8220 - val_loss: 0.5347 - val_acc: 0.8194\n",
            "Epoch 40/50\n",
            "390/390 [==============================] - 35s 91ms/step - loss: 0.4997 - acc: 0.8256 - val_loss: 0.5082 - val_acc: 0.8263\n",
            "Epoch 41/50\n",
            "390/390 [==============================] - 35s 90ms/step - loss: 0.4975 - acc: 0.8269 - val_loss: 0.5118 - val_acc: 0.8276\n",
            "Epoch 42/50\n",
            "390/390 [==============================] - 35s 90ms/step - loss: 0.5005 - acc: 0.8238 - val_loss: 0.5300 - val_acc: 0.8185\n",
            "Epoch 43/50\n",
            "390/390 [==============================] - 35s 90ms/step - loss: 0.4948 - acc: 0.8281 - val_loss: 0.5106 - val_acc: 0.8273\n",
            "Epoch 44/50\n",
            "390/390 [==============================] - 35s 90ms/step - loss: 0.4868 - acc: 0.8284 - val_loss: 0.4721 - val_acc: 0.8420\n",
            "Epoch 45/50\n",
            "390/390 [==============================] - 35s 90ms/step - loss: 0.4917 - acc: 0.8276 - val_loss: 0.5221 - val_acc: 0.8231\n",
            "Epoch 46/50\n",
            "390/390 [==============================] - 35s 91ms/step - loss: 0.4826 - acc: 0.8309 - val_loss: 0.5147 - val_acc: 0.8260\n",
            "Epoch 47/50\n",
            "390/390 [==============================] - 36s 91ms/step - loss: 0.4852 - acc: 0.8292 - val_loss: 0.5035 - val_acc: 0.8293\n",
            "Epoch 48/50\n",
            "390/390 [==============================] - 35s 91ms/step - loss: 0.4813 - acc: 0.8306 - val_loss: 0.5164 - val_acc: 0.8278\n",
            "\n",
            "Epoch 00048: ReduceLROnPlateau reducing learning rate to 0.000750000006519258.\n",
            "Epoch 49/50\n",
            "390/390 [==============================] - 36s 91ms/step - loss: 0.4596 - acc: 0.8392 - val_loss: 0.4803 - val_acc: 0.8388\n",
            "Epoch 50/50\n",
            "390/390 [==============================] - 35s 90ms/step - loss: 0.4612 - acc: 0.8397 - val_loss: 0.4897 - val_acc: 0.8358\n",
            "Model took 1776.46 seconds to train\n"
          ],
          "name": "stdout"
        },
        {
          "output_type": "display_data",
          "data": {
            "image/png": "[encoded data removed]",
            "text/plain": [
              "<Figure size 1080x360 with 2 Axes>"
            ]
          },
          "metadata": {
            "tags": []
          }
        },
        {
          "output_type": "stream",
          "text": [
            "Accuracy on test data is: 83.58\n"
          ],
          "name": "stdout"
        }
      ]
    },
    {
      "cell_type": "code",
      "metadata": {
        "id": "Rj2-zkhOWBa4",
        "colab_type": "code",
        "colab": {}
      },
      "source": [
        ""
      ],
      "execution_count": 0,
      "outputs": []
    },
    {
      "cell_type": "code",
      "metadata": {
        "id": "07TeaeltSsW9",
        "colab_type": "code",
        "colab": {}
      },
      "source": [
        ""
      ],
      "execution_count": 0,
      "outputs": []
    },
    {
      "cell_type": "code",
      "metadata": {
        "id": "adBI18qCSsg1",
        "colab_type": "code",
        "colab": {}
      },
      "source": [
        ""
      ],
      "execution_count": 0,
      "outputs": []
    },
    {
      "cell_type": "markdown",
      "metadata": {
        "id": "vkUynFM0VDb3",
        "colab_type": "text"
      },
      "source": [
        "### Trail - 8 / Finale Model\n",
        "\n",
        "FRom the Trail-7, at the end of 50th epoch we can see the accuracy is hitting 82%, if we can run for few more iterations it may reach to base model accuracy.\n",
        "\n",
        "Also, we need to observe the Learning rate is decreasing very slowly. My intuition is as the LR is very low, its not achieving the convergence. Lets apply minimum LR by use of ReduceLROnPlateau callback."
      ]
    },
    {
      "cell_type": "code",
      "metadata": {
        "id": "f4Cqvip0VC2T",
        "colab_type": "code",
        "colab": {}
      },
      "source": [
        "reduce_lr = ReduceLROnPlateau(monitor='val_loss', factor=0.5, mode= 'min', patience=4, min_lr=0.0001, verbose=1)"
      ],
      "execution_count": 0,
      "outputs": []
    },
    {
      "cell_type": "code",
      "metadata": {
        "id": "L8DLRxHxVCmF",
        "colab_type": "code",
        "outputId": "3d258d18-c1c4-4cc5-cbf0-974372470a6e",
        "colab": {
          "base_uri": "https://localhost:8080/",
          "height": 73
        }
      },
      "source": [
        "m8 = Sequential()\n",
        "\n",
        "# Block 1\n",
        "m8.add(SeparableConv2D(filters=48, kernel_size=(3,3),padding='same', input_shape=(32, 32, 3))) # 32\n",
        "m8.add(BatchNormalization())\n",
        "m8.add(Activation('relu'))\n",
        "m8.add(SeparableConv2D(filters=48, kernel_size=(3,3))) # 30\n",
        "m8.add(BatchNormalization())\n",
        "m8.add(Activation('relu'))\n",
        "m8.add(MaxPooling2D(pool_size=2)) #15\n",
        "m8.add(Dropout(0.25))\n",
        "\n",
        "# Block 2\n",
        "m8.add(SeparableConv2D(filters=96, kernel_size=(3,3),padding='same')) # 15\n",
        "m8.add(BatchNormalization())\n",
        "m8.add(Activation('relu'))\n",
        "m8.add(SeparableConv2D(filters=96, kernel_size=(3,3))) # 13 \n",
        "m8.add(BatchNormalization())\n",
        "m8.add(Activation('relu'))\n",
        "m8.add(MaxPooling2D(pool_size=2)) # 6\n",
        "m8.add(Dropout(0.25))\n",
        "\n",
        "# block 3\n",
        "m8.add(SeparableConv2D(filters=192, kernel_size=(3, 3),padding='same')) #6\n",
        "m8.add(Activation('relu'))\n",
        "m8.add(BatchNormalization())\n",
        "m8.add(SeparableConv2D(filters=192, kernel_size=(3, 3))) #4\n",
        "m8.add(Activation('relu'))\n",
        "m8.add(BatchNormalization())\n",
        "m8.add(MaxPooling2D(pool_size=(2, 2))) #2\n",
        "m8.add(Dropout(0.25))\n",
        "\n",
        "# check if the below can be done using SeperableConv@D\n",
        "m8.add(Convolution2D(num_classes, 2))\n",
        "\n",
        "m8.add(GlobalAveragePooling2D())\n",
        "m8.add(Activation('softmax'))\n",
        "\n",
        "m8.compile(optimizer=Adam(lr=0.003), loss='categorical_crossentropy', metrics=['accuracy']) "
      ],
      "execution_count": 0,
      "outputs": [
        {
          "output_type": "stream",
          "text": [
            "WARNING:tensorflow:From /usr/local/lib/python3.6/dist-packages/keras/backend/tensorflow_backend.py:2041: The name tf.nn.fused_batch_norm is deprecated. Please use tf.compat.v1.nn.fused_batch_norm instead.\n",
            "\n"
          ],
          "name": "stdout"
        }
      ]
    },
    {
      "cell_type": "code",
      "metadata": {
        "id": "8xCobUXGWdaH",
        "colab_type": "code",
        "outputId": "30347c51-0332-4fe6-ed68-3a9d02c3c850",
        "colab": {
          "base_uri": "https://localhost:8080/",
          "height": 1000
        }
      },
      "source": [
        "m8.summary()"
      ],
      "execution_count": 0,
      "outputs": [
        {
          "output_type": "stream",
          "text": [
            "Model: \"sequential_2\"\n",
            "_________________________________________________________________\n",
            "Layer (type)                 Output Shape              Param #   \n",
            "=================================================================\n",
            "separable_conv2d_1 (Separabl (None, 32, 32, 48)        219       \n",
            "_________________________________________________________________\n",
            "batch_normalization_1 (Batch (None, 32, 32, 48)        192       \n",
            "_________________________________________________________________\n",
            "activation_9 (Activation)    (None, 32, 32, 48)        0         \n",
            "_________________________________________________________________\n",
            "separable_conv2d_2 (Separabl (None, 30, 30, 48)        2784      \n",
            "_________________________________________________________________\n",
            "batch_normalization_2 (Batch (None, 30, 30, 48)        192       \n",
            "_________________________________________________________________\n",
            "activation_10 (Activation)   (None, 30, 30, 48)        0         \n",
            "_________________________________________________________________\n",
            "max_pooling2d_4 (MaxPooling2 (None, 15, 15, 48)        0         \n",
            "_________________________________________________________________\n",
            "dropout_6 (Dropout)          (None, 15, 15, 48)        0         \n",
            "_________________________________________________________________\n",
            "separable_conv2d_3 (Separabl (None, 15, 15, 96)        5136      \n",
            "_________________________________________________________________\n",
            "batch_normalization_3 (Batch (None, 15, 15, 96)        384       \n",
            "_________________________________________________________________\n",
            "activation_11 (Activation)   (None, 15, 15, 96)        0         \n",
            "_________________________________________________________________\n",
            "separable_conv2d_4 (Separabl (None, 13, 13, 96)        10176     \n",
            "_________________________________________________________________\n",
            "batch_normalization_4 (Batch (None, 13, 13, 96)        384       \n",
            "_________________________________________________________________\n",
            "activation_12 (Activation)   (None, 13, 13, 96)        0         \n",
            "_________________________________________________________________\n",
            "max_pooling2d_5 (MaxPooling2 (None, 6, 6, 96)          0         \n",
            "_________________________________________________________________\n",
            "dropout_7 (Dropout)          (None, 6, 6, 96)          0         \n",
            "_________________________________________________________________\n",
            "separable_conv2d_5 (Separabl (None, 6, 6, 192)         19488     \n",
            "_________________________________________________________________\n",
            "activation_13 (Activation)   (None, 6, 6, 192)         0         \n",
            "_________________________________________________________________\n",
            "batch_normalization_5 (Batch (None, 6, 6, 192)         768       \n",
            "_________________________________________________________________\n",
            "separable_conv2d_6 (Separabl (None, 4, 4, 192)         38784     \n",
            "_________________________________________________________________\n",
            "activation_14 (Activation)   (None, 4, 4, 192)         0         \n",
            "_________________________________________________________________\n",
            "batch_normalization_6 (Batch (None, 4, 4, 192)         768       \n",
            "_________________________________________________________________\n",
            "max_pooling2d_6 (MaxPooling2 (None, 2, 2, 192)         0         \n",
            "_________________________________________________________________\n",
            "dropout_8 (Dropout)          (None, 2, 2, 192)         0         \n",
            "_________________________________________________________________\n",
            "conv2d_7 (Conv2D)            (None, 1, 1, 10)          7690      \n",
            "_________________________________________________________________\n",
            "global_average_pooling2d_1 ( (None, 10)                0         \n",
            "_________________________________________________________________\n",
            "activation_15 (Activation)   (None, 10)                0         \n",
            "=================================================================\n",
            "Total params: 86,965\n",
            "Trainable params: 85,621\n",
            "Non-trainable params: 1,344\n",
            "_________________________________________________________________\n"
          ],
          "name": "stdout"
        }
      ]
    },
    {
      "cell_type": "code",
      "metadata": {
        "id": "2dxZ9eFmWMGN",
        "colab_type": "code",
        "outputId": "968dadd5-c220-4ce2-e80d-fc37f1177eac",
        "colab": {
          "base_uri": "https://localhost:8080/",
          "height": 1000
        }
      },
      "source": [
        "trainModelWithCallbacks(m8, reduce_lr)"
      ],
      "execution_count": 0,
      "outputs": [
        {
          "output_type": "stream",
          "text": [
            "/usr/local/lib/python3.6/dist-packages/ipykernel_launcher.py:12: UserWarning: The semantics of the Keras 2 argument `steps_per_epoch` is not the same as the Keras 1 argument `samples_per_epoch`. `steps_per_epoch` is the number of batches to draw from the generator at each epoch. Basically steps_per_epoch = samples_per_epoch/batch_size. Similarly `nb_val_samples`->`validation_steps` and `val_samples`->`steps` arguments have changed. Update your method calls accordingly.\n",
            "  if sys.path[0] == '':\n",
            "/usr/local/lib/python3.6/dist-packages/ipykernel_launcher.py:12: UserWarning: Update your `fit_generator` call to the Keras 2 API: `fit_generator(<keras_pre..., validation_data=(array([[[..., callbacks=[<keras.ca..., verbose=1, steps_per_epoch=390, epochs=50)`\n",
            "  if sys.path[0] == '':\n"
          ],
          "name": "stderr"
        },
        {
          "output_type": "stream",
          "text": [
            "Epoch 1/50\n",
            "390/390 [==============================] - 28s 73ms/step - loss: 1.6167 - acc: 0.4499 - val_loss: 1.3085 - val_acc: 0.5418\n",
            "Epoch 2/50\n",
            "390/390 [==============================] - 26s 66ms/step - loss: 1.1374 - acc: 0.5993 - val_loss: 1.2101 - val_acc: 0.5953\n",
            "Epoch 3/50\n",
            "390/390 [==============================] - 26s 66ms/step - loss: 0.9717 - acc: 0.6589 - val_loss: 1.2367 - val_acc: 0.6035\n",
            "Epoch 4/50\n",
            "390/390 [==============================] - 26s 66ms/step - loss: 0.8667 - acc: 0.6948 - val_loss: 0.9608 - val_acc: 0.6671\n",
            "Epoch 5/50\n",
            "390/390 [==============================] - 26s 66ms/step - loss: 0.7992 - acc: 0.7198 - val_loss: 1.4905 - val_acc: 0.5419\n",
            "Epoch 6/50\n",
            "390/390 [==============================] - 26s 66ms/step - loss: 0.7528 - acc: 0.7359 - val_loss: 0.9017 - val_acc: 0.6933\n",
            "Epoch 7/50\n",
            "390/390 [==============================] - 26s 66ms/step - loss: 0.7206 - acc: 0.7473 - val_loss: 0.9223 - val_acc: 0.6842\n",
            "Epoch 8/50\n",
            "390/390 [==============================] - 26s 66ms/step - loss: 0.6890 - acc: 0.7579 - val_loss: 1.6424 - val_acc: 0.5056\n",
            "Epoch 9/50\n",
            "390/390 [==============================] - 26s 66ms/step - loss: 0.6621 - acc: 0.7699 - val_loss: 1.1981 - val_acc: 0.6070\n",
            "Epoch 10/50\n",
            "390/390 [==============================] - 26s 66ms/step - loss: 0.6355 - acc: 0.7780 - val_loss: 1.2553 - val_acc: 0.5885\n",
            "\n",
            "Epoch 00010: ReduceLROnPlateau reducing learning rate to 0.001500000013038516.\n",
            "Epoch 11/50\n",
            "390/390 [==============================] - 26s 66ms/step - loss: 0.5669 - acc: 0.8016 - val_loss: 0.6598 - val_acc: 0.7753\n",
            "Epoch 12/50\n",
            "390/390 [==============================] - 26s 65ms/step - loss: 0.5509 - acc: 0.8073 - val_loss: 0.7950 - val_acc: 0.7313\n",
            "Epoch 13/50\n",
            "390/390 [==============================] - 26s 65ms/step - loss: 0.5383 - acc: 0.8105 - val_loss: 0.7419 - val_acc: 0.7450\n",
            "Epoch 14/50\n",
            "390/390 [==============================] - 26s 66ms/step - loss: 0.5294 - acc: 0.8128 - val_loss: 0.6483 - val_acc: 0.7800\n",
            "Epoch 15/50\n",
            "390/390 [==============================] - 26s 66ms/step - loss: 0.5165 - acc: 0.8169 - val_loss: 0.6530 - val_acc: 0.7817\n",
            "Epoch 16/50\n",
            "390/390 [==============================] - 26s 65ms/step - loss: 0.5052 - acc: 0.8227 - val_loss: 0.6232 - val_acc: 0.7857\n",
            "Epoch 17/50\n",
            "390/390 [==============================] - 25s 65ms/step - loss: 0.4980 - acc: 0.8244 - val_loss: 0.6429 - val_acc: 0.7821\n",
            "Epoch 18/50\n",
            "390/390 [==============================] - 25s 65ms/step - loss: 0.4858 - acc: 0.8269 - val_loss: 0.6311 - val_acc: 0.7890\n",
            "Epoch 19/50\n",
            "390/390 [==============================] - 26s 66ms/step - loss: 0.4803 - acc: 0.8309 - val_loss: 0.7081 - val_acc: 0.7637\n",
            "Epoch 20/50\n",
            "390/390 [==============================] - 25s 65ms/step - loss: 0.4697 - acc: 0.8351 - val_loss: 0.6753 - val_acc: 0.7739\n",
            "\n",
            "Epoch 00020: ReduceLROnPlateau reducing learning rate to 0.000750000006519258.\n",
            "Epoch 21/50\n",
            "390/390 [==============================] - 25s 65ms/step - loss: 0.4333 - acc: 0.8463 - val_loss: 0.5561 - val_acc: 0.8137\n",
            "Epoch 22/50\n",
            "390/390 [==============================] - 25s 65ms/step - loss: 0.4209 - acc: 0.8517 - val_loss: 0.5272 - val_acc: 0.8238\n",
            "Epoch 23/50\n",
            "390/390 [==============================] - 25s 65ms/step - loss: 0.4175 - acc: 0.8508 - val_loss: 0.5729 - val_acc: 0.8077\n",
            "Epoch 24/50\n",
            "390/390 [==============================] - 25s 65ms/step - loss: 0.4030 - acc: 0.8586 - val_loss: 0.5825 - val_acc: 0.8074\n",
            "Epoch 25/50\n",
            "390/390 [==============================] - 25s 65ms/step - loss: 0.4007 - acc: 0.8572 - val_loss: 0.5562 - val_acc: 0.8135\n",
            "Epoch 26/50\n",
            "390/390 [==============================] - 25s 65ms/step - loss: 0.3952 - acc: 0.8593 - val_loss: 0.5657 - val_acc: 0.8146\n",
            "\n",
            "Epoch 00026: ReduceLROnPlateau reducing learning rate to 0.000375000003259629.\n",
            "Epoch 27/50\n",
            "390/390 [==============================] - 25s 65ms/step - loss: 0.3796 - acc: 0.8663 - val_loss: 0.5307 - val_acc: 0.8251\n",
            "Epoch 28/50\n",
            "390/390 [==============================] - 25s 65ms/step - loss: 0.3701 - acc: 0.8671 - val_loss: 0.5286 - val_acc: 0.8253\n",
            "Epoch 29/50\n",
            "390/390 [==============================] - 25s 65ms/step - loss: 0.3614 - acc: 0.8710 - val_loss: 0.5220 - val_acc: 0.8301\n",
            "Epoch 30/50\n",
            "390/390 [==============================] - 25s 65ms/step - loss: 0.3642 - acc: 0.8693 - val_loss: 0.5313 - val_acc: 0.8237\n",
            "Epoch 31/50\n",
            "390/390 [==============================] - 25s 65ms/step - loss: 0.3649 - acc: 0.8693 - val_loss: 0.5313 - val_acc: 0.8220\n",
            "Epoch 32/50\n",
            "390/390 [==============================] - 25s 65ms/step - loss: 0.3568 - acc: 0.8740 - val_loss: 0.5291 - val_acc: 0.8256\n",
            "Epoch 33/50\n",
            "390/390 [==============================] - 25s 65ms/step - loss: 0.3527 - acc: 0.8742 - val_loss: 0.5579 - val_acc: 0.8177\n",
            "\n",
            "Epoch 00033: ReduceLROnPlateau reducing learning rate to 0.0001875000016298145.\n",
            "Epoch 34/50\n",
            "390/390 [==============================] - 25s 65ms/step - loss: 0.3470 - acc: 0.8754 - val_loss: 0.5206 - val_acc: 0.8251\n",
            "Epoch 35/50\n",
            "390/390 [==============================] - 25s 65ms/step - loss: 0.3405 - acc: 0.8780 - val_loss: 0.5275 - val_acc: 0.8259\n",
            "Epoch 36/50\n",
            "390/390 [==============================] - 25s 65ms/step - loss: 0.3393 - acc: 0.8796 - val_loss: 0.5228 - val_acc: 0.8259\n",
            "Epoch 37/50\n",
            "390/390 [==============================] - 25s 65ms/step - loss: 0.3422 - acc: 0.8784 - val_loss: 0.5313 - val_acc: 0.8231\n",
            "Epoch 38/50\n",
            "390/390 [==============================] - 25s 65ms/step - loss: 0.3351 - acc: 0.8816 - val_loss: 0.5224 - val_acc: 0.8298\n",
            "\n",
            "Epoch 00038: ReduceLROnPlateau reducing learning rate to 0.0001.\n",
            "Epoch 39/50\n",
            "390/390 [==============================] - 25s 65ms/step - loss: 0.3315 - acc: 0.8815 - val_loss: 0.5160 - val_acc: 0.8297\n",
            "Epoch 40/50\n",
            "390/390 [==============================] - 25s 65ms/step - loss: 0.3262 - acc: 0.8842 - val_loss: 0.5160 - val_acc: 0.8293\n",
            "Epoch 41/50\n",
            "390/390 [==============================] - 25s 65ms/step - loss: 0.3305 - acc: 0.8824 - val_loss: 0.5199 - val_acc: 0.8288\n",
            "Epoch 42/50\n",
            "390/390 [==============================] - 25s 65ms/step - loss: 0.3312 - acc: 0.8816 - val_loss: 0.5136 - val_acc: 0.8306\n",
            "Epoch 43/50\n",
            "390/390 [==============================] - 25s 65ms/step - loss: 0.3275 - acc: 0.8827 - val_loss: 0.5153 - val_acc: 0.8292\n",
            "Epoch 44/50\n",
            "390/390 [==============================] - 25s 65ms/step - loss: 0.3263 - acc: 0.8839 - val_loss: 0.5167 - val_acc: 0.8311\n",
            "Epoch 45/50\n",
            "390/390 [==============================] - 25s 65ms/step - loss: 0.3258 - acc: 0.8822 - val_loss: 0.5196 - val_acc: 0.8284\n",
            "Epoch 46/50\n",
            "390/390 [==============================] - 26s 66ms/step - loss: 0.3238 - acc: 0.8846 - val_loss: 0.5140 - val_acc: 0.8303\n",
            "Epoch 47/50\n",
            "390/390 [==============================] - 25s 65ms/step - loss: 0.3247 - acc: 0.8831 - val_loss: 0.5330 - val_acc: 0.8270\n",
            "Epoch 48/50\n",
            "390/390 [==============================] - 25s 65ms/step - loss: 0.3236 - acc: 0.8838 - val_loss: 0.5182 - val_acc: 0.8301\n",
            "Epoch 49/50\n",
            "390/390 [==============================] - 25s 65ms/step - loss: 0.3205 - acc: 0.8830 - val_loss: 0.5204 - val_acc: 0.8286\n",
            "Epoch 50/50\n",
            "390/390 [==============================] - 25s 65ms/step - loss: 0.3188 - acc: 0.8874 - val_loss: 0.5172 - val_acc: 0.8299\n",
            "Model took 1277.49 seconds to train\n"
          ],
          "name": "stdout"
        },
        {
          "output_type": "display_data",
          "data": {
            "image/png": "[encoded data removed]",
            "text/plain": [
              "<Figure size 1080x360 with 2 Axes>"
            ]
          },
          "metadata": {
            "tags": []
          }
        },
        {
          "output_type": "stream",
          "text": [
            "Accuracy on test data is: 82.99\n"
          ],
          "name": "stdout"
        }
      ]
    },
    {
      "cell_type": "code",
      "metadata": {
        "id": "LDMM2c-WWMUR",
        "colab_type": "code",
        "colab": {}
      },
      "source": [
        ""
      ],
      "execution_count": 0,
      "outputs": []
    },
    {
      "cell_type": "code",
      "metadata": {
        "id": "Ai-4sHHVrnHT",
        "colab_type": "code",
        "colab": {}
      },
      "source": [
        ""
      ],
      "execution_count": 0,
      "outputs": []
    },
    {
      "cell_type": "markdown",
      "metadata": {
        "id": "GdgTohVhriK2",
        "colab_type": "text"
      },
      "source": [
        "### Trail - 7"
      ]
    },
    {
      "cell_type": "code",
      "metadata": {
        "id": "o3VYjAD6IkY6",
        "colab_type": "code",
        "colab": {}
      },
      "source": [
        "from keras.callbacks import LearningRateScheduler\n",
        "def scheduler(epoch, lr):\n",
        "  return round(0.003 * 1/(1 + 0.32 * epoch), 10)"
      ],
      "execution_count": 0,
      "outputs": []
    },
    {
      "cell_type": "code",
      "metadata": {
        "id": "vjZymy-ZrlW9",
        "colab_type": "code",
        "outputId": "5eca3e9c-40da-43c8-d8b8-efd71e7f7eac",
        "colab": {
          "base_uri": "https://localhost:8080/",
          "height": 564
        }
      },
      "source": [
        "m7 = Sequential()\n",
        "\n",
        "# Block 1\n",
        "m7.add(SeparableConv2D(filters=48, kernel_size=(3,3),padding='same', input_shape=(32, 32, 3))) # 32\n",
        "m7.add(BatchNormalization())\n",
        "m7.add(Activation('relu'))\n",
        "m7.add(SeparableConv2D(filters=48, kernel_size=(3,3))) # 30\n",
        "m7.add(BatchNormalization())\n",
        "m7.add(Activation('relu'))\n",
        "m7.add(MaxPooling2D(pool_size=2)) #15\n",
        "m7.add(Dropout(0.25))\n",
        "\n",
        "# Block 2\n",
        "m7.add(SeparableConv2D(filters=96, kernel_size=(3,3),padding='same')) # 15\n",
        "m7.add(BatchNormalization())\n",
        "m7.add(Activation('relu'))\n",
        "m7.add(SeparableConv2D(filters=96, kernel_size=(3,3))) # 13 \n",
        "m7.add(BatchNormalization())\n",
        "m7.add(Activation('relu'))\n",
        "m7.add(MaxPooling2D(pool_size=2)) # 6\n",
        "m7.add(Dropout(0.25))\n",
        "\n",
        "# block 3\n",
        "m7.add(SeparableConv2D(filters=192, kernel_size=(3, 3),padding='same')) #6\n",
        "m7.add(Activation('relu'))\n",
        "m7.add(BatchNormalization())\n",
        "m7.add(SeparableConv2D(filters=192, kernel_size=(3, 3))) #4\n",
        "m7.add(Activation('relu'))\n",
        "m7.add(BatchNormalization())\n",
        "m7.add(MaxPooling2D(pool_size=(2, 2))) #2\n",
        "m7.add(Dropout(0.25))\n",
        "\n",
        "# check if the below can be done using SeperableConv@D\n",
        "m7.add(Convolution2D(num_classes, 2))\n",
        "\n",
        "m7.add(GlobalAveragePooling2D())\n",
        "m7.add(Activation('softmax'))\n",
        "\n",
        "m7.compile(optimizer=Adam(lr=0.003), loss='categorical_crossentropy', metrics=['accuracy']) "
      ],
      "execution_count": 0,
      "outputs": [
        {
          "output_type": "stream",
          "text": [
            "WARNING:tensorflow:From /usr/local/lib/python3.6/dist-packages/keras/backend/tensorflow_backend.py:66: The name tf.get_default_graph is deprecated. Please use tf.compat.v1.get_default_graph instead.\n",
            "\n",
            "WARNING:tensorflow:From /usr/local/lib/python3.6/dist-packages/keras/backend/tensorflow_backend.py:541: The name tf.placeholder is deprecated. Please use tf.compat.v1.placeholder instead.\n",
            "\n",
            "WARNING:tensorflow:From /usr/local/lib/python3.6/dist-packages/keras/backend/tensorflow_backend.py:4432: The name tf.random_uniform is deprecated. Please use tf.random.uniform instead.\n",
            "\n",
            "WARNING:tensorflow:From /usr/local/lib/python3.6/dist-packages/keras/backend/tensorflow_backend.py:190: The name tf.get_default_session is deprecated. Please use tf.compat.v1.get_default_session instead.\n",
            "\n",
            "WARNING:tensorflow:From /usr/local/lib/python3.6/dist-packages/keras/backend/tensorflow_backend.py:197: The name tf.ConfigProto is deprecated. Please use tf.compat.v1.ConfigProto instead.\n",
            "\n",
            "WARNING:tensorflow:From /usr/local/lib/python3.6/dist-packages/keras/backend/tensorflow_backend.py:203: The name tf.Session is deprecated. Please use tf.compat.v1.Session instead.\n",
            "\n",
            "WARNING:tensorflow:From /usr/local/lib/python3.6/dist-packages/keras/backend/tensorflow_backend.py:207: The name tf.global_variables is deprecated. Please use tf.compat.v1.global_variables instead.\n",
            "\n",
            "WARNING:tensorflow:From /usr/local/lib/python3.6/dist-packages/keras/backend/tensorflow_backend.py:216: The name tf.is_variable_initialized is deprecated. Please use tf.compat.v1.is_variable_initialized instead.\n",
            "\n",
            "WARNING:tensorflow:From /usr/local/lib/python3.6/dist-packages/keras/backend/tensorflow_backend.py:223: The name tf.variables_initializer is deprecated. Please use tf.compat.v1.variables_initializer instead.\n",
            "\n",
            "WARNING:tensorflow:From /usr/local/lib/python3.6/dist-packages/keras/backend/tensorflow_backend.py:2041: The name tf.nn.fused_batch_norm is deprecated. Please use tf.compat.v1.nn.fused_batch_norm instead.\n",
            "\n",
            "WARNING:tensorflow:From /usr/local/lib/python3.6/dist-packages/keras/backend/tensorflow_backend.py:148: The name tf.placeholder_with_default is deprecated. Please use tf.compat.v1.placeholder_with_default instead.\n",
            "\n",
            "WARNING:tensorflow:From /usr/local/lib/python3.6/dist-packages/keras/backend/tensorflow_backend.py:4267: The name tf.nn.max_pool is deprecated. Please use tf.nn.max_pool2d instead.\n",
            "\n",
            "WARNING:tensorflow:From /usr/local/lib/python3.6/dist-packages/keras/backend/tensorflow_backend.py:3733: calling dropout (from tensorflow.python.ops.nn_ops) with keep_prob is deprecated and will be removed in a future version.\n",
            "Instructions for updating:\n",
            "Please use `rate` instead of `keep_prob`. Rate should be set to `rate = 1 - keep_prob`.\n",
            "WARNING:tensorflow:From /usr/local/lib/python3.6/dist-packages/keras/optimizers.py:793: The name tf.train.Optimizer is deprecated. Please use tf.compat.v1.train.Optimizer instead.\n",
            "\n",
            "WARNING:tensorflow:From /usr/local/lib/python3.6/dist-packages/keras/backend/tensorflow_backend.py:3576: The name tf.log is deprecated. Please use tf.math.log instead.\n",
            "\n"
          ],
          "name": "stdout"
        }
      ]
    },
    {
      "cell_type": "code",
      "metadata": {
        "id": "bmkOZuVdwv1O",
        "colab_type": "code",
        "outputId": "c12d3105-548b-4b8f-ea8b-35e51c2ea84d",
        "colab": {
          "base_uri": "https://localhost:8080/",
          "height": 1000
        }
      },
      "source": [
        "m7.summary()"
      ],
      "execution_count": 0,
      "outputs": [
        {
          "output_type": "stream",
          "text": [
            "Model: \"sequential_1\"\n",
            "_________________________________________________________________\n",
            "Layer (type)                 Output Shape              Param #   \n",
            "=================================================================\n",
            "separable_conv2d_1 (Separabl (None, 32, 32, 48)        219       \n",
            "_________________________________________________________________\n",
            "batch_normalization_1 (Batch (None, 32, 32, 48)        192       \n",
            "_________________________________________________________________\n",
            "activation_1 (Activation)    (None, 32, 32, 48)        0         \n",
            "_________________________________________________________________\n",
            "separable_conv2d_2 (Separabl (None, 30, 30, 48)        2784      \n",
            "_________________________________________________________________\n",
            "batch_normalization_2 (Batch (None, 30, 30, 48)        192       \n",
            "_________________________________________________________________\n",
            "activation_2 (Activation)    (None, 30, 30, 48)        0         \n",
            "_________________________________________________________________\n",
            "max_pooling2d_1 (MaxPooling2 (None, 15, 15, 48)        0         \n",
            "_________________________________________________________________\n",
            "dropout_1 (Dropout)          (None, 15, 15, 48)        0         \n",
            "_________________________________________________________________\n",
            "separable_conv2d_3 (Separabl (None, 15, 15, 96)        5136      \n",
            "_________________________________________________________________\n",
            "batch_normalization_3 (Batch (None, 15, 15, 96)        384       \n",
            "_________________________________________________________________\n",
            "activation_3 (Activation)    (None, 15, 15, 96)        0         \n",
            "_________________________________________________________________\n",
            "separable_conv2d_4 (Separabl (None, 13, 13, 96)        10176     \n",
            "_________________________________________________________________\n",
            "batch_normalization_4 (Batch (None, 13, 13, 96)        384       \n",
            "_________________________________________________________________\n",
            "activation_4 (Activation)    (None, 13, 13, 96)        0         \n",
            "_________________________________________________________________\n",
            "max_pooling2d_2 (MaxPooling2 (None, 6, 6, 96)          0         \n",
            "_________________________________________________________________\n",
            "dropout_2 (Dropout)          (None, 6, 6, 96)          0         \n",
            "_________________________________________________________________\n",
            "separable_conv2d_5 (Separabl (None, 6, 6, 192)         19488     \n",
            "_________________________________________________________________\n",
            "activation_5 (Activation)    (None, 6, 6, 192)         0         \n",
            "_________________________________________________________________\n",
            "batch_normalization_5 (Batch (None, 6, 6, 192)         768       \n",
            "_________________________________________________________________\n",
            "separable_conv2d_6 (Separabl (None, 4, 4, 192)         38784     \n",
            "_________________________________________________________________\n",
            "activation_6 (Activation)    (None, 4, 4, 192)         0         \n",
            "_________________________________________________________________\n",
            "batch_normalization_6 (Batch (None, 4, 4, 192)         768       \n",
            "_________________________________________________________________\n",
            "max_pooling2d_3 (MaxPooling2 (None, 2, 2, 192)         0         \n",
            "_________________________________________________________________\n",
            "dropout_3 (Dropout)          (None, 2, 2, 192)         0         \n",
            "_________________________________________________________________\n",
            "conv2d_1 (Conv2D)            (None, 1, 1, 10)          7690      \n",
            "_________________________________________________________________\n",
            "global_average_pooling2d_1 ( (None, 10)                0         \n",
            "_________________________________________________________________\n",
            "activation_7 (Activation)    (None, 10)                0         \n",
            "=================================================================\n",
            "Total params: 86,965\n",
            "Trainable params: 85,621\n",
            "Non-trainable params: 1,344\n",
            "_________________________________________________________________\n"
          ],
          "name": "stdout"
        }
      ]
    },
    {
      "cell_type": "code",
      "metadata": {
        "id": "UNX0qXt9rlba",
        "colab_type": "code",
        "outputId": "ac790816-04ff-4d87-910c-e83cf8af4fec",
        "colab": {
          "base_uri": "https://localhost:8080/",
          "height": 1000
        }
      },
      "source": [
        "train_modelWithScheduler(m7)"
      ],
      "execution_count": 0,
      "outputs": [
        {
          "output_type": "stream",
          "text": [
            "WARNING:tensorflow:From /usr/local/lib/python3.6/dist-packages/tensorflow_core/python/ops/math_grad.py:1424: where (from tensorflow.python.ops.array_ops) is deprecated and will be removed in a future version.\n",
            "Instructions for updating:\n",
            "Use tf.where in 2.0, which has the same broadcast rule as np.where\n"
          ],
          "name": "stdout"
        },
        {
          "output_type": "stream",
          "text": [
            "/usr/local/lib/python3.6/dist-packages/ipykernel_launcher.py:12: UserWarning: The semantics of the Keras 2 argument `steps_per_epoch` is not the same as the Keras 1 argument `samples_per_epoch`. `steps_per_epoch` is the number of batches to draw from the generator at each epoch. Basically steps_per_epoch = samples_per_epoch/batch_size. Similarly `nb_val_samples`->`validation_steps` and `val_samples`->`steps` arguments have changed. Update your method calls accordingly.\n",
            "  if sys.path[0] == '':\n",
            "/usr/local/lib/python3.6/dist-packages/ipykernel_launcher.py:12: UserWarning: Update your `fit_generator` call to the Keras 2 API: `fit_generator(<keras_pre..., validation_data=(array([[[..., callbacks=[<keras.ca..., verbose=1, steps_per_epoch=390, epochs=50)`\n",
            "  if sys.path[0] == '':\n"
          ],
          "name": "stderr"
        },
        {
          "output_type": "stream",
          "text": [
            "WARNING:tensorflow:From /usr/local/lib/python3.6/dist-packages/keras/backend/tensorflow_backend.py:1033: The name tf.assign_add is deprecated. Please use tf.compat.v1.assign_add instead.\n",
            "\n",
            "WARNING:tensorflow:From /usr/local/lib/python3.6/dist-packages/keras/backend/tensorflow_backend.py:1020: The name tf.assign is deprecated. Please use tf.compat.v1.assign instead.\n",
            "\n",
            "Epoch 1/50\n",
            "\n",
            "Epoch 00001: LearningRateScheduler setting learning rate to 0.003.\n",
            "390/390 [==============================] - 31s 81ms/step - loss: 1.6635 - acc: 0.4308 - val_loss: 1.8127 - val_acc: 0.4312\n",
            "Epoch 2/50\n",
            "\n",
            "Epoch 00002: LearningRateScheduler setting learning rate to 0.0022727273.\n",
            "390/390 [==============================] - 27s 70ms/step - loss: 1.1472 - acc: 0.5926 - val_loss: 1.3790 - val_acc: 0.5277\n",
            "Epoch 3/50\n",
            "\n",
            "Epoch 00003: LearningRateScheduler setting learning rate to 0.0018292683.\n",
            "390/390 [==============================] - 27s 70ms/step - loss: 0.9865 - acc: 0.6506 - val_loss: 1.0419 - val_acc: 0.6337\n",
            "Epoch 4/50\n",
            "\n",
            "Epoch 00004: LearningRateScheduler setting learning rate to 0.0015306122.\n",
            "390/390 [==============================] - 27s 70ms/step - loss: 0.8864 - acc: 0.6875 - val_loss: 0.8242 - val_acc: 0.7106\n",
            "Epoch 5/50\n",
            "\n",
            "Epoch 00005: LearningRateScheduler setting learning rate to 0.0013157895.\n",
            "390/390 [==============================] - 27s 70ms/step - loss: 0.8105 - acc: 0.7125 - val_loss: 0.8374 - val_acc: 0.7089\n",
            "Epoch 6/50\n",
            "\n",
            "Epoch 00006: LearningRateScheduler setting learning rate to 0.0011538462.\n",
            "390/390 [==============================] - 27s 70ms/step - loss: 0.7599 - acc: 0.7342 - val_loss: 0.9741 - val_acc: 0.6587\n",
            "Epoch 7/50\n",
            "\n",
            "Epoch 00007: LearningRateScheduler setting learning rate to 0.0010273973.\n",
            "390/390 [==============================] - 27s 70ms/step - loss: 0.7161 - acc: 0.7466 - val_loss: 0.7632 - val_acc: 0.7317\n",
            "Epoch 8/50\n",
            "\n",
            "Epoch 00008: LearningRateScheduler setting learning rate to 0.0009259259.\n",
            "390/390 [==============================] - 27s 70ms/step - loss: 0.6773 - acc: 0.7602 - val_loss: 0.6830 - val_acc: 0.7615\n",
            "Epoch 9/50\n",
            "\n",
            "Epoch 00009: LearningRateScheduler setting learning rate to 0.0008426966.\n",
            "390/390 [==============================] - 27s 69ms/step - loss: 0.6527 - acc: 0.7701 - val_loss: 0.6844 - val_acc: 0.7626\n",
            "Epoch 10/50\n",
            "\n",
            "Epoch 00010: LearningRateScheduler setting learning rate to 0.0007731959.\n",
            "390/390 [==============================] - 27s 70ms/step - loss: 0.6280 - acc: 0.7771 - val_loss: 0.6489 - val_acc: 0.7726\n",
            "Epoch 11/50\n",
            "\n",
            "Epoch 00011: LearningRateScheduler setting learning rate to 0.0007142857.\n",
            "390/390 [==============================] - 27s 69ms/step - loss: 0.6105 - acc: 0.7856 - val_loss: 0.6526 - val_acc: 0.7779\n",
            "Epoch 12/50\n",
            "\n",
            "Epoch 00012: LearningRateScheduler setting learning rate to 0.0006637168.\n",
            "390/390 [==============================] - 27s 70ms/step - loss: 0.5863 - acc: 0.7930 - val_loss: 0.6619 - val_acc: 0.7707\n",
            "Epoch 13/50\n",
            "\n",
            "Epoch 00013: LearningRateScheduler setting learning rate to 0.0006198347.\n",
            "390/390 [==============================] - 27s 70ms/step - loss: 0.5766 - acc: 0.7981 - val_loss: 0.6257 - val_acc: 0.7859\n",
            "Epoch 14/50\n",
            "\n",
            "Epoch 00014: LearningRateScheduler setting learning rate to 0.0005813953.\n",
            "390/390 [==============================] - 27s 69ms/step - loss: 0.5576 - acc: 0.8029 - val_loss: 0.6378 - val_acc: 0.7836\n",
            "Epoch 15/50\n",
            "\n",
            "Epoch 00015: LearningRateScheduler setting learning rate to 0.0005474453.\n",
            "390/390 [==============================] - 27s 70ms/step - loss: 0.5445 - acc: 0.8071 - val_loss: 0.5980 - val_acc: 0.7960\n",
            "Epoch 16/50\n",
            "\n",
            "Epoch 00016: LearningRateScheduler setting learning rate to 0.0005172414.\n",
            "390/390 [==============================] - 28s 71ms/step - loss: 0.5265 - acc: 0.8147 - val_loss: 0.5983 - val_acc: 0.7954\n",
            "Epoch 17/50\n",
            "\n",
            "Epoch 00017: LearningRateScheduler setting learning rate to 0.0004901961.\n",
            "390/390 [==============================] - 27s 70ms/step - loss: 0.5215 - acc: 0.8147 - val_loss: 0.5850 - val_acc: 0.8000\n",
            "Epoch 18/50\n",
            "\n",
            "Epoch 00018: LearningRateScheduler setting learning rate to 0.0004658385.\n",
            "390/390 [==============================] - 27s 69ms/step - loss: 0.5136 - acc: 0.8198 - val_loss: 0.5758 - val_acc: 0.8026\n",
            "Epoch 19/50\n",
            "\n",
            "Epoch 00019: LearningRateScheduler setting learning rate to 0.000443787.\n",
            "390/390 [==============================] - 27s 69ms/step - loss: 0.4978 - acc: 0.8251 - val_loss: 0.5693 - val_acc: 0.8045\n",
            "Epoch 20/50\n",
            "\n",
            "Epoch 00020: LearningRateScheduler setting learning rate to 0.0004237288.\n",
            "390/390 [==============================] - 27s 69ms/step - loss: 0.4935 - acc: 0.8263 - val_loss: 0.5601 - val_acc: 0.8055\n",
            "Epoch 21/50\n",
            "\n",
            "Epoch 00021: LearningRateScheduler setting learning rate to 0.0004054054.\n",
            "390/390 [==============================] - 27s 69ms/step - loss: 0.4846 - acc: 0.8293 - val_loss: 0.5685 - val_acc: 0.8058\n",
            "Epoch 22/50\n",
            "\n",
            "Epoch 00022: LearningRateScheduler setting learning rate to 0.000388601.\n",
            "390/390 [==============================] - 27s 69ms/step - loss: 0.4761 - acc: 0.8319 - val_loss: 0.5689 - val_acc: 0.8088\n",
            "Epoch 23/50\n",
            "\n",
            "Epoch 00023: LearningRateScheduler setting learning rate to 0.0003731343.\n",
            "390/390 [==============================] - 27s 69ms/step - loss: 0.4689 - acc: 0.8337 - val_loss: 0.5940 - val_acc: 0.8009\n",
            "Epoch 24/50\n",
            "\n",
            "Epoch 00024: LearningRateScheduler setting learning rate to 0.0003588517.\n",
            "390/390 [==============================] - 27s 70ms/step - loss: 0.4650 - acc: 0.8369 - val_loss: 0.5765 - val_acc: 0.8071\n",
            "Epoch 25/50\n",
            "\n",
            "Epoch 00025: LearningRateScheduler setting learning rate to 0.0003456221.\n",
            "390/390 [==============================] - 27s 70ms/step - loss: 0.4612 - acc: 0.8352 - val_loss: 0.5595 - val_acc: 0.8118\n",
            "Epoch 26/50\n",
            "\n",
            "Epoch 00026: LearningRateScheduler setting learning rate to 0.0003333333.\n",
            "390/390 [==============================] - 27s 69ms/step - loss: 0.4466 - acc: 0.8400 - val_loss: 0.5744 - val_acc: 0.8063\n",
            "Epoch 27/50\n",
            "\n",
            "Epoch 00027: LearningRateScheduler setting learning rate to 0.0003218884.\n",
            "390/390 [==============================] - 27s 70ms/step - loss: 0.4464 - acc: 0.8424 - val_loss: 0.5822 - val_acc: 0.8079\n",
            "Epoch 28/50\n",
            "\n",
            "Epoch 00028: LearningRateScheduler setting learning rate to 0.0003112033.\n",
            "390/390 [==============================] - 27s 69ms/step - loss: 0.4446 - acc: 0.8427 - val_loss: 0.5692 - val_acc: 0.8105\n",
            "Epoch 29/50\n",
            "\n",
            "Epoch 00029: LearningRateScheduler setting learning rate to 0.0003012048.\n",
            "390/390 [==============================] - 27s 69ms/step - loss: 0.4348 - acc: 0.8462 - val_loss: 0.5485 - val_acc: 0.8170\n",
            "Epoch 30/50\n",
            "\n",
            "Epoch 00030: LearningRateScheduler setting learning rate to 0.0002918288.\n",
            "390/390 [==============================] - 27s 69ms/step - loss: 0.4314 - acc: 0.8468 - val_loss: 0.5563 - val_acc: 0.8155\n",
            "Epoch 31/50\n",
            "\n",
            "Epoch 00031: LearningRateScheduler setting learning rate to 0.0002830189.\n",
            "390/390 [==============================] - 27s 69ms/step - loss: 0.4268 - acc: 0.8490 - val_loss: 0.5550 - val_acc: 0.8156\n",
            "Epoch 32/50\n",
            "\n",
            "Epoch 00032: LearningRateScheduler setting learning rate to 0.0002747253.\n",
            "390/390 [==============================] - 27s 70ms/step - loss: 0.4190 - acc: 0.8510 - val_loss: 0.5540 - val_acc: 0.8125\n",
            "Epoch 33/50\n",
            "\n",
            "Epoch 00033: LearningRateScheduler setting learning rate to 0.0002669039.\n",
            "390/390 [==============================] - 27s 70ms/step - loss: 0.4209 - acc: 0.8518 - val_loss: 0.5652 - val_acc: 0.8100\n",
            "Epoch 34/50\n",
            "\n",
            "Epoch 00034: LearningRateScheduler setting learning rate to 0.0002595156.\n",
            "390/390 [==============================] - 27s 70ms/step - loss: 0.4120 - acc: 0.8542 - val_loss: 0.5667 - val_acc: 0.8109\n",
            "Epoch 35/50\n",
            "\n",
            "Epoch 00035: LearningRateScheduler setting learning rate to 0.0002525253.\n",
            "390/390 [==============================] - 27s 69ms/step - loss: 0.4068 - acc: 0.8545 - val_loss: 0.5594 - val_acc: 0.8139\n",
            "Epoch 36/50\n",
            "\n",
            "Epoch 00036: LearningRateScheduler setting learning rate to 0.0002459016.\n",
            "390/390 [==============================] - 27s 69ms/step - loss: 0.4122 - acc: 0.8531 - val_loss: 0.5540 - val_acc: 0.8145\n",
            "Epoch 37/50\n",
            "\n",
            "Epoch 00037: LearningRateScheduler setting learning rate to 0.0002396166.\n",
            "390/390 [==============================] - 27s 70ms/step - loss: 0.4035 - acc: 0.8570 - val_loss: 0.5501 - val_acc: 0.8168\n",
            "Epoch 38/50\n",
            "\n",
            "Epoch 00038: LearningRateScheduler setting learning rate to 0.0002336449.\n",
            "390/390 [==============================] - 27s 69ms/step - loss: 0.3969 - acc: 0.8586 - val_loss: 0.5589 - val_acc: 0.8156\n",
            "Epoch 39/50\n",
            "\n",
            "Epoch 00039: LearningRateScheduler setting learning rate to 0.0002279635.\n",
            "390/390 [==============================] - 27s 69ms/step - loss: 0.3960 - acc: 0.8586 - val_loss: 0.5446 - val_acc: 0.8179\n",
            "Epoch 40/50\n",
            "\n",
            "Epoch 00040: LearningRateScheduler setting learning rate to 0.0002225519.\n",
            "390/390 [==============================] - 27s 70ms/step - loss: 0.3980 - acc: 0.8578 - val_loss: 0.5376 - val_acc: 0.8214\n",
            "Epoch 41/50\n",
            "\n",
            "Epoch 00041: LearningRateScheduler setting learning rate to 0.0002173913.\n",
            "390/390 [==============================] - 27s 70ms/step - loss: 0.3901 - acc: 0.8599 - val_loss: 0.5502 - val_acc: 0.8178\n",
            "Epoch 42/50\n",
            "\n",
            "Epoch 00042: LearningRateScheduler setting learning rate to 0.0002124646.\n",
            "390/390 [==============================] - 27s 70ms/step - loss: 0.3922 - acc: 0.8611 - val_loss: 0.5624 - val_acc: 0.8151\n",
            "Epoch 43/50\n",
            "\n",
            "Epoch 00043: LearningRateScheduler setting learning rate to 0.0002077562.\n",
            "390/390 [==============================] - 27s 70ms/step - loss: 0.3881 - acc: 0.8613 - val_loss: 0.5444 - val_acc: 0.8188\n",
            "Epoch 44/50\n",
            "\n",
            "Epoch 00044: LearningRateScheduler setting learning rate to 0.000203252.\n",
            "390/390 [==============================] - 27s 70ms/step - loss: 0.3821 - acc: 0.8632 - val_loss: 0.5539 - val_acc: 0.8173\n",
            "Epoch 45/50\n",
            "\n",
            "Epoch 00045: LearningRateScheduler setting learning rate to 0.000198939.\n",
            "390/390 [==============================] - 27s 69ms/step - loss: 0.3828 - acc: 0.8635 - val_loss: 0.5340 - val_acc: 0.8218\n",
            "Epoch 46/50\n",
            "\n",
            "Epoch 00046: LearningRateScheduler setting learning rate to 0.0001948052.\n",
            "390/390 [==============================] - 27s 70ms/step - loss: 0.3735 - acc: 0.8666 - val_loss: 0.5365 - val_acc: 0.8191\n",
            "Epoch 47/50\n",
            "\n",
            "Epoch 00047: LearningRateScheduler setting learning rate to 0.0001908397.\n",
            "390/390 [==============================] - 27s 69ms/step - loss: 0.3744 - acc: 0.8660 - val_loss: 0.5516 - val_acc: 0.8180\n",
            "Epoch 48/50\n",
            "\n",
            "Epoch 00048: LearningRateScheduler setting learning rate to 0.0001870324.\n",
            "390/390 [==============================] - 27s 70ms/step - loss: 0.3789 - acc: 0.8669 - val_loss: 0.5491 - val_acc: 0.8170\n",
            "Epoch 49/50\n",
            "\n",
            "Epoch 00049: LearningRateScheduler setting learning rate to 0.0001833741.\n",
            "390/390 [==============================] - 27s 70ms/step - loss: 0.3718 - acc: 0.8660 - val_loss: 0.5465 - val_acc: 0.8196\n",
            "Epoch 50/50\n",
            "\n",
            "Epoch 00050: LearningRateScheduler setting learning rate to 0.0001798561.\n",
            "390/390 [==============================] - 27s 70ms/step - loss: 0.3649 - acc: 0.8695 - val_loss: 0.5493 - val_acc: 0.8217\n",
            "Model took 1362.63 seconds to train\n"
          ],
          "name": "stdout"
        },
        {
          "output_type": "display_data",
          "data": {
            "image/png": "[encoded data removed]",
            "text/plain": [
              "<Figure size 1080x360 with 2 Axes>"
            ]
          },
          "metadata": {
            "tags": []
          }
        },
        {
          "output_type": "stream",
          "text": [
            "Accuracy on test data is: 82.17\n"
          ],
          "name": "stdout"
        }
      ]
    },
    {
      "cell_type": "code",
      "metadata": {
        "id": "LriRUttnwyfq",
        "colab_type": "code",
        "colab": {}
      },
      "source": [
        ""
      ],
      "execution_count": 0,
      "outputs": []
    },
    {
      "cell_type": "code",
      "metadata": {
        "id": "mwbs77dKrlkv",
        "colab_type": "code",
        "colab": {}
      },
      "source": [
        ""
      ],
      "execution_count": 0,
      "outputs": []
    },
    {
      "cell_type": "code",
      "metadata": {
        "id": "KvBzvEytrln4",
        "colab_type": "code",
        "colab": {}
      },
      "source": [
        ""
      ],
      "execution_count": 0,
      "outputs": []
    },
    {
      "cell_type": "code",
      "metadata": {
        "id": "BotS13FSrlqf",
        "colab_type": "code",
        "colab": {}
      },
      "source": [
        ""
      ],
      "execution_count": 0,
      "outputs": []
    },
    {
      "cell_type": "markdown",
      "metadata": {
        "id": "yxR_30NJgY95",
        "colab_type": "text"
      },
      "source": [
        "### Trail - 5\n",
        "Trail- 3 with lower drop out values"
      ]
    },
    {
      "cell_type": "code",
      "metadata": {
        "id": "3s0nWGT9gdk-",
        "colab_type": "code",
        "colab": {}
      },
      "source": [
        "m5 = Sequential()\n",
        "\n",
        "# Block 1\n",
        "m5.add(SeparableConv2D(filters=48, kernel_size=(3,3),padding='same', input_shape=(32, 32, 3))) # 32\n",
        "m5.add(BatchNormalization())\n",
        "m5.add(Activation('relu'))\n",
        "m5.add(SeparableConv2D(filters=48, kernel_size=(3,3))) # 30\n",
        "m5.add(BatchNormalization())\n",
        "m5.add(Activation('relu'))\n",
        "m5.add(MaxPooling2D(pool_size=2)) #15\n",
        "m5.add(Dropout(0.25))\n",
        "\n",
        "# Block 2\n",
        "m5.add(SeparableConv2D(filters=96, kernel_size=(3,3),padding='same')) # 15\n",
        "m5.add(BatchNormalization())\n",
        "m5.add(Activation('relu'))\n",
        "m5.add(SeparableConv2D(filters=96, kernel_size=(3,3))) # 13 \n",
        "m5.add(BatchNormalization())\n",
        "m5.add(Activation('relu'))\n",
        "m5.add(MaxPooling2D(pool_size=2)) # 6\n",
        "m5.add(Dropout(0.25))\n",
        "\n",
        "# block 3\n",
        "m5.add(SeparableConv2D(filters=192, kernel_size=(3, 3),padding='same')) #6\n",
        "m5.add(Activation('relu'))\n",
        "m5.add(BatchNormalization())\n",
        "m5.add(SeparableConv2D(filters=192, kernel_size=(3, 3))) #4\n",
        "m5.add(Activation('relu'))\n",
        "m5.add(BatchNormalization())\n",
        "m5.add(MaxPooling2D(pool_size=(2, 2))) #2\n",
        "m5.add(Dropout(0.25))\n",
        "\n",
        "# check if the below can be done using SeperableConv@D\n",
        "m5.add(Convolution2D(num_classes, 2))\n",
        "\n",
        "m5.add(GlobalAveragePooling2D())\n",
        "m5.add(Activation('softmax'))\n",
        "\n",
        "# m2.add(Flatten())\n",
        "# m2.add(Dense(512))\n",
        "# m2.add(Activation('relu'))\n",
        "# m2.add(Dropout(0.5))\n",
        "# m2.add(Dense(256))\n",
        "# m2.add(Activation('relu'))\n",
        "# m2.add(Dropout(0.5))\n",
        "\n",
        "# m2.add(Dense(num_classes, activation='softmax'))\n",
        "\n",
        "m5.compile(optimizer='adam', loss='categorical_crossentropy', metrics=['accuracy'])"
      ],
      "execution_count": 0,
      "outputs": []
    },
    {
      "cell_type": "code",
      "metadata": {
        "id": "-SJMRLlwgpZm",
        "colab_type": "code",
        "outputId": "52ed6f8d-a18c-4b74-c2b9-819811c95a16",
        "colab": {
          "base_uri": "https://localhost:8080/",
          "height": 1000
        }
      },
      "source": [
        "m5.summary()"
      ],
      "execution_count": 0,
      "outputs": [
        {
          "output_type": "stream",
          "text": [
            "Model: \"sequential_11\"\n",
            "_________________________________________________________________\n",
            "Layer (type)                 Output Shape              Param #   \n",
            "=================================================================\n",
            "separable_conv2d_49 (Separab (None, 32, 32, 48)        219       \n",
            "_________________________________________________________________\n",
            "batch_normalization_47 (Batc (None, 32, 32, 48)        192       \n",
            "_________________________________________________________________\n",
            "activation_53 (Activation)   (None, 32, 32, 48)        0         \n",
            "_________________________________________________________________\n",
            "separable_conv2d_50 (Separab (None, 30, 30, 48)        2784      \n",
            "_________________________________________________________________\n",
            "batch_normalization_48 (Batc (None, 30, 30, 48)        192       \n",
            "_________________________________________________________________\n",
            "activation_54 (Activation)   (None, 30, 30, 48)        0         \n",
            "_________________________________________________________________\n",
            "max_pooling2d_25 (MaxPooling (None, 15, 15, 48)        0         \n",
            "_________________________________________________________________\n",
            "dropout_31 (Dropout)         (None, 15, 15, 48)        0         \n",
            "_________________________________________________________________\n",
            "separable_conv2d_51 (Separab (None, 15, 15, 96)        5136      \n",
            "_________________________________________________________________\n",
            "batch_normalization_49 (Batc (None, 15, 15, 96)        384       \n",
            "_________________________________________________________________\n",
            "activation_55 (Activation)   (None, 15, 15, 96)        0         \n",
            "_________________________________________________________________\n",
            "separable_conv2d_52 (Separab (None, 13, 13, 96)        10176     \n",
            "_________________________________________________________________\n",
            "batch_normalization_50 (Batc (None, 13, 13, 96)        384       \n",
            "_________________________________________________________________\n",
            "activation_56 (Activation)   (None, 13, 13, 96)        0         \n",
            "_________________________________________________________________\n",
            "max_pooling2d_26 (MaxPooling (None, 6, 6, 96)          0         \n",
            "_________________________________________________________________\n",
            "dropout_32 (Dropout)         (None, 6, 6, 96)          0         \n",
            "_________________________________________________________________\n",
            "separable_conv2d_53 (Separab (None, 6, 6, 192)         19488     \n",
            "_________________________________________________________________\n",
            "activation_57 (Activation)   (None, 6, 6, 192)         0         \n",
            "_________________________________________________________________\n",
            "batch_normalization_51 (Batc (None, 6, 6, 192)         768       \n",
            "_________________________________________________________________\n",
            "separable_conv2d_54 (Separab (None, 4, 4, 192)         38784     \n",
            "_________________________________________________________________\n",
            "activation_58 (Activation)   (None, 4, 4, 192)         0         \n",
            "_________________________________________________________________\n",
            "batch_normalization_52 (Batc (None, 4, 4, 192)         768       \n",
            "_________________________________________________________________\n",
            "max_pooling2d_27 (MaxPooling (None, 2, 2, 192)         0         \n",
            "_________________________________________________________________\n",
            "dropout_33 (Dropout)         (None, 2, 2, 192)         0         \n",
            "_________________________________________________________________\n",
            "conv2d_12 (Conv2D)           (None, 1, 1, 10)          7690      \n",
            "_________________________________________________________________\n",
            "global_average_pooling2d_3 ( (None, 10)                0         \n",
            "_________________________________________________________________\n",
            "activation_59 (Activation)   (None, 10)                0         \n",
            "=================================================================\n",
            "Total params: 86,965\n",
            "Trainable params: 85,621\n",
            "Non-trainable params: 1,344\n",
            "_________________________________________________________________\n"
          ],
          "name": "stdout"
        }
      ]
    },
    {
      "cell_type": "code",
      "metadata": {
        "id": "udDOFdtYgrhv",
        "colab_type": "code",
        "outputId": "df7c7da3-914f-4d83-af2c-ba864af7a4eb",
        "colab": {
          "base_uri": "https://localhost:8080/",
          "height": 1000
        }
      },
      "source": [
        "train_model(m5)"
      ],
      "execution_count": 0,
      "outputs": [
        {
          "output_type": "stream",
          "text": [
            "/usr/local/lib/python3.6/dist-packages/ipykernel_launcher.py:11: UserWarning: The semantics of the Keras 2 argument `steps_per_epoch` is not the same as the Keras 1 argument `samples_per_epoch`. `steps_per_epoch` is the number of batches to draw from the generator at each epoch. Basically steps_per_epoch = samples_per_epoch/batch_size. Similarly `nb_val_samples`->`validation_steps` and `val_samples`->`steps` arguments have changed. Update your method calls accordingly.\n",
            "  # This is added back by InteractiveShellApp.init_path()\n",
            "/usr/local/lib/python3.6/dist-packages/ipykernel_launcher.py:11: UserWarning: Update your `fit_generator` call to the Keras 2 API: `fit_generator(<keras_pre..., validation_data=(array([[[..., verbose=1, steps_per_epoch=390, epochs=50)`\n",
            "  # This is added back by InteractiveShellApp.init_path()\n"
          ],
          "name": "stderr"
        },
        {
          "output_type": "stream",
          "text": [
            "Epoch 1/50\n",
            "390/390 [==============================] - 32s 83ms/step - loss: 1.8350 - acc: 0.3830 - val_loss: 1.3799 - val_acc: 0.4996\n",
            "Epoch 2/50\n",
            "390/390 [==============================] - 28s 71ms/step - loss: 1.3385 - acc: 0.5270 - val_loss: 1.4482 - val_acc: 0.5231\n",
            "Epoch 3/50\n",
            "390/390 [==============================] - 28s 72ms/step - loss: 1.1448 - acc: 0.5960 - val_loss: 1.4354 - val_acc: 0.5240\n",
            "Epoch 4/50\n",
            "390/390 [==============================] - 28s 72ms/step - loss: 1.0198 - acc: 0.6411 - val_loss: 0.9622 - val_acc: 0.6617\n",
            "Epoch 5/50\n",
            "390/390 [==============================] - 28s 72ms/step - loss: 0.9326 - acc: 0.6712 - val_loss: 0.9651 - val_acc: 0.6594\n",
            "Epoch 6/50\n",
            "390/390 [==============================] - 28s 72ms/step - loss: 0.8706 - acc: 0.6936 - val_loss: 0.9635 - val_acc: 0.6665\n",
            "Epoch 7/50\n",
            "390/390 [==============================] - 28s 72ms/step - loss: 0.8220 - acc: 0.7110 - val_loss: 0.8340 - val_acc: 0.7055\n",
            "Epoch 8/50\n",
            "390/390 [==============================] - 28s 72ms/step - loss: 0.7831 - acc: 0.7253 - val_loss: 0.9991 - val_acc: 0.6665\n",
            "Epoch 9/50\n",
            "390/390 [==============================] - 28s 72ms/step - loss: 0.7508 - acc: 0.7354 - val_loss: 0.8196 - val_acc: 0.7121\n",
            "Epoch 10/50\n",
            "390/390 [==============================] - 28s 72ms/step - loss: 0.7217 - acc: 0.7462 - val_loss: 0.7852 - val_acc: 0.7302\n",
            "Epoch 11/50\n",
            "390/390 [==============================] - 28s 72ms/step - loss: 0.6907 - acc: 0.7568 - val_loss: 1.0452 - val_acc: 0.6631\n",
            "Epoch 12/50\n",
            "390/390 [==============================] - 28s 72ms/step - loss: 0.6691 - acc: 0.7645 - val_loss: 0.7576 - val_acc: 0.7450\n",
            "Epoch 13/50\n",
            "390/390 [==============================] - 28s 72ms/step - loss: 0.6497 - acc: 0.7723 - val_loss: 0.8082 - val_acc: 0.7248\n",
            "Epoch 14/50\n",
            "390/390 [==============================] - 28s 71ms/step - loss: 0.6328 - acc: 0.7769 - val_loss: 0.7198 - val_acc: 0.7578\n",
            "Epoch 15/50\n",
            "390/390 [==============================] - 28s 71ms/step - loss: 0.6131 - acc: 0.7851 - val_loss: 0.7136 - val_acc: 0.7645\n",
            "Epoch 16/50\n",
            "390/390 [==============================] - 29s 74ms/step - loss: 0.5982 - acc: 0.7904 - val_loss: 0.7112 - val_acc: 0.7582\n",
            "Epoch 17/50\n",
            "390/390 [==============================] - 28s 73ms/step - loss: 0.5844 - acc: 0.7952 - val_loss: 0.7279 - val_acc: 0.7578\n",
            "Epoch 18/50\n",
            "390/390 [==============================] - 29s 73ms/step - loss: 0.5685 - acc: 0.8004 - val_loss: 0.7052 - val_acc: 0.7698\n",
            "Epoch 19/50\n",
            "390/390 [==============================] - 29s 74ms/step - loss: 0.5586 - acc: 0.8028 - val_loss: 0.7153 - val_acc: 0.7660\n",
            "Epoch 20/50\n",
            "390/390 [==============================] - 29s 73ms/step - loss: 0.5465 - acc: 0.8077 - val_loss: 0.6323 - val_acc: 0.7852\n",
            "Epoch 21/50\n",
            "390/390 [==============================] - 29s 73ms/step - loss: 0.5367 - acc: 0.8110 - val_loss: 0.6409 - val_acc: 0.7836\n",
            "Epoch 22/50\n",
            "390/390 [==============================] - 28s 73ms/step - loss: 0.5245 - acc: 0.8146 - val_loss: 0.6525 - val_acc: 0.7833\n",
            "Epoch 23/50\n",
            "390/390 [==============================] - 29s 74ms/step - loss: 0.5134 - acc: 0.8175 - val_loss: 0.6640 - val_acc: 0.7779\n",
            "Epoch 24/50\n",
            "390/390 [==============================] - 28s 73ms/step - loss: 0.5015 - acc: 0.8227 - val_loss: 0.6308 - val_acc: 0.7887\n",
            "Epoch 25/50\n",
            "390/390 [==============================] - 28s 73ms/step - loss: 0.4918 - acc: 0.8258 - val_loss: 0.6714 - val_acc: 0.7834\n",
            "Epoch 26/50\n",
            "390/390 [==============================] - 28s 73ms/step - loss: 0.4925 - acc: 0.8267 - val_loss: 0.6013 - val_acc: 0.7974\n",
            "Epoch 27/50\n",
            "390/390 [==============================] - 28s 73ms/step - loss: 0.4794 - acc: 0.8298 - val_loss: 0.6217 - val_acc: 0.7961\n",
            "Epoch 28/50\n",
            "390/390 [==============================] - 29s 73ms/step - loss: 0.4737 - acc: 0.8317 - val_loss: 0.8768 - val_acc: 0.7249\n",
            "Epoch 29/50\n",
            "390/390 [==============================] - 28s 73ms/step - loss: 0.4677 - acc: 0.8339 - val_loss: 0.6299 - val_acc: 0.7926\n",
            "Epoch 30/50\n",
            "390/390 [==============================] - 29s 74ms/step - loss: 0.4598 - acc: 0.8381 - val_loss: 0.6097 - val_acc: 0.8051\n",
            "Epoch 31/50\n",
            "390/390 [==============================] - 28s 73ms/step - loss: 0.4564 - acc: 0.8373 - val_loss: 0.6065 - val_acc: 0.7950\n",
            "Epoch 32/50\n",
            "390/390 [==============================] - 28s 73ms/step - loss: 0.4511 - acc: 0.8393 - val_loss: 0.6743 - val_acc: 0.7805\n",
            "Epoch 33/50\n",
            "390/390 [==============================] - 28s 73ms/step - loss: 0.4431 - acc: 0.8429 - val_loss: 0.5792 - val_acc: 0.8062\n",
            "Epoch 34/50\n",
            "390/390 [==============================] - 28s 73ms/step - loss: 0.4351 - acc: 0.8462 - val_loss: 0.6340 - val_acc: 0.7999\n",
            "Epoch 35/50\n",
            "390/390 [==============================] - 29s 73ms/step - loss: 0.4319 - acc: 0.8472 - val_loss: 0.6294 - val_acc: 0.7930\n",
            "Epoch 36/50\n",
            "390/390 [==============================] - 28s 73ms/step - loss: 0.4274 - acc: 0.8464 - val_loss: 0.6464 - val_acc: 0.7870\n",
            "Epoch 37/50\n",
            "390/390 [==============================] - 29s 74ms/step - loss: 0.4225 - acc: 0.8505 - val_loss: 0.6530 - val_acc: 0.7913\n",
            "Epoch 38/50\n",
            "390/390 [==============================] - 29s 74ms/step - loss: 0.4137 - acc: 0.8514 - val_loss: 0.6766 - val_acc: 0.7886\n",
            "Epoch 39/50\n",
            "390/390 [==============================] - 29s 73ms/step - loss: 0.4034 - acc: 0.8557 - val_loss: 0.8267 - val_acc: 0.7426\n",
            "Epoch 40/50\n",
            "390/390 [==============================] - 29s 73ms/step - loss: 0.4029 - acc: 0.8569 - val_loss: 0.6249 - val_acc: 0.7928\n",
            "Epoch 41/50\n",
            "390/390 [==============================] - 28s 72ms/step - loss: 0.3967 - acc: 0.8572 - val_loss: 0.6431 - val_acc: 0.8003\n",
            "Epoch 42/50\n",
            "390/390 [==============================] - 28s 71ms/step - loss: 0.3907 - acc: 0.8601 - val_loss: 0.5471 - val_acc: 0.8248\n",
            "Epoch 43/50\n",
            "390/390 [==============================] - 28s 71ms/step - loss: 0.3908 - acc: 0.8600 - val_loss: 0.5780 - val_acc: 0.8137\n",
            "Epoch 44/50\n",
            "390/390 [==============================] - 28s 72ms/step - loss: 0.3864 - acc: 0.8634 - val_loss: 0.7380 - val_acc: 0.7669\n",
            "Epoch 45/50\n",
            "390/390 [==============================] - 28s 72ms/step - loss: 0.3781 - acc: 0.8631 - val_loss: 0.5912 - val_acc: 0.8124\n",
            "Epoch 46/50\n",
            "390/390 [==============================] - 28s 72ms/step - loss: 0.3813 - acc: 0.8620 - val_loss: 0.6765 - val_acc: 0.7844\n",
            "Epoch 47/50\n",
            "390/390 [==============================] - 28s 72ms/step - loss: 0.3791 - acc: 0.8649 - val_loss: 0.6239 - val_acc: 0.7999\n",
            "Epoch 48/50\n",
            "390/390 [==============================] - 28s 72ms/step - loss: 0.3793 - acc: 0.8645 - val_loss: 0.6380 - val_acc: 0.7967\n",
            "Epoch 49/50\n",
            "390/390 [==============================] - 30s 76ms/step - loss: 0.3661 - acc: 0.8690 - val_loss: 0.5862 - val_acc: 0.8158\n",
            "Epoch 50/50\n",
            "390/390 [==============================] - 28s 73ms/step - loss: 0.3693 - acc: 0.8683 - val_loss: 0.6101 - val_acc: 0.8157\n",
            "Model took 1420.63 seconds to train\n"
          ],
          "name": "stdout"
        },
        {
          "output_type": "display_data",
          "data": {
            "image/png": "[encoded data removed]",
            "text/plain": [
              "<Figure size 1080x360 with 2 Axes>"
            ]
          },
          "metadata": {
            "tags": []
          }
        },
        {
          "output_type": "stream",
          "text": [
            "Accuracy on test data is: 81.57\n"
          ],
          "name": "stdout"
        }
      ]
    },
    {
      "cell_type": "code",
      "metadata": {
        "id": "7lqNnIO1gtLO",
        "colab_type": "code",
        "colab": {}
      },
      "source": [
        ""
      ],
      "execution_count": 0,
      "outputs": []
    },
    {
      "cell_type": "code",
      "metadata": {
        "id": "DTpwhJZaggP0",
        "colab_type": "code",
        "colab": {}
      },
      "source": [
        ""
      ],
      "execution_count": 0,
      "outputs": []
    },
    {
      "cell_type": "code",
      "metadata": {
        "id": "Zd0IzmPfggEG",
        "colab_type": "code",
        "colab": {}
      },
      "source": [
        ""
      ],
      "execution_count": 0,
      "outputs": []
    },
    {
      "cell_type": "code",
      "metadata": {
        "id": "HliUPNUAgf0V",
        "colab_type": "code",
        "colab": {}
      },
      "source": [
        ""
      ],
      "execution_count": 0,
      "outputs": []
    },
    {
      "cell_type": "code",
      "metadata": {
        "id": "TZ98Or4QgfmN",
        "colab_type": "code",
        "colab": {}
      },
      "source": [
        ""
      ],
      "execution_count": 0,
      "outputs": []
    },
    {
      "cell_type": "markdown",
      "metadata": {
        "id": "KZ5a3FdqWYPV",
        "colab_type": "text"
      },
      "source": [
        "### Trail - 4\n",
        "Trail 2 and Trail 3 didnt reach the base network accuracy; \n",
        "Lets tweak the architecture number of filters and add more layers based on Trail-3"
      ]
    },
    {
      "cell_type": "code",
      "metadata": {
        "id": "jz74UiuqWnSr",
        "colab_type": "code",
        "colab": {}
      },
      "source": [
        "m4 = Sequential()\n",
        "\n",
        "# Block 1\n",
        "m4.add(SeparableConv2D(filters=32, kernel_size=(3,3),padding='same', activation='relu', input_shape=(32, 32, 3))) # 32\n",
        "m4.add(BatchNormalization())\n",
        "m4.add(SeparableConv2D(filters=64, kernel_size=(3,3), padding='same', activation='relu')) # 32\n",
        "m4.add(BatchNormalization())\n",
        "m4.add(SeparableConv2D(filters=128, kernel_size=(3,3), activation='relu')) # 30\n",
        "m4.add(BatchNormalization())\n",
        "m4.add(MaxPooling2D(pool_size=2)) #15\n",
        "m4.add(Dropout(0.1))\n",
        "\n",
        "# Block 2\n",
        "m4.add(SeparableConv2D(filters=32, kernel_size=(3,3),padding='same', activation='relu')) # 15\n",
        "m4.add(BatchNormalization())\n",
        "m4.add(SeparableConv2D(filters=64, kernel_size=(3,3), padding='same', activation='relu')) # 15\n",
        "m4.add(BatchNormalization())\n",
        "m4.add(SeparableConv2D(filters=128, kernel_size=(3,3), activation='relu')) # 13\n",
        "m4.add(BatchNormalization())\n",
        "m4.add(MaxPooling2D(pool_size=2)) # 6\n",
        "m4.add(Dropout(0.1))\n",
        "\n",
        "# block 3\n",
        "m4.add(SeparableConv2D(filters=32, kernel_size=(3, 3),padding='same', activation='relu')) #6\n",
        "m4.add(BatchNormalization())\n",
        "m4.add(SeparableConv2D(filters=64, kernel_size=(3, 3), padding='same', activation='relu')) #6\n",
        "m4.add(BatchNormalization())\n",
        "m4.add(SeparableConv2D(filters=128, kernel_size=(3, 3), activation='relu')) #4\n",
        "m4.add(BatchNormalization())\n",
        "m4.add(MaxPooling2D(pool_size=(2, 2))) #2\n",
        "m4.add(Dropout(0.1))\n",
        "\n",
        "# check if the below can be done using SeperableConv@D\n",
        "m4.add(Convolution2D(num_classes, 2))\n",
        "\n",
        "m4.add(GlobalAveragePooling2D())\n",
        "m4.add(Activation('softmax'))\n",
        "\n",
        "m4.compile(optimizer='adam', loss='categorical_crossentropy', metrics=['accuracy'])"
      ],
      "execution_count": 0,
      "outputs": []
    },
    {
      "cell_type": "code",
      "metadata": {
        "id": "G7ctDmK3YUbT",
        "colab_type": "code",
        "outputId": "dd2ccb12-9f2a-402c-9b5d-5eadf3a5dba7",
        "colab": {
          "base_uri": "https://localhost:8080/",
          "height": 1000
        }
      },
      "source": [
        "m4.summary()"
      ],
      "execution_count": 0,
      "outputs": [
        {
          "output_type": "stream",
          "text": [
            "Model: \"sequential_10\"\n",
            "_________________________________________________________________\n",
            "Layer (type)                 Output Shape              Param #   \n",
            "=================================================================\n",
            "separable_conv2d_40 (Separab (None, 32, 32, 32)        155       \n",
            "_________________________________________________________________\n",
            "batch_normalization_38 (Batc (None, 32, 32, 32)        128       \n",
            "_________________________________________________________________\n",
            "separable_conv2d_41 (Separab (None, 32, 32, 64)        2400      \n",
            "_________________________________________________________________\n",
            "batch_normalization_39 (Batc (None, 32, 32, 64)        256       \n",
            "_________________________________________________________________\n",
            "separable_conv2d_42 (Separab (None, 30, 30, 128)       8896      \n",
            "_________________________________________________________________\n",
            "batch_normalization_40 (Batc (None, 30, 30, 128)       512       \n",
            "_________________________________________________________________\n",
            "max_pooling2d_22 (MaxPooling (None, 15, 15, 128)       0         \n",
            "_________________________________________________________________\n",
            "dropout_28 (Dropout)         (None, 15, 15, 128)       0         \n",
            "_________________________________________________________________\n",
            "separable_conv2d_43 (Separab (None, 15, 15, 32)        5280      \n",
            "_________________________________________________________________\n",
            "batch_normalization_41 (Batc (None, 15, 15, 32)        128       \n",
            "_________________________________________________________________\n",
            "separable_conv2d_44 (Separab (None, 15, 15, 64)        2400      \n",
            "_________________________________________________________________\n",
            "batch_normalization_42 (Batc (None, 15, 15, 64)        256       \n",
            "_________________________________________________________________\n",
            "separable_conv2d_45 (Separab (None, 13, 13, 128)       8896      \n",
            "_________________________________________________________________\n",
            "batch_normalization_43 (Batc (None, 13, 13, 128)       512       \n",
            "_________________________________________________________________\n",
            "max_pooling2d_23 (MaxPooling (None, 6, 6, 128)         0         \n",
            "_________________________________________________________________\n",
            "dropout_29 (Dropout)         (None, 6, 6, 128)         0         \n",
            "_________________________________________________________________\n",
            "separable_conv2d_46 (Separab (None, 6, 6, 32)          5280      \n",
            "_________________________________________________________________\n",
            "batch_normalization_44 (Batc (None, 6, 6, 32)          128       \n",
            "_________________________________________________________________\n",
            "separable_conv2d_47 (Separab (None, 6, 6, 64)          2400      \n",
            "_________________________________________________________________\n",
            "batch_normalization_45 (Batc (None, 6, 6, 64)          256       \n",
            "_________________________________________________________________\n",
            "separable_conv2d_48 (Separab (None, 4, 4, 128)         8896      \n",
            "_________________________________________________________________\n",
            "batch_normalization_46 (Batc (None, 4, 4, 128)         512       \n",
            "_________________________________________________________________\n",
            "max_pooling2d_24 (MaxPooling (None, 2, 2, 128)         0         \n",
            "_________________________________________________________________\n",
            "dropout_30 (Dropout)         (None, 2, 2, 128)         0         \n",
            "_________________________________________________________________\n",
            "conv2d_11 (Conv2D)           (None, 1, 1, 10)          5130      \n",
            "_________________________________________________________________\n",
            "global_average_pooling2d_2 ( (None, 10)                0         \n",
            "_________________________________________________________________\n",
            "activation_52 (Activation)   (None, 10)                0         \n",
            "=================================================================\n",
            "Total params: 52,421\n",
            "Trainable params: 51,077\n",
            "Non-trainable params: 1,344\n",
            "_________________________________________________________________\n"
          ],
          "name": "stdout"
        }
      ]
    },
    {
      "cell_type": "code",
      "metadata": {
        "id": "3KgIAeMRWnWq",
        "colab_type": "code",
        "outputId": "15156dee-de2f-4d92-a1c5-38ee55327323",
        "colab": {
          "base_uri": "https://localhost:8080/",
          "height": 1000
        }
      },
      "source": [
        "train_model(m4)"
      ],
      "execution_count": 0,
      "outputs": [
        {
          "output_type": "stream",
          "text": [
            "/usr/local/lib/python3.6/dist-packages/ipykernel_launcher.py:11: UserWarning: The semantics of the Keras 2 argument `steps_per_epoch` is not the same as the Keras 1 argument `samples_per_epoch`. `steps_per_epoch` is the number of batches to draw from the generator at each epoch. Basically steps_per_epoch = samples_per_epoch/batch_size. Similarly `nb_val_samples`->`validation_steps` and `val_samples`->`steps` arguments have changed. Update your method calls accordingly.\n",
            "  # This is added back by InteractiveShellApp.init_path()\n",
            "/usr/local/lib/python3.6/dist-packages/ipykernel_launcher.py:11: UserWarning: Update your `fit_generator` call to the Keras 2 API: `fit_generator(<keras_pre..., validation_data=(array([[[..., verbose=1, steps_per_epoch=390, epochs=50)`\n",
            "  # This is added back by InteractiveShellApp.init_path()\n"
          ],
          "name": "stderr"
        },
        {
          "output_type": "stream",
          "text": [
            "Epoch 1/50\n",
            "390/390 [==============================] - 44s 113ms/step - loss: 1.7439 - acc: 0.3836 - val_loss: 1.6012 - val_acc: 0.4507\n",
            "Epoch 2/50\n",
            "390/390 [==============================] - 38s 98ms/step - loss: 1.2546 - acc: 0.5482 - val_loss: 1.2237 - val_acc: 0.5744\n",
            "Epoch 3/50\n",
            "390/390 [==============================] - 38s 98ms/step - loss: 1.0390 - acc: 0.6311 - val_loss: 1.0267 - val_acc: 0.6332\n",
            "Epoch 4/50\n",
            "390/390 [==============================] - 38s 98ms/step - loss: 0.9100 - acc: 0.6784 - val_loss: 0.9453 - val_acc: 0.6714\n",
            "Epoch 5/50\n",
            "390/390 [==============================] - 38s 98ms/step - loss: 0.8226 - acc: 0.7107 - val_loss: 0.9148 - val_acc: 0.6794\n",
            "Epoch 6/50\n",
            "390/390 [==============================] - 38s 98ms/step - loss: 0.7639 - acc: 0.7302 - val_loss: 0.8145 - val_acc: 0.7165\n",
            "Epoch 7/50\n",
            "390/390 [==============================] - 38s 98ms/step - loss: 0.7063 - acc: 0.7508 - val_loss: 0.8374 - val_acc: 0.7154\n",
            "Epoch 8/50\n",
            "390/390 [==============================] - 38s 98ms/step - loss: 0.6680 - acc: 0.7657 - val_loss: 0.7378 - val_acc: 0.7500\n",
            "Epoch 9/50\n",
            "390/390 [==============================] - 38s 98ms/step - loss: 0.6283 - acc: 0.7777 - val_loss: 0.7243 - val_acc: 0.7525\n",
            "Epoch 10/50\n",
            "390/390 [==============================] - 38s 98ms/step - loss: 0.5971 - acc: 0.7911 - val_loss: 0.7499 - val_acc: 0.7484\n",
            "Epoch 11/50\n",
            "390/390 [==============================] - 38s 98ms/step - loss: 0.5760 - acc: 0.7962 - val_loss: 0.7621 - val_acc: 0.7495\n",
            "Epoch 12/50\n",
            "390/390 [==============================] - 38s 98ms/step - loss: 0.5482 - acc: 0.8080 - val_loss: 0.7104 - val_acc: 0.7627\n",
            "Epoch 13/50\n",
            "390/390 [==============================] - 38s 98ms/step - loss: 0.5261 - acc: 0.8157 - val_loss: 0.6862 - val_acc: 0.7740\n",
            "Epoch 14/50\n",
            "390/390 [==============================] - 38s 98ms/step - loss: 0.5132 - acc: 0.8176 - val_loss: 0.6753 - val_acc: 0.7741\n",
            "Epoch 15/50\n",
            "390/390 [==============================] - 38s 98ms/step - loss: 0.4897 - acc: 0.8280 - val_loss: 0.7032 - val_acc: 0.7688\n",
            "Epoch 16/50\n",
            "390/390 [==============================] - 38s 98ms/step - loss: 0.4752 - acc: 0.8328 - val_loss: 0.7122 - val_acc: 0.7676\n",
            "Epoch 17/50\n",
            "390/390 [==============================] - 38s 98ms/step - loss: 0.4589 - acc: 0.8391 - val_loss: 0.6509 - val_acc: 0.7905\n",
            "Epoch 18/50\n",
            "390/390 [==============================] - 38s 98ms/step - loss: 0.4396 - acc: 0.8465 - val_loss: 0.6642 - val_acc: 0.7812\n",
            "Epoch 19/50\n",
            "390/390 [==============================] - 38s 98ms/step - loss: 0.4305 - acc: 0.8492 - val_loss: 0.7372 - val_acc: 0.7680\n",
            "Epoch 20/50\n",
            "390/390 [==============================] - 38s 98ms/step - loss: 0.4152 - acc: 0.8517 - val_loss: 0.6644 - val_acc: 0.7854\n",
            "Epoch 21/50\n",
            "390/390 [==============================] - 38s 98ms/step - loss: 0.4055 - acc: 0.8561 - val_loss: 0.7223 - val_acc: 0.7718\n",
            "Epoch 22/50\n",
            "390/390 [==============================] - 38s 99ms/step - loss: 0.3956 - acc: 0.8595 - val_loss: 0.6568 - val_acc: 0.7936\n",
            "Epoch 23/50\n",
            "390/390 [==============================] - 38s 98ms/step - loss: 0.3857 - acc: 0.8624 - val_loss: 0.7439 - val_acc: 0.7829\n",
            "Epoch 24/50\n",
            "390/390 [==============================] - 38s 99ms/step - loss: 0.3783 - acc: 0.8656 - val_loss: 0.6425 - val_acc: 0.7975\n",
            "Epoch 25/50\n",
            "390/390 [==============================] - 39s 99ms/step - loss: 0.3656 - acc: 0.8709 - val_loss: 0.6782 - val_acc: 0.7928\n",
            "Epoch 26/50\n",
            "390/390 [==============================] - 39s 99ms/step - loss: 0.3610 - acc: 0.8698 - val_loss: 0.6691 - val_acc: 0.7946\n",
            "Epoch 27/50\n",
            "390/390 [==============================] - 38s 99ms/step - loss: 0.3534 - acc: 0.8735 - val_loss: 0.6511 - val_acc: 0.8014\n",
            "Epoch 28/50\n",
            "390/390 [==============================] - 38s 98ms/step - loss: 0.3496 - acc: 0.8742 - val_loss: 0.6464 - val_acc: 0.8020\n",
            "Epoch 29/50\n",
            "390/390 [==============================] - 38s 98ms/step - loss: 0.3358 - acc: 0.8798 - val_loss: 0.6771 - val_acc: 0.7925\n",
            "Epoch 30/50\n",
            "390/390 [==============================] - 38s 99ms/step - loss: 0.3337 - acc: 0.8802 - val_loss: 0.6846 - val_acc: 0.7920\n",
            "Epoch 31/50\n",
            "390/390 [==============================] - 38s 99ms/step - loss: 0.3233 - acc: 0.8835 - val_loss: 0.6537 - val_acc: 0.8051\n",
            "Epoch 32/50\n",
            "390/390 [==============================] - 38s 99ms/step - loss: 0.3184 - acc: 0.8850 - val_loss: 0.6813 - val_acc: 0.8014\n",
            "Epoch 33/50\n",
            "390/390 [==============================] - 38s 99ms/step - loss: 0.3064 - acc: 0.8891 - val_loss: 0.6723 - val_acc: 0.8001\n",
            "Epoch 34/50\n",
            "390/390 [==============================] - 38s 98ms/step - loss: 0.3040 - acc: 0.8904 - val_loss: 0.6835 - val_acc: 0.8015\n",
            "Epoch 35/50\n",
            "390/390 [==============================] - 38s 98ms/step - loss: 0.2983 - acc: 0.8928 - val_loss: 0.6409 - val_acc: 0.8121\n",
            "Epoch 36/50\n",
            "390/390 [==============================] - 38s 98ms/step - loss: 0.2953 - acc: 0.8937 - val_loss: 0.6899 - val_acc: 0.7991\n",
            "Epoch 37/50\n",
            "390/390 [==============================] - 38s 98ms/step - loss: 0.2909 - acc: 0.8946 - val_loss: 0.6745 - val_acc: 0.8024\n",
            "Epoch 38/50\n",
            "390/390 [==============================] - 38s 98ms/step - loss: 0.2830 - acc: 0.8981 - val_loss: 0.6838 - val_acc: 0.8076\n",
            "Epoch 39/50\n",
            "390/390 [==============================] - 38s 98ms/step - loss: 0.2811 - acc: 0.8987 - val_loss: 0.6752 - val_acc: 0.8044\n",
            "Epoch 40/50\n",
            "390/390 [==============================] - 38s 98ms/step - loss: 0.2723 - acc: 0.9025 - val_loss: 0.6851 - val_acc: 0.8071\n",
            "Epoch 41/50\n",
            "390/390 [==============================] - 38s 98ms/step - loss: 0.2739 - acc: 0.9010 - val_loss: 0.6858 - val_acc: 0.8079\n",
            "Epoch 42/50\n",
            "390/390 [==============================] - 38s 98ms/step - loss: 0.2699 - acc: 0.9022 - val_loss: 0.6600 - val_acc: 0.8133\n",
            "Epoch 43/50\n",
            "390/390 [==============================] - 38s 98ms/step - loss: 0.2619 - acc: 0.9037 - val_loss: 0.6909 - val_acc: 0.8105\n",
            "Epoch 44/50\n",
            "390/390 [==============================] - 38s 98ms/step - loss: 0.2597 - acc: 0.9057 - val_loss: 0.6904 - val_acc: 0.8078\n",
            "Epoch 45/50\n",
            "390/390 [==============================] - 38s 98ms/step - loss: 0.2604 - acc: 0.9056 - val_loss: 0.6888 - val_acc: 0.8055\n",
            "Epoch 46/50\n",
            "390/390 [==============================] - 38s 98ms/step - loss: 0.2514 - acc: 0.9082 - val_loss: 0.6992 - val_acc: 0.8076\n",
            "Epoch 47/50\n",
            "390/390 [==============================] - 38s 98ms/step - loss: 0.2437 - acc: 0.9105 - val_loss: 0.7243 - val_acc: 0.8003\n",
            "Epoch 48/50\n",
            "390/390 [==============================] - 39s 99ms/step - loss: 0.2408 - acc: 0.9112 - val_loss: 0.7265 - val_acc: 0.8050\n",
            "Epoch 49/50\n",
            "390/390 [==============================] - 38s 98ms/step - loss: 0.2381 - acc: 0.9129 - val_loss: 0.7084 - val_acc: 0.8067\n",
            "Epoch 50/50\n",
            "390/390 [==============================] - 38s 98ms/step - loss: 0.2363 - acc: 0.9153 - val_loss: 0.7022 - val_acc: 0.8121\n",
            "Model took 1924.35 seconds to train\n"
          ],
          "name": "stdout"
        },
        {
          "output_type": "display_data",
          "data": {
            "image/png": "[encoded data removed]",
            "text/plain": [
              "<Figure size 1080x360 with 2 Axes>"
            ]
          },
          "metadata": {
            "tags": []
          }
        },
        {
          "output_type": "stream",
          "text": [
            "Accuracy on test data is: 81.21\n"
          ],
          "name": "stdout"
        }
      ]
    },
    {
      "cell_type": "code",
      "metadata": {
        "id": "FKcuGUecYpRz",
        "colab_type": "code",
        "colab": {}
      },
      "source": [
        ""
      ],
      "execution_count": 0,
      "outputs": []
    },
    {
      "cell_type": "code",
      "metadata": {
        "id": "FyFuf_mXWnZG",
        "colab_type": "code",
        "colab": {}
      },
      "source": [
        ""
      ],
      "execution_count": 0,
      "outputs": []
    },
    {
      "cell_type": "code",
      "metadata": {
        "id": "INR1DMLPWncQ",
        "colab_type": "code",
        "colab": {}
      },
      "source": [
        ""
      ],
      "execution_count": 0,
      "outputs": []
    },
    {
      "cell_type": "markdown",
      "metadata": {
        "id": "fuOAGw5VQol6",
        "colab_type": "text"
      },
      "source": [
        "### Trail - 3"
      ]
    },
    {
      "cell_type": "code",
      "metadata": {
        "id": "_wUmXs11QruM",
        "colab_type": "code",
        "colab": {}
      },
      "source": [
        "m3 = Sequential()\n",
        "\n",
        "# Block 1\n",
        "m3.add(SeparableConv2D(filters=48, kernel_size=(3,3),padding='same', input_shape=(32, 32, 3))) # 32\n",
        "m3.add(BatchNormalization())\n",
        "m3.add(Activation('relu'))\n",
        "m3.add(SeparableConv2D(filters=48, kernel_size=(3,3))) # 30\n",
        "m3.add(BatchNormalization())\n",
        "m3.add(Activation('relu'))\n",
        "m3.add(MaxPooling2D(pool_size=2)) #15\n",
        "m3.add(Dropout(0.25))\n",
        "\n",
        "# Block 2\n",
        "m3.add(SeparableConv2D(filters=96, kernel_size=(3,3),padding='same')) # 15\n",
        "m3.add(BatchNormalization())\n",
        "m3.add(Activation('relu'))\n",
        "m3.add(SeparableConv2D(filters=96, kernel_size=(3,3))) # 13 \n",
        "m3.add(BatchNormalization())\n",
        "m3.add(Activation('relu'))\n",
        "m3.add(MaxPooling2D(pool_size=2)) # 6\n",
        "m3.add(Dropout(0.25))\n",
        "\n",
        "# block 3\n",
        "m3.add(SeparableConv2D(filters=192, kernel_size=(3, 3),padding='same')) #6\n",
        "m3.add(Activation('relu'))\n",
        "m3.add(BatchNormalization())\n",
        "m3.add(SeparableConv2D(filters=192, kernel_size=(3, 3))) #4\n",
        "m3.add(Activation('relu'))\n",
        "m3.add(BatchNormalization())\n",
        "m3.add(MaxPooling2D(pool_size=(2, 2))) #2\n",
        "m3.add(Dropout(0.25))\n",
        "\n",
        "# check if the below can be done using SeperableConv@D\n",
        "m3.add(Convolution2D(num_classes, 2))\n",
        "\n",
        "m3.add(GlobalAveragePooling2D())\n",
        "m3.add(Activation('softmax'))\n",
        "\n",
        "# m2.add(Flatten())\n",
        "# m2.add(Dense(512))\n",
        "# m2.add(Activation('relu'))\n",
        "# m2.add(Dropout(0.5))\n",
        "# m2.add(Dense(256))\n",
        "# m2.add(Activation('relu'))\n",
        "# m2.add(Dropout(0.5))\n",
        "\n",
        "# m2.add(Dense(num_classes, activation='softmax'))\n",
        "\n",
        "m3.compile(optimizer='adam', loss='categorical_crossentropy', metrics=['accuracy'])"
      ],
      "execution_count": 0,
      "outputs": []
    },
    {
      "cell_type": "code",
      "metadata": {
        "id": "Hanrz517RFgH",
        "colab_type": "code",
        "outputId": "06a61c1a-0f51-410e-904e-2ca94d967393",
        "colab": {
          "base_uri": "https://localhost:8080/",
          "height": 1000
        }
      },
      "source": [
        "m3.summary()"
      ],
      "execution_count": 0,
      "outputs": [
        {
          "output_type": "stream",
          "text": [
            "Model: \"sequential_8\"\n",
            "_________________________________________________________________\n",
            "Layer (type)                 Output Shape              Param #   \n",
            "=================================================================\n",
            "separable_conv2d_32 (Separab (None, 32, 32, 48)        219       \n",
            "_________________________________________________________________\n",
            "batch_normalization_31 (Batc (None, 32, 32, 48)        192       \n",
            "_________________________________________________________________\n",
            "activation_45 (Activation)   (None, 32, 32, 48)        0         \n",
            "_________________________________________________________________\n",
            "separable_conv2d_33 (Separab (None, 30, 30, 48)        2784      \n",
            "_________________________________________________________________\n",
            "batch_normalization_32 (Batc (None, 30, 30, 48)        192       \n",
            "_________________________________________________________________\n",
            "activation_46 (Activation)   (None, 30, 30, 48)        0         \n",
            "_________________________________________________________________\n",
            "max_pooling2d_19 (MaxPooling (None, 15, 15, 48)        0         \n",
            "_________________________________________________________________\n",
            "dropout_25 (Dropout)         (None, 15, 15, 48)        0         \n",
            "_________________________________________________________________\n",
            "separable_conv2d_34 (Separab (None, 15, 15, 96)        5136      \n",
            "_________________________________________________________________\n",
            "batch_normalization_33 (Batc (None, 15, 15, 96)        384       \n",
            "_________________________________________________________________\n",
            "activation_47 (Activation)   (None, 15, 15, 96)        0         \n",
            "_________________________________________________________________\n",
            "separable_conv2d_35 (Separab (None, 13, 13, 96)        10176     \n",
            "_________________________________________________________________\n",
            "batch_normalization_34 (Batc (None, 13, 13, 96)        384       \n",
            "_________________________________________________________________\n",
            "activation_48 (Activation)   (None, 13, 13, 96)        0         \n",
            "_________________________________________________________________\n",
            "max_pooling2d_20 (MaxPooling (None, 6, 6, 96)          0         \n",
            "_________________________________________________________________\n",
            "dropout_26 (Dropout)         (None, 6, 6, 96)          0         \n",
            "_________________________________________________________________\n",
            "separable_conv2d_36 (Separab (None, 6, 6, 192)         19488     \n",
            "_________________________________________________________________\n",
            "activation_49 (Activation)   (None, 6, 6, 192)         0         \n",
            "_________________________________________________________________\n",
            "batch_normalization_35 (Batc (None, 6, 6, 192)         768       \n",
            "_________________________________________________________________\n",
            "separable_conv2d_37 (Separab (None, 4, 4, 192)         38784     \n",
            "_________________________________________________________________\n",
            "activation_50 (Activation)   (None, 4, 4, 192)         0         \n",
            "_________________________________________________________________\n",
            "batch_normalization_36 (Batc (None, 4, 4, 192)         768       \n",
            "_________________________________________________________________\n",
            "max_pooling2d_21 (MaxPooling (None, 2, 2, 192)         0         \n",
            "_________________________________________________________________\n",
            "dropout_27 (Dropout)         (None, 2, 2, 192)         0         \n",
            "_________________________________________________________________\n",
            "conv2d_10 (Conv2D)           (None, 1, 1, 10)          7690      \n",
            "_________________________________________________________________\n",
            "global_average_pooling2d_1 ( (None, 10)                0         \n",
            "_________________________________________________________________\n",
            "activation_51 (Activation)   (None, 10)                0         \n",
            "=================================================================\n",
            "Total params: 86,965\n",
            "Trainable params: 85,621\n",
            "Non-trainable params: 1,344\n",
            "_________________________________________________________________\n"
          ],
          "name": "stdout"
        }
      ]
    },
    {
      "cell_type": "code",
      "metadata": {
        "id": "oj7PKKxCRKwk",
        "colab_type": "code",
        "outputId": "27aef0f9-23a8-4a2d-efb3-5174830b7eb5",
        "colab": {
          "base_uri": "https://localhost:8080/",
          "height": 1000
        }
      },
      "source": [
        "train_model(m3)"
      ],
      "execution_count": 0,
      "outputs": [
        {
          "output_type": "stream",
          "text": [
            "/usr/local/lib/python3.6/dist-packages/ipykernel_launcher.py:11: UserWarning: The semantics of the Keras 2 argument `steps_per_epoch` is not the same as the Keras 1 argument `samples_per_epoch`. `steps_per_epoch` is the number of batches to draw from the generator at each epoch. Basically steps_per_epoch = samples_per_epoch/batch_size. Similarly `nb_val_samples`->`validation_steps` and `val_samples`->`steps` arguments have changed. Update your method calls accordingly.\n",
            "  # This is added back by InteractiveShellApp.init_path()\n",
            "/usr/local/lib/python3.6/dist-packages/ipykernel_launcher.py:11: UserWarning: Update your `fit_generator` call to the Keras 2 API: `fit_generator(<keras_pre..., validation_data=(array([[[..., verbose=1, steps_per_epoch=390, epochs=50)`\n",
            "  # This is added back by InteractiveShellApp.init_path()\n"
          ],
          "name": "stderr"
        },
        {
          "output_type": "stream",
          "text": [
            "Epoch 1/50\n",
            "390/390 [==============================] - 32s 81ms/step - loss: 1.8464 - acc: 0.3762 - val_loss: 1.4038 - val_acc: 0.4967\n",
            "Epoch 2/50\n",
            "390/390 [==============================] - 26s 68ms/step - loss: 1.3199 - acc: 0.5319 - val_loss: 1.1858 - val_acc: 0.5722\n",
            "Epoch 3/50\n",
            "390/390 [==============================] - 27s 68ms/step - loss: 1.1253 - acc: 0.5995 - val_loss: 1.0407 - val_acc: 0.6345\n",
            "Epoch 4/50\n",
            "390/390 [==============================] - 27s 68ms/step - loss: 0.9975 - acc: 0.6484 - val_loss: 1.0849 - val_acc: 0.6296\n",
            "Epoch 5/50\n",
            "390/390 [==============================] - 27s 68ms/step - loss: 0.9214 - acc: 0.6771 - val_loss: 0.8649 - val_acc: 0.7008\n",
            "Epoch 6/50\n",
            "390/390 [==============================] - 27s 68ms/step - loss: 0.8589 - acc: 0.6971 - val_loss: 1.0204 - val_acc: 0.6618\n",
            "Epoch 7/50\n",
            "390/390 [==============================] - 27s 68ms/step - loss: 0.8103 - acc: 0.7129 - val_loss: 0.8937 - val_acc: 0.6958\n",
            "Epoch 8/50\n",
            "390/390 [==============================] - 27s 68ms/step - loss: 0.7692 - acc: 0.7298 - val_loss: 1.2049 - val_acc: 0.6417\n",
            "Epoch 9/50\n",
            "390/390 [==============================] - 27s 68ms/step - loss: 0.7390 - acc: 0.7408 - val_loss: 1.0607 - val_acc: 0.6534\n",
            "Epoch 10/50\n",
            "390/390 [==============================] - 27s 68ms/step - loss: 0.7184 - acc: 0.7448 - val_loss: 0.8543 - val_acc: 0.7078\n",
            "Epoch 11/50\n",
            "390/390 [==============================] - 27s 68ms/step - loss: 0.6846 - acc: 0.7594 - val_loss: 0.7823 - val_acc: 0.7303\n",
            "Epoch 12/50\n",
            "390/390 [==============================] - 27s 68ms/step - loss: 0.6656 - acc: 0.7643 - val_loss: 0.7802 - val_acc: 0.7380\n",
            "Epoch 13/50\n",
            "390/390 [==============================] - 27s 68ms/step - loss: 0.6427 - acc: 0.7733 - val_loss: 0.8774 - val_acc: 0.7011\n",
            "Epoch 14/50\n",
            "390/390 [==============================] - 27s 68ms/step - loss: 0.6160 - acc: 0.7827 - val_loss: 0.8518 - val_acc: 0.7237\n",
            "Epoch 15/50\n",
            "390/390 [==============================] - 27s 69ms/step - loss: 0.6102 - acc: 0.7861 - val_loss: 0.8508 - val_acc: 0.7186\n",
            "Epoch 16/50\n",
            "390/390 [==============================] - 27s 68ms/step - loss: 0.5931 - acc: 0.7890 - val_loss: 0.6678 - val_acc: 0.7713\n",
            "Epoch 17/50\n",
            "390/390 [==============================] - 27s 68ms/step - loss: 0.5777 - acc: 0.7959 - val_loss: 0.6872 - val_acc: 0.7706\n",
            "Epoch 18/50\n",
            "390/390 [==============================] - 27s 68ms/step - loss: 0.5639 - acc: 0.8016 - val_loss: 0.7476 - val_acc: 0.7567\n",
            "Epoch 19/50\n",
            "390/390 [==============================] - 27s 68ms/step - loss: 0.5586 - acc: 0.8039 - val_loss: 0.7425 - val_acc: 0.7504\n",
            "Epoch 20/50\n",
            "390/390 [==============================] - 26s 68ms/step - loss: 0.5368 - acc: 0.8093 - val_loss: 0.6713 - val_acc: 0.7772\n",
            "Epoch 21/50\n",
            "390/390 [==============================] - 27s 68ms/step - loss: 0.5340 - acc: 0.8117 - val_loss: 0.6659 - val_acc: 0.7770\n",
            "Epoch 22/50\n",
            "390/390 [==============================] - 27s 68ms/step - loss: 0.5240 - acc: 0.8158 - val_loss: 0.6644 - val_acc: 0.7830\n",
            "Epoch 23/50\n",
            "390/390 [==============================] - 26s 68ms/step - loss: 0.5141 - acc: 0.8180 - val_loss: 0.6996 - val_acc: 0.7691\n",
            "Epoch 24/50\n",
            "390/390 [==============================] - 26s 68ms/step - loss: 0.5056 - acc: 0.8206 - val_loss: 0.6109 - val_acc: 0.8010\n",
            "Epoch 25/50\n",
            "390/390 [==============================] - 26s 68ms/step - loss: 0.4924 - acc: 0.8252 - val_loss: 0.7476 - val_acc: 0.7644\n",
            "Epoch 26/50\n",
            "390/390 [==============================] - 26s 68ms/step - loss: 0.4883 - acc: 0.8255 - val_loss: 0.6582 - val_acc: 0.7786\n",
            "Epoch 27/50\n",
            "390/390 [==============================] - 26s 67ms/step - loss: 0.4800 - acc: 0.8311 - val_loss: 0.6541 - val_acc: 0.7822\n",
            "Epoch 28/50\n",
            "390/390 [==============================] - 26s 68ms/step - loss: 0.4720 - acc: 0.8316 - val_loss: 0.6134 - val_acc: 0.7970\n",
            "Epoch 29/50\n",
            "390/390 [==============================] - 26s 68ms/step - loss: 0.4714 - acc: 0.8329 - val_loss: 0.6691 - val_acc: 0.7788\n",
            "Epoch 30/50\n",
            "390/390 [==============================] - 26s 68ms/step - loss: 0.4620 - acc: 0.8369 - val_loss: 0.6051 - val_acc: 0.7998\n",
            "Epoch 31/50\n",
            "390/390 [==============================] - 26s 68ms/step - loss: 0.4534 - acc: 0.8401 - val_loss: 0.6987 - val_acc: 0.7829\n",
            "Epoch 32/50\n",
            "390/390 [==============================] - 26s 68ms/step - loss: 0.4475 - acc: 0.8413 - val_loss: 0.5991 - val_acc: 0.7999\n",
            "Epoch 33/50\n",
            "390/390 [==============================] - 26s 67ms/step - loss: 0.4404 - acc: 0.8439 - val_loss: 0.6549 - val_acc: 0.7883\n",
            "Epoch 34/50\n",
            "390/390 [==============================] - 26s 68ms/step - loss: 0.4343 - acc: 0.8448 - val_loss: 0.6497 - val_acc: 0.7841\n",
            "Epoch 35/50\n",
            "390/390 [==============================] - 26s 68ms/step - loss: 0.4326 - acc: 0.8465 - val_loss: 0.6520 - val_acc: 0.7832\n",
            "Epoch 36/50\n",
            "390/390 [==============================] - 26s 68ms/step - loss: 0.4217 - acc: 0.8497 - val_loss: 0.5866 - val_acc: 0.8058\n",
            "Epoch 37/50\n",
            "390/390 [==============================] - 27s 68ms/step - loss: 0.4201 - acc: 0.8490 - val_loss: 0.6092 - val_acc: 0.8052\n",
            "Epoch 38/50\n",
            "390/390 [==============================] - 26s 68ms/step - loss: 0.4125 - acc: 0.8525 - val_loss: 0.7320 - val_acc: 0.7657\n",
            "Epoch 39/50\n",
            "390/390 [==============================] - 27s 68ms/step - loss: 0.4109 - acc: 0.8547 - val_loss: 0.5929 - val_acc: 0.8076\n",
            "Epoch 40/50\n",
            "390/390 [==============================] - 26s 68ms/step - loss: 0.4029 - acc: 0.8572 - val_loss: 0.6733 - val_acc: 0.7842\n",
            "Epoch 41/50\n",
            "390/390 [==============================] - 26s 68ms/step - loss: 0.4036 - acc: 0.8561 - val_loss: 0.6244 - val_acc: 0.7972\n",
            "Epoch 42/50\n",
            "390/390 [==============================] - 27s 68ms/step - loss: 0.3954 - acc: 0.8580 - val_loss: 0.5639 - val_acc: 0.8144\n",
            "Epoch 43/50\n",
            "390/390 [==============================] - 27s 68ms/step - loss: 0.3934 - acc: 0.8582 - val_loss: 0.6909 - val_acc: 0.7751\n",
            "Epoch 44/50\n",
            "390/390 [==============================] - 26s 68ms/step - loss: 0.3942 - acc: 0.8591 - val_loss: 0.7679 - val_acc: 0.7621\n",
            "Epoch 45/50\n",
            "390/390 [==============================] - 26s 67ms/step - loss: 0.3895 - acc: 0.8620 - val_loss: 0.5942 - val_acc: 0.8062\n",
            "Epoch 46/50\n",
            "390/390 [==============================] - 26s 68ms/step - loss: 0.3799 - acc: 0.8653 - val_loss: 0.5803 - val_acc: 0.8099\n",
            "Epoch 47/50\n",
            "390/390 [==============================] - 26s 67ms/step - loss: 0.3805 - acc: 0.8631 - val_loss: 0.5779 - val_acc: 0.8138\n",
            "Epoch 48/50\n",
            "390/390 [==============================] - 26s 68ms/step - loss: 0.3746 - acc: 0.8679 - val_loss: 0.6151 - val_acc: 0.8022\n",
            "Epoch 49/50\n",
            "390/390 [==============================] - 26s 68ms/step - loss: 0.3741 - acc: 0.8665 - val_loss: 0.6223 - val_acc: 0.8050\n",
            "Epoch 50/50\n",
            "390/390 [==============================] - 26s 68ms/step - loss: 0.3646 - acc: 0.8702 - val_loss: 0.5876 - val_acc: 0.8149\n",
            "Model took 1331.44 seconds to train\n"
          ],
          "name": "stdout"
        },
        {
          "output_type": "display_data",
          "data": {
            "image/png": "[encoded data removed]",
            "text/plain": [
              "<Figure size 1080x360 with 2 Axes>"
            ]
          },
          "metadata": {
            "tags": []
          }
        },
        {
          "output_type": "stream",
          "text": [
            "Accuracy on test data is: 81.49\n"
          ],
          "name": "stdout"
        }
      ]
    },
    {
      "cell_type": "code",
      "metadata": {
        "id": "hJgLP4TgRMfu",
        "colab_type": "code",
        "colab": {}
      },
      "source": [
        ""
      ],
      "execution_count": 0,
      "outputs": []
    },
    {
      "cell_type": "code",
      "metadata": {
        "id": "tJbOz35QRKUm",
        "colab_type": "code",
        "colab": {}
      },
      "source": [
        ""
      ],
      "execution_count": 0,
      "outputs": []
    },
    {
      "cell_type": "markdown",
      "metadata": {
        "id": "WGxdNDWFIk4s",
        "colab_type": "text"
      },
      "source": [
        "### Trail - 2\n",
        "\n",
        "Remove last layers of Dense and apply 1x1 conv"
      ]
    },
    {
      "cell_type": "code",
      "metadata": {
        "id": "aZHkMVrtIwoj",
        "colab_type": "code",
        "colab": {}
      },
      "source": [
        "m2 = Sequential()\n",
        "\n",
        "# Block 1\n",
        "m2.add(SeparableConv2D(filters=48, kernel_size=(3,3),padding='same', input_shape=(32, 32, 3))) # 32\n",
        "m2.add(BatchNormalization())\n",
        "m2.add(Activation('relu'))\n",
        "m2.add(SeparableConv2D(filters=48, kernel_size=(3,3))) # 30\n",
        "m2.add(BatchNormalization())\n",
        "m2.add(Activation('relu'))\n",
        "m2.add(MaxPooling2D(pool_size=2)) #15\n",
        "m2.add(Dropout(0.25))\n",
        "\n",
        "# Block 2\n",
        "m2.add(SeparableConv2D(filters=96, kernel_size=(3,3),padding='same')) # 15\n",
        "m2.add(BatchNormalization())\n",
        "m2.add(Activation('relu'))\n",
        "m2.add(SeparableConv2D(filters=96, kernel_size=(3,3))) # 13 \n",
        "m2.add(BatchNormalization())\n",
        "m2.add(Activation('relu'))\n",
        "m2.add(MaxPooling2D(pool_size=2)) # 6\n",
        "m2.add(Dropout(0.25))\n",
        "\n",
        "# block 3\n",
        "m2.add(SeparableConv2D(filters=192, kernel_size=(3, 3),padding='same')) #6\n",
        "m2.add(Activation('relu'))\n",
        "m2.add(BatchNormalization())\n",
        "m2.add(SeparableConv2D(filters=192, kernel_size=(3, 3))) #4\n",
        "m2.add(Activation('relu'))\n",
        "m2.add(BatchNormalization())\n",
        "m2.add(MaxPooling2D(pool_size=(2, 2))) #2\n",
        "m2.add(Dropout(0.25))\n",
        "\n",
        "# check if the below can be done using SeperableConv@D\n",
        "m2.add(Convolution2D(num_classes, 2))\n",
        "\n",
        "m2.add(Flatten())\n",
        "m2.add(Activation('softmax'))\n",
        "\n",
        "# m2.add(Flatten())\n",
        "# m2.add(Dense(512))\n",
        "# m2.add(Activation('relu'))\n",
        "# m2.add(Dropout(0.5))\n",
        "# m2.add(Dense(256))\n",
        "# m2.add(Activation('relu'))\n",
        "# m2.add(Dropout(0.5))\n",
        "\n",
        "# m2.add(Dense(num_classes, activation='softmax'))\n",
        "\n",
        "m2.compile(optimizer='adam', loss='categorical_crossentropy', metrics=['accuracy'])"
      ],
      "execution_count": 0,
      "outputs": []
    },
    {
      "cell_type": "code",
      "metadata": {
        "id": "QoGw2m2CIoX9",
        "colab_type": "code",
        "outputId": "f4b4fe7b-d776-479d-d01f-5f09c5f2adce",
        "colab": {
          "base_uri": "https://localhost:8080/",
          "height": 1000
        }
      },
      "source": [
        "m2.summary()"
      ],
      "execution_count": 0,
      "outputs": [
        {
          "output_type": "stream",
          "text": [
            "Model: \"sequential_6\"\n",
            "_________________________________________________________________\n",
            "Layer (type)                 Output Shape              Param #   \n",
            "=================================================================\n",
            "separable_conv2d_20 (Separab (None, 32, 32, 48)        219       \n",
            "_________________________________________________________________\n",
            "batch_normalization_19 (Batc (None, 32, 32, 48)        192       \n",
            "_________________________________________________________________\n",
            "activation_32 (Activation)   (None, 32, 32, 48)        0         \n",
            "_________________________________________________________________\n",
            "separable_conv2d_21 (Separab (None, 30, 30, 48)        2784      \n",
            "_________________________________________________________________\n",
            "batch_normalization_20 (Batc (None, 30, 30, 48)        192       \n",
            "_________________________________________________________________\n",
            "activation_33 (Activation)   (None, 30, 30, 48)        0         \n",
            "_________________________________________________________________\n",
            "max_pooling2d_13 (MaxPooling (None, 15, 15, 48)        0         \n",
            "_________________________________________________________________\n",
            "dropout_19 (Dropout)         (None, 15, 15, 48)        0         \n",
            "_________________________________________________________________\n",
            "separable_conv2d_22 (Separab (None, 15, 15, 96)        5136      \n",
            "_________________________________________________________________\n",
            "batch_normalization_21 (Batc (None, 15, 15, 96)        384       \n",
            "_________________________________________________________________\n",
            "activation_34 (Activation)   (None, 15, 15, 96)        0         \n",
            "_________________________________________________________________\n",
            "separable_conv2d_23 (Separab (None, 13, 13, 96)        10176     \n",
            "_________________________________________________________________\n",
            "batch_normalization_22 (Batc (None, 13, 13, 96)        384       \n",
            "_________________________________________________________________\n",
            "activation_35 (Activation)   (None, 13, 13, 96)        0         \n",
            "_________________________________________________________________\n",
            "max_pooling2d_14 (MaxPooling (None, 6, 6, 96)          0         \n",
            "_________________________________________________________________\n",
            "dropout_20 (Dropout)         (None, 6, 6, 96)          0         \n",
            "_________________________________________________________________\n",
            "separable_conv2d_24 (Separab (None, 6, 6, 192)         19488     \n",
            "_________________________________________________________________\n",
            "activation_36 (Activation)   (None, 6, 6, 192)         0         \n",
            "_________________________________________________________________\n",
            "batch_normalization_23 (Batc (None, 6, 6, 192)         768       \n",
            "_________________________________________________________________\n",
            "separable_conv2d_25 (Separab (None, 4, 4, 192)         38784     \n",
            "_________________________________________________________________\n",
            "activation_37 (Activation)   (None, 4, 4, 192)         0         \n",
            "_________________________________________________________________\n",
            "batch_normalization_24 (Batc (None, 4, 4, 192)         768       \n",
            "_________________________________________________________________\n",
            "max_pooling2d_15 (MaxPooling (None, 2, 2, 192)         0         \n",
            "_________________________________________________________________\n",
            "dropout_21 (Dropout)         (None, 2, 2, 192)         0         \n",
            "_________________________________________________________________\n",
            "conv2d_8 (Conv2D)            (None, 1, 1, 10)          7690      \n",
            "_________________________________________________________________\n",
            "flatten_5 (Flatten)          (None, 10)                0         \n",
            "_________________________________________________________________\n",
            "activation_38 (Activation)   (None, 10)                0         \n",
            "=================================================================\n",
            "Total params: 86,965\n",
            "Trainable params: 85,621\n",
            "Non-trainable params: 1,344\n",
            "_________________________________________________________________\n"
          ],
          "name": "stdout"
        }
      ]
    },
    {
      "cell_type": "code",
      "metadata": {
        "id": "YKV8lhw_Iool",
        "colab_type": "code",
        "outputId": "1c960e40-c723-4f47-e61d-e97bbf4f07ef",
        "colab": {
          "base_uri": "https://localhost:8080/",
          "height": 1000
        }
      },
      "source": [
        "train_model(m2)"
      ],
      "execution_count": 0,
      "outputs": [
        {
          "output_type": "stream",
          "text": [
            "/usr/local/lib/python3.6/dist-packages/ipykernel_launcher.py:11: UserWarning: The semantics of the Keras 2 argument `steps_per_epoch` is not the same as the Keras 1 argument `samples_per_epoch`. `steps_per_epoch` is the number of batches to draw from the generator at each epoch. Basically steps_per_epoch = samples_per_epoch/batch_size. Similarly `nb_val_samples`->`validation_steps` and `val_samples`->`steps` arguments have changed. Update your method calls accordingly.\n",
            "  # This is added back by InteractiveShellApp.init_path()\n",
            "/usr/local/lib/python3.6/dist-packages/ipykernel_launcher.py:11: UserWarning: Update your `fit_generator` call to the Keras 2 API: `fit_generator(<keras_pre..., validation_data=(array([[[..., verbose=1, steps_per_epoch=390, epochs=50)`\n",
            "  # This is added back by InteractiveShellApp.init_path()\n"
          ],
          "name": "stderr"
        },
        {
          "output_type": "stream",
          "text": [
            "Epoch 1/50\n",
            "390/390 [==============================] - 31s 79ms/step - loss: 1.8509 - acc: 0.3711 - val_loss: 1.4991 - val_acc: 0.4626\n",
            "Epoch 2/50\n",
            "390/390 [==============================] - 28s 72ms/step - loss: 1.3831 - acc: 0.5067 - val_loss: 1.4703 - val_acc: 0.4935\n",
            "Epoch 3/50\n",
            "390/390 [==============================] - 28s 73ms/step - loss: 1.1857 - acc: 0.5789 - val_loss: 1.1215 - val_acc: 0.6066\n",
            "Epoch 4/50\n",
            "390/390 [==============================] - 28s 72ms/step - loss: 1.0589 - acc: 0.6228 - val_loss: 1.0055 - val_acc: 0.6496\n",
            "Epoch 5/50\n",
            "390/390 [==============================] - 28s 72ms/step - loss: 0.9673 - acc: 0.6572 - val_loss: 0.9299 - val_acc: 0.6717\n",
            "Epoch 6/50\n",
            "390/390 [==============================] - 28s 72ms/step - loss: 0.8979 - acc: 0.6836 - val_loss: 0.9564 - val_acc: 0.6717\n",
            "Epoch 7/50\n",
            "390/390 [==============================] - 28s 73ms/step - loss: 0.8438 - acc: 0.7032 - val_loss: 0.9105 - val_acc: 0.6922\n",
            "Epoch 8/50\n",
            "390/390 [==============================] - 28s 72ms/step - loss: 0.8046 - acc: 0.7173 - val_loss: 0.8118 - val_acc: 0.7194\n",
            "Epoch 9/50\n",
            "390/390 [==============================] - 28s 73ms/step - loss: 0.7616 - acc: 0.7305 - val_loss: 0.7637 - val_acc: 0.7368\n",
            "Epoch 10/50\n",
            "390/390 [==============================] - 28s 72ms/step - loss: 0.7348 - acc: 0.7425 - val_loss: 0.7502 - val_acc: 0.7414\n",
            "Epoch 11/50\n",
            "390/390 [==============================] - 28s 73ms/step - loss: 0.7048 - acc: 0.7523 - val_loss: 0.7442 - val_acc: 0.7431\n",
            "Epoch 12/50\n",
            "390/390 [==============================] - 28s 73ms/step - loss: 0.6846 - acc: 0.7594 - val_loss: 0.7061 - val_acc: 0.7582\n",
            "Epoch 13/50\n",
            "390/390 [==============================] - 28s 73ms/step - loss: 0.6608 - acc: 0.7699 - val_loss: 0.6821 - val_acc: 0.7649\n",
            "Epoch 14/50\n",
            "390/390 [==============================] - 28s 73ms/step - loss: 0.6395 - acc: 0.7732 - val_loss: 0.7265 - val_acc: 0.7521\n",
            "Epoch 15/50\n",
            "390/390 [==============================] - 28s 72ms/step - loss: 0.6146 - acc: 0.7837 - val_loss: 0.7746 - val_acc: 0.7494\n",
            "Epoch 16/50\n",
            "390/390 [==============================] - 28s 73ms/step - loss: 0.6080 - acc: 0.7870 - val_loss: 0.6837 - val_acc: 0.7663\n",
            "Epoch 17/50\n",
            "390/390 [==============================] - 28s 73ms/step - loss: 0.5857 - acc: 0.7935 - val_loss: 0.6254 - val_acc: 0.7884\n",
            "Epoch 18/50\n",
            "390/390 [==============================] - 28s 73ms/step - loss: 0.5776 - acc: 0.7984 - val_loss: 0.6296 - val_acc: 0.7885\n",
            "Epoch 19/50\n",
            "390/390 [==============================] - 28s 72ms/step - loss: 0.5641 - acc: 0.8020 - val_loss: 0.6573 - val_acc: 0.7782\n",
            "Epoch 20/50\n",
            "390/390 [==============================] - 28s 72ms/step - loss: 0.5466 - acc: 0.8068 - val_loss: 0.7960 - val_acc: 0.7448\n",
            "Epoch 21/50\n",
            "390/390 [==============================] - 28s 73ms/step - loss: 0.5326 - acc: 0.8121 - val_loss: 0.6161 - val_acc: 0.7969\n",
            "Epoch 22/50\n",
            "390/390 [==============================] - 28s 72ms/step - loss: 0.5259 - acc: 0.8132 - val_loss: 0.6334 - val_acc: 0.7850\n",
            "Epoch 23/50\n",
            "390/390 [==============================] - 28s 73ms/step - loss: 0.5143 - acc: 0.8186 - val_loss: 0.5996 - val_acc: 0.7978\n",
            "Epoch 24/50\n",
            "390/390 [==============================] - 28s 72ms/step - loss: 0.5001 - acc: 0.8232 - val_loss: 0.6840 - val_acc: 0.7730\n",
            "Epoch 25/50\n",
            "390/390 [==============================] - 28s 73ms/step - loss: 0.4940 - acc: 0.8251 - val_loss: 0.5909 - val_acc: 0.8029\n",
            "Epoch 26/50\n",
            "390/390 [==============================] - 28s 73ms/step - loss: 0.4876 - acc: 0.8275 - val_loss: 0.6026 - val_acc: 0.7984\n",
            "Epoch 27/50\n",
            "390/390 [==============================] - 28s 73ms/step - loss: 0.4796 - acc: 0.8297 - val_loss: 0.6741 - val_acc: 0.7779\n",
            "Epoch 28/50\n",
            "390/390 [==============================] - 28s 73ms/step - loss: 0.4722 - acc: 0.8332 - val_loss: 0.5983 - val_acc: 0.8043\n",
            "Epoch 29/50\n",
            "390/390 [==============================] - 28s 73ms/step - loss: 0.4656 - acc: 0.8356 - val_loss: 0.6049 - val_acc: 0.8005\n",
            "Epoch 30/50\n",
            "390/390 [==============================] - 28s 73ms/step - loss: 0.4575 - acc: 0.8388 - val_loss: 0.6048 - val_acc: 0.7937\n",
            "Epoch 31/50\n",
            "390/390 [==============================] - 28s 73ms/step - loss: 0.4496 - acc: 0.8392 - val_loss: 0.6259 - val_acc: 0.7945\n",
            "Epoch 32/50\n",
            "390/390 [==============================] - 29s 73ms/step - loss: 0.4456 - acc: 0.8406 - val_loss: 0.5940 - val_acc: 0.8062\n",
            "Epoch 33/50\n",
            "390/390 [==============================] - 28s 73ms/step - loss: 0.4378 - acc: 0.8423 - val_loss: 0.5871 - val_acc: 0.8043\n",
            "Epoch 34/50\n",
            "390/390 [==============================] - 28s 73ms/step - loss: 0.4350 - acc: 0.8463 - val_loss: 0.5656 - val_acc: 0.8101\n",
            "Epoch 35/50\n",
            "390/390 [==============================] - 28s 72ms/step - loss: 0.4278 - acc: 0.8490 - val_loss: 0.5734 - val_acc: 0.8099\n",
            "Epoch 36/50\n",
            "390/390 [==============================] - 28s 73ms/step - loss: 0.4197 - acc: 0.8514 - val_loss: 0.6458 - val_acc: 0.7875\n",
            "Epoch 37/50\n",
            "390/390 [==============================] - 28s 72ms/step - loss: 0.4141 - acc: 0.8521 - val_loss: 0.6888 - val_acc: 0.7845\n",
            "Epoch 38/50\n",
            "390/390 [==============================] - 28s 73ms/step - loss: 0.4128 - acc: 0.8545 - val_loss: 0.6596 - val_acc: 0.7866\n",
            "Epoch 39/50\n",
            "390/390 [==============================] - 28s 73ms/step - loss: 0.3999 - acc: 0.8581 - val_loss: 0.6284 - val_acc: 0.7942\n",
            "Epoch 40/50\n",
            "390/390 [==============================] - 28s 73ms/step - loss: 0.4018 - acc: 0.8573 - val_loss: 0.6093 - val_acc: 0.8038\n",
            "Epoch 41/50\n",
            "390/390 [==============================] - 28s 73ms/step - loss: 0.3969 - acc: 0.8592 - val_loss: 0.5841 - val_acc: 0.8105\n",
            "Epoch 42/50\n",
            "390/390 [==============================] - 28s 73ms/step - loss: 0.3961 - acc: 0.8596 - val_loss: 0.6225 - val_acc: 0.8033\n",
            "Epoch 43/50\n",
            "390/390 [==============================] - 28s 72ms/step - loss: 0.3849 - acc: 0.8611 - val_loss: 0.6711 - val_acc: 0.7849\n",
            "Epoch 44/50\n",
            "390/390 [==============================] - 28s 73ms/step - loss: 0.3870 - acc: 0.8629 - val_loss: 0.6284 - val_acc: 0.8026\n",
            "Epoch 45/50\n",
            "390/390 [==============================] - 28s 73ms/step - loss: 0.3802 - acc: 0.8634 - val_loss: 0.6641 - val_acc: 0.7903\n",
            "Epoch 46/50\n",
            "390/390 [==============================] - 28s 73ms/step - loss: 0.3837 - acc: 0.8630 - val_loss: 0.6036 - val_acc: 0.8103\n",
            "Epoch 47/50\n",
            "390/390 [==============================] - 28s 73ms/step - loss: 0.3730 - acc: 0.8673 - val_loss: 0.6209 - val_acc: 0.8035\n",
            "Epoch 48/50\n",
            "390/390 [==============================] - 28s 73ms/step - loss: 0.3708 - acc: 0.8675 - val_loss: 0.5678 - val_acc: 0.8173\n",
            "Epoch 49/50\n",
            "390/390 [==============================] - 28s 73ms/step - loss: 0.3625 - acc: 0.8704 - val_loss: 0.5835 - val_acc: 0.8156\n",
            "Epoch 50/50\n",
            "390/390 [==============================] - 28s 73ms/step - loss: 0.3648 - acc: 0.8705 - val_loss: 0.5796 - val_acc: 0.8141\n",
            "Model took 1421.61 seconds to train\n"
          ],
          "name": "stdout"
        },
        {
          "output_type": "display_data",
          "data": {
            "image/png": "[encoded data removed]",
            "text/plain": [
              "<Figure size 1080x360 with 2 Axes>"
            ]
          },
          "metadata": {
            "tags": []
          }
        },
        {
          "output_type": "stream",
          "text": [
            "Accuracy on test data is: 81.41\n"
          ],
          "name": "stdout"
        }
      ]
    },
    {
      "cell_type": "code",
      "metadata": {
        "id": "AsJ9mSBIIovS",
        "colab_type": "code",
        "colab": {}
      },
      "source": [
        ""
      ],
      "execution_count": 0,
      "outputs": []
    },
    {
      "cell_type": "code",
      "metadata": {
        "id": "jTqbvEPvIoyP",
        "colab_type": "code",
        "colab": {}
      },
      "source": [
        ""
      ],
      "execution_count": 0,
      "outputs": []
    },
    {
      "cell_type": "markdown",
      "metadata": {
        "id": "I6Q4ZyIvRZgA",
        "colab_type": "text"
      },
      "source": [
        "### Trail - 1\n",
        "\n",
        "---\n",
        "Model name = ***m1***\n",
        "\n",
        "\n",
        "\n",
        "*   Architecture same as Base model architecture\n",
        "*   Replacing Conv2D with SeperaableConv2D\n",
        "* *Not changing dropout values*\n",
        "-- Result Model Not learning\n",
        "\n",
        "* Add Batch Normalization after convolution\n",
        "\n",
        "\n",
        "\n",
        "---\n",
        "\n"
      ]
    },
    {
      "cell_type": "code",
      "metadata": {
        "id": "7N5aRIjKAcQ4",
        "colab_type": "code",
        "colab": {}
      },
      "source": [
        ""
      ],
      "execution_count": 0,
      "outputs": []
    },
    {
      "cell_type": "code",
      "metadata": {
        "id": "X1l3ATU1zNvt",
        "colab_type": "code",
        "colab": {}
      },
      "source": [
        "m1 = Sequential()\n",
        "\n",
        "# Block 1\n",
        "m1.add(SeparableConv2D(filters=48, kernel_size=(3,3),padding='same', input_shape=(32, 32, 3))) # 30\n",
        "m1.add(BatchNormalization())\n",
        "m1.add(Activation('relu'))\n",
        "m1.add(SeparableConv2D(filters=48, kernel_size=(3,3))) # 28\n",
        "m1.add(BatchNormalization())\n",
        "m1.add(Activation('relu'))\n",
        "m1.add(MaxPooling2D(pool_size=2)) #14\n",
        "m1.add(Dropout(0.25))\n",
        "\n",
        "# Block 2\n",
        "m1.add(SeparableConv2D(filters=96, kernel_size=(3,3),padding='same')) # 12\n",
        "m1.add(BatchNormalization())\n",
        "m1.add(Activation('relu'))\n",
        "m1.add(SeparableConv2D(filters=96, kernel_size=(3,3))) # 10 \n",
        "m1.add(BatchNormalization())\n",
        "m1.add(Activation('relu'))\n",
        "m1.add(MaxPooling2D(pool_size=2))\n",
        "m1.add(Dropout(0.25))\n",
        "\n",
        "# block 3\n",
        "m1.add(SeparableConv2D(filters=192, kernel_size=(3, 3),padding='same'))\n",
        "m1.add(Activation('relu'))\n",
        "m1.add(BatchNormalization())\n",
        "m1.add(SeparableConv2D(filters=192, kernel_size=(3, 3)))\n",
        "m1.add(Activation('relu'))\n",
        "m1.add(BatchNormalization())\n",
        "m1.add(MaxPooling2D(pool_size=(2, 2)))\n",
        "m1.add(Dropout(0.25))\n",
        "\n",
        "m1.add(Flatten())\n",
        "m1.add(Dense(512))\n",
        "m1.add(Activation('relu'))\n",
        "m1.add(Dropout(0.5))\n",
        "m1.add(Dense(256))\n",
        "m1.add(Activation('relu'))\n",
        "m1.add(Dropout(0.5))\n",
        "m1.add(Dense(num_classes, activation='softmax'))\n",
        "\n",
        "m1.compile(optimizer='adam', loss='categorical_crossentropy', metrics=['accuracy'])"
      ],
      "execution_count": 0,
      "outputs": []
    },
    {
      "cell_type": "code",
      "metadata": {
        "id": "el8cNo31Dk_-",
        "colab_type": "code",
        "outputId": "2f144806-da8b-41c2-8122-dc359e5ae076",
        "colab": {
          "base_uri": "https://localhost:8080/",
          "height": 1000
        }
      },
      "source": [
        "m1.summary()"
      ],
      "execution_count": 0,
      "outputs": [
        {
          "output_type": "stream",
          "text": [
            "Model: \"sequential_4\"\n",
            "_________________________________________________________________\n",
            "Layer (type)                 Output Shape              Param #   \n",
            "=================================================================\n",
            "separable_conv2d_8 (Separabl (None, 32, 32, 48)        219       \n",
            "_________________________________________________________________\n",
            "batch_normalization_7 (Batch (None, 32, 32, 48)        192       \n",
            "_________________________________________________________________\n",
            "activation_17 (Activation)   (None, 32, 32, 48)        0         \n",
            "_________________________________________________________________\n",
            "separable_conv2d_9 (Separabl (None, 30, 30, 48)        2784      \n",
            "_________________________________________________________________\n",
            "batch_normalization_8 (Batch (None, 30, 30, 48)        192       \n",
            "_________________________________________________________________\n",
            "activation_18 (Activation)   (None, 30, 30, 48)        0         \n",
            "_________________________________________________________________\n",
            "max_pooling2d_7 (MaxPooling2 (None, 15, 15, 48)        0         \n",
            "_________________________________________________________________\n",
            "dropout_11 (Dropout)         (None, 15, 15, 48)        0         \n",
            "_________________________________________________________________\n",
            "separable_conv2d_10 (Separab (None, 15, 15, 96)        5136      \n",
            "_________________________________________________________________\n",
            "batch_normalization_9 (Batch (None, 15, 15, 96)        384       \n",
            "_________________________________________________________________\n",
            "activation_19 (Activation)   (None, 15, 15, 96)        0         \n",
            "_________________________________________________________________\n",
            "separable_conv2d_11 (Separab (None, 13, 13, 96)        10176     \n",
            "_________________________________________________________________\n",
            "batch_normalization_10 (Batc (None, 13, 13, 96)        384       \n",
            "_________________________________________________________________\n",
            "activation_20 (Activation)   (None, 13, 13, 96)        0         \n",
            "_________________________________________________________________\n",
            "max_pooling2d_8 (MaxPooling2 (None, 6, 6, 96)          0         \n",
            "_________________________________________________________________\n",
            "dropout_12 (Dropout)         (None, 6, 6, 96)          0         \n",
            "_________________________________________________________________\n",
            "separable_conv2d_12 (Separab (None, 6, 6, 192)         19488     \n",
            "_________________________________________________________________\n",
            "activation_21 (Activation)   (None, 6, 6, 192)         0         \n",
            "_________________________________________________________________\n",
            "batch_normalization_11 (Batc (None, 6, 6, 192)         768       \n",
            "_________________________________________________________________\n",
            "separable_conv2d_13 (Separab (None, 4, 4, 192)         38784     \n",
            "_________________________________________________________________\n",
            "activation_22 (Activation)   (None, 4, 4, 192)         0         \n",
            "_________________________________________________________________\n",
            "batch_normalization_12 (Batc (None, 4, 4, 192)         768       \n",
            "_________________________________________________________________\n",
            "max_pooling2d_9 (MaxPooling2 (None, 2, 2, 192)         0         \n",
            "_________________________________________________________________\n",
            "dropout_13 (Dropout)         (None, 2, 2, 192)         0         \n",
            "_________________________________________________________________\n",
            "flatten_3 (Flatten)          (None, 768)               0         \n",
            "_________________________________________________________________\n",
            "dense_7 (Dense)              (None, 512)               393728    \n",
            "_________________________________________________________________\n",
            "activation_23 (Activation)   (None, 512)               0         \n",
            "_________________________________________________________________\n",
            "dropout_14 (Dropout)         (None, 512)               0         \n",
            "_________________________________________________________________\n",
            "dense_8 (Dense)              (None, 256)               131328    \n",
            "_________________________________________________________________\n",
            "activation_24 (Activation)   (None, 256)               0         \n",
            "_________________________________________________________________\n",
            "dropout_15 (Dropout)         (None, 256)               0         \n",
            "_________________________________________________________________\n",
            "dense_9 (Dense)              (None, 10)                2570      \n",
            "=================================================================\n",
            "Total params: 606,901\n",
            "Trainable params: 605,557\n",
            "Non-trainable params: 1,344\n",
            "_________________________________________________________________\n"
          ],
          "name": "stdout"
        }
      ]
    },
    {
      "cell_type": "code",
      "metadata": {
        "id": "UqydiXy6AXSD",
        "colab_type": "code",
        "outputId": "6aabc3cb-17ce-4679-c0b0-4d8384c9e923",
        "colab": {
          "base_uri": "https://localhost:8080/",
          "height": 1000
        }
      },
      "source": [
        "train_model(m1)"
      ],
      "execution_count": 0,
      "outputs": [
        {
          "output_type": "stream",
          "text": [
            "/usr/local/lib/python3.6/dist-packages/ipykernel_launcher.py:11: UserWarning: The semantics of the Keras 2 argument `steps_per_epoch` is not the same as the Keras 1 argument `samples_per_epoch`. `steps_per_epoch` is the number of batches to draw from the generator at each epoch. Basically steps_per_epoch = samples_per_epoch/batch_size. Similarly `nb_val_samples`->`validation_steps` and `val_samples`->`steps` arguments have changed. Update your method calls accordingly.\n",
            "  # This is added back by InteractiveShellApp.init_path()\n",
            "/usr/local/lib/python3.6/dist-packages/ipykernel_launcher.py:11: UserWarning: Update your `fit_generator` call to the Keras 2 API: `fit_generator(<keras_pre..., validation_data=(array([[[..., verbose=1, steps_per_epoch=390, epochs=50)`\n",
            "  # This is added back by InteractiveShellApp.init_path()\n"
          ],
          "name": "stderr"
        },
        {
          "output_type": "stream",
          "text": [
            "Epoch 1/50\n",
            "390/390 [==============================] - 30s 76ms/step - loss: 1.9044 - acc: 0.3035 - val_loss: 1.6357 - val_acc: 0.3992\n",
            "Epoch 2/50\n",
            "390/390 [==============================] - 28s 72ms/step - loss: 1.4837 - acc: 0.4707 - val_loss: 1.4270 - val_acc: 0.5000\n",
            "Epoch 3/50\n",
            "390/390 [==============================] - 28s 72ms/step - loss: 1.2865 - acc: 0.5458 - val_loss: 1.1486 - val_acc: 0.6052\n",
            "Epoch 4/50\n",
            "390/390 [==============================] - 28s 71ms/step - loss: 1.1724 - acc: 0.5917 - val_loss: 1.0147 - val_acc: 0.6537\n",
            "Epoch 5/50\n",
            "390/390 [==============================] - 28s 72ms/step - loss: 1.0740 - acc: 0.6281 - val_loss: 1.0046 - val_acc: 0.6516\n",
            "Epoch 6/50\n",
            "390/390 [==============================] - 28s 72ms/step - loss: 1.0032 - acc: 0.6537 - val_loss: 0.9763 - val_acc: 0.6646\n",
            "Epoch 7/50\n",
            "390/390 [==============================] - 28s 72ms/step - loss: 0.9551 - acc: 0.6725 - val_loss: 0.9639 - val_acc: 0.6703\n",
            "Epoch 8/50\n",
            "390/390 [==============================] - 28s 72ms/step - loss: 0.9161 - acc: 0.6847 - val_loss: 0.8951 - val_acc: 0.6991\n",
            "Epoch 9/50\n",
            "390/390 [==============================] - 28s 72ms/step - loss: 0.8815 - acc: 0.6978 - val_loss: 0.9206 - val_acc: 0.6809\n",
            "Epoch 10/50\n",
            "390/390 [==============================] - 28s 72ms/step - loss: 0.8412 - acc: 0.7128 - val_loss: 0.8248 - val_acc: 0.7105\n",
            "Epoch 11/50\n",
            "390/390 [==============================] - 28s 72ms/step - loss: 0.8116 - acc: 0.7195 - val_loss: 0.8453 - val_acc: 0.7133\n",
            "Epoch 12/50\n",
            "390/390 [==============================] - 28s 72ms/step - loss: 0.7920 - acc: 0.7274 - val_loss: 0.7335 - val_acc: 0.7512\n",
            "Epoch 13/50\n",
            "390/390 [==============================] - 28s 72ms/step - loss: 0.7747 - acc: 0.7350 - val_loss: 0.7412 - val_acc: 0.7499\n",
            "Epoch 14/50\n",
            "390/390 [==============================] - 28s 72ms/step - loss: 0.7476 - acc: 0.7426 - val_loss: 0.7166 - val_acc: 0.7566\n",
            "Epoch 15/50\n",
            "390/390 [==============================] - 28s 71ms/step - loss: 0.7320 - acc: 0.7511 - val_loss: 0.6805 - val_acc: 0.7697\n",
            "Epoch 16/50\n",
            "390/390 [==============================] - 28s 72ms/step - loss: 0.7158 - acc: 0.7565 - val_loss: 0.6942 - val_acc: 0.7659\n",
            "Epoch 17/50\n",
            "390/390 [==============================] - 28s 73ms/step - loss: 0.6973 - acc: 0.7602 - val_loss: 0.7019 - val_acc: 0.7600\n",
            "Epoch 18/50\n",
            "390/390 [==============================] - 28s 73ms/step - loss: 0.6791 - acc: 0.7679 - val_loss: 0.8516 - val_acc: 0.7129\n",
            "Epoch 19/50\n",
            "390/390 [==============================] - 28s 72ms/step - loss: 0.6654 - acc: 0.7744 - val_loss: 0.6821 - val_acc: 0.7713\n",
            "Epoch 20/50\n",
            "390/390 [==============================] - 28s 72ms/step - loss: 0.6607 - acc: 0.7732 - val_loss: 0.6903 - val_acc: 0.7665\n",
            "Epoch 21/50\n",
            "390/390 [==============================] - 28s 72ms/step - loss: 0.6424 - acc: 0.7800 - val_loss: 0.6712 - val_acc: 0.7753\n",
            "Epoch 22/50\n",
            "390/390 [==============================] - 28s 72ms/step - loss: 0.6344 - acc: 0.7836 - val_loss: 0.7019 - val_acc: 0.7609\n",
            "Epoch 23/50\n",
            "390/390 [==============================] - 28s 72ms/step - loss: 0.6255 - acc: 0.7860 - val_loss: 0.6438 - val_acc: 0.7816\n",
            "Epoch 24/50\n",
            "390/390 [==============================] - 28s 72ms/step - loss: 0.6146 - acc: 0.7906 - val_loss: 0.7645 - val_acc: 0.7556\n",
            "Epoch 25/50\n",
            "390/390 [==============================] - 28s 72ms/step - loss: 0.6038 - acc: 0.7943 - val_loss: 0.6326 - val_acc: 0.7916\n",
            "Epoch 26/50\n",
            "390/390 [==============================] - 28s 72ms/step - loss: 0.5910 - acc: 0.7975 - val_loss: 0.6688 - val_acc: 0.7765\n",
            "Epoch 27/50\n",
            "390/390 [==============================] - 28s 72ms/step - loss: 0.5825 - acc: 0.7992 - val_loss: 0.7127 - val_acc: 0.7682\n",
            "Epoch 28/50\n",
            "390/390 [==============================] - 28s 72ms/step - loss: 0.5813 - acc: 0.8008 - val_loss: 0.6194 - val_acc: 0.7900\n",
            "Epoch 29/50\n",
            "390/390 [==============================] - 28s 72ms/step - loss: 0.5664 - acc: 0.8064 - val_loss: 0.6477 - val_acc: 0.7774\n",
            "Epoch 30/50\n",
            "390/390 [==============================] - 28s 72ms/step - loss: 0.5611 - acc: 0.8083 - val_loss: 0.6791 - val_acc: 0.7754\n",
            "Epoch 31/50\n",
            "390/390 [==============================] - 28s 72ms/step - loss: 0.5606 - acc: 0.8084 - val_loss: 0.7117 - val_acc: 0.7653\n",
            "Epoch 32/50\n",
            "390/390 [==============================] - 28s 72ms/step - loss: 0.5450 - acc: 0.8118 - val_loss: 0.5743 - val_acc: 0.8039\n",
            "Epoch 33/50\n",
            "390/390 [==============================] - 28s 72ms/step - loss: 0.5392 - acc: 0.8145 - val_loss: 0.6398 - val_acc: 0.7874\n",
            "Epoch 34/50\n",
            "390/390 [==============================] - 28s 72ms/step - loss: 0.5241 - acc: 0.8205 - val_loss: 0.5799 - val_acc: 0.8113\n",
            "Epoch 35/50\n",
            "390/390 [==============================] - 28s 72ms/step - loss: 0.5280 - acc: 0.8194 - val_loss: 0.6134 - val_acc: 0.7949\n",
            "Epoch 36/50\n",
            "390/390 [==============================] - 28s 72ms/step - loss: 0.5205 - acc: 0.8229 - val_loss: 0.6091 - val_acc: 0.7988\n",
            "Epoch 37/50\n",
            "390/390 [==============================] - 28s 72ms/step - loss: 0.5094 - acc: 0.8262 - val_loss: 0.7484 - val_acc: 0.7567\n",
            "Epoch 38/50\n",
            "390/390 [==============================] - 28s 72ms/step - loss: 0.5094 - acc: 0.8262 - val_loss: 0.6169 - val_acc: 0.7991\n",
            "Epoch 39/50\n",
            "390/390 [==============================] - 28s 72ms/step - loss: 0.5043 - acc: 0.8278 - val_loss: 0.7101 - val_acc: 0.7723\n",
            "Epoch 40/50\n",
            "390/390 [==============================] - 28s 72ms/step - loss: 0.4967 - acc: 0.8308 - val_loss: 0.6011 - val_acc: 0.8017\n",
            "Epoch 41/50\n",
            "390/390 [==============================] - 28s 72ms/step - loss: 0.4938 - acc: 0.8316 - val_loss: 0.5529 - val_acc: 0.8137\n",
            "Epoch 42/50\n",
            "390/390 [==============================] - 28s 72ms/step - loss: 0.4825 - acc: 0.8350 - val_loss: 0.5857 - val_acc: 0.8070\n",
            "Epoch 43/50\n",
            "390/390 [==============================] - 28s 72ms/step - loss: 0.4793 - acc: 0.8367 - val_loss: 0.5885 - val_acc: 0.8003\n",
            "Epoch 44/50\n",
            "390/390 [==============================] - 28s 72ms/step - loss: 0.4800 - acc: 0.8360 - val_loss: 0.6512 - val_acc: 0.7878\n",
            "Epoch 45/50\n",
            "390/390 [==============================] - 28s 72ms/step - loss: 0.4723 - acc: 0.8390 - val_loss: 0.6362 - val_acc: 0.7956\n",
            "Epoch 46/50\n",
            "390/390 [==============================] - 28s 72ms/step - loss: 0.4630 - acc: 0.8398 - val_loss: 0.5480 - val_acc: 0.8184\n",
            "Epoch 47/50\n",
            "390/390 [==============================] - 28s 72ms/step - loss: 0.4628 - acc: 0.8417 - val_loss: 0.5923 - val_acc: 0.8065\n",
            "Epoch 48/50\n",
            "390/390 [==============================] - 28s 72ms/step - loss: 0.4609 - acc: 0.8445 - val_loss: 0.5354 - val_acc: 0.8201\n",
            "Epoch 49/50\n",
            "390/390 [==============================] - 28s 72ms/step - loss: 0.4450 - acc: 0.8454 - val_loss: 0.5815 - val_acc: 0.8081\n",
            "Epoch 50/50\n",
            "390/390 [==============================] - 28s 72ms/step - loss: 0.4438 - acc: 0.8458 - val_loss: 0.5847 - val_acc: 0.8103\n",
            "Model took 1406.65 seconds to train\n"
          ],
          "name": "stdout"
        },
        {
          "output_type": "display_data",
          "data": {
            "image/png": "[encoded data removed]",
            "text/plain": [
              "<Figure size 1080x360 with 2 Axes>"
            ]
          },
          "metadata": {
            "tags": []
          }
        },
        {
          "output_type": "stream",
          "text": [
            "Accuracy on test data is: 81.03\n"
          ],
          "name": "stdout"
        }
      ]
    },
    {
      "cell_type": "code",
      "metadata": {
        "id": "gdM2lghVEplx",
        "colab_type": "code",
        "colab": {}
      },
      "source": [
        ""
      ],
      "execution_count": 0,
      "outputs": []
    }
  ]
}